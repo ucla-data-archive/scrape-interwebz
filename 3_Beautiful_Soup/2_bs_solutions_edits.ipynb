{
 "cells": [
  {
   "cell_type": "markdown",
   "metadata": {},
   "source": [
    "# Webscraping with Beautiful Soup\n",
    "*****\n",
    "\n",
    "\n",
    "## Intro\n",
    "\n",
    "In this tutorial, we'll be scraping information on the state senators of Illinois, available [here](http://www.ilga.gov/senate), as well as the list of bills each senator has sponsored (e.g., [here](http://www.ilga.gov/senate/SenatorBills.asp?MemberID=1911&GA=98&Primary=True)."
   ]
  },
  {
   "cell_type": "markdown",
   "metadata": {},
   "source": [
    "## The Tools\n",
    "\n",
    "1. [Requests](http://docs.python-requests.org/en/latest/user/quickstart/)\n",
    "2. [Beautiful Soup](http://www.crummy.com/software/BeautifulSoup/bs4/doc/)"
   ]
  },
  {
   "cell_type": "code",
   "execution_count": 3,
   "metadata": {},
   "outputs": [],
   "source": [
    "# import required Python libraries/packages\n",
    "import requests # a Python library that enables you request objects via HTTP methods; GET, HEAD and POST; OPTIONS, PUT, DELETE, TRACE and CONNECT\n",
    "from bs4 import BeautifulSoup # Python library that allows you to grab text and information from HTML pages\n",
    "from datetime import datetime # can import a subset of a library, so you don't have to import the entire package; import bc of time takes to run\n",
    "import time\n",
    "import re\n",
    "import sys"
   ]
  },
  {
   "cell_type": "markdown",
   "metadata": {},
   "source": [
    "# Part 1: Using Beautiful Soup\n",
    "*****"
   ]
  },
  {
   "cell_type": "markdown",
   "metadata": {},
   "source": [
    "## 1.1 Make a Get Request and Read in HTML\n",
    "\n",
    "We use `requests` library to:\n",
    "1. make a GET request to the page\n",
    "2. read in the html of the page"
   ]
  },
  {
   "cell_type": "code",
   "execution_count": null,
   "metadata": {},
   "outputs": [],
   "source": [
    "# make a GET request\n",
    "req = requests.get('http://www.ilga.gov/senate/default.asp') # use get method of the Requests library\n",
    "# read the content of the server’s response"
   ]
  },
  {
   "cell_type": "code",
   "execution_count": 19,
   "metadata": {},
   "outputs": [
    {
     "data": {
      "text/plain": [
       "'ISO-8859-1'"
      ]
     },
     "execution_count": 19,
     "metadata": {},
     "output_type": "execute_result"
    }
   ],
   "source": [
    "req. # req is a request response object which includes attributes and methods"
   ]
  },
  {
   "cell_type": "code",
   "execution_count": 15,
   "metadata": {},
   "outputs": [],
   "source": [
    "src = req.text # creating an object called \"src\", takes result of req and outputs it as text string"
   ]
  },
  {
   "cell_type": "code",
   "execution_count": 13,
   "metadata": {},
   "outputs": [
    {
     "data": {
      "text/plain": [
       "'<html lang=\"en\"> \\r\\n<!-- Trigger/Open The Modal -->\\r\\n<div style=\"position: fixed; z-index: 999; top: 5; left: 600; background-color: navy; display: block\">\\r\\n<button id=\"myBtn\" style=\"color: white; background-color: navy; display: block\">Translate Website</button></div>\\r\\n<!-- The Modal -->\\r\\n<div id=\"myModal\" class=\"modal\" style=\"display: none\">\\r\\n  <!-- Modal content -->\\r\\n  <div class=\"modal-content\">\\r\\n      <div class=\"modal-header\"><h3>\\r\\n    <span class=\"close\">&times;</span></h3></div>    \\r\\n    <p>The Illinois General Assembly offers the Google Translate\\x99 service for visitor convenience. In no way should it be considered accurate as to the translation of any content herein.</p>\\n    <p>Visitors of the Illinois General Assembly website are encouraged to use other translation services available on the internet.</p>\\n    <p>The English language version is always the official and authoritative version of this website.</p>\\n    <p>NOTE: To return to the original English language version, select the \"Show Original\" button on the Google Translate\\x99 menu bar at the top of the window.</p>  \\r\\n      <div style=\"text-align: center\">Powered by <span style=\"white-space: nowrap\"><a class=\"goog-logo-link\" href=\"https://translate.google.com\" target=\"_blank\"><img width=\"37\" height=\"14\" style=\"padding-right: 3px;\" alt=\"Google Translate\" src=\"https://www.gstatic.com/images/branding/googlelogo/1x/googlelogo_color_42x16dp.png\">Translate</a></span></div>\\r\\n             <div style=\"text-align: center\" id=\"google_translate_element\"></div><br /><br />             \\r\\n       <div class=\"modal-footer\">\\r\\n          <h4></h4>\\r\\n      </div>\\r\\n  </div>\\r\\n</div>    \\r\\n\\r\\n<script type=\"text/javascript\">\\r\\n    function googleTranslateWidgetInit() {\\r\\n        new google.translate.TranslateElement({ pageLanguage: \\'en\\', layout: google.translate.TranslateElement.InlineLayout.SIMPLE, autoDisplay: false }, \\'google_translate_element\\');\\r\\n    }\\r\\n</script><script type=\"text/javascript\" src=\"//translate.google.com/translate_a/element.js?cb=googleTranslateWidgetInit\"></script> \\r\\n<script type=\"text/javascript\">\\r\\n    // Get the modal\\r\\n    var modal = document.getElementById(\\'myModal\\');\\r\\n    // Get the button that opens the modal\\r\\n    var btn = document.getElementById(\"myBtn\");\\r\\n    // Get the <span> element that closes the modal\\r\\n    var span = document.getElementsByClassName(\"close\")[0];\\r\\n    // When the user clicks on the button, open the modal \\r\\n    btn.onclick = function () {\\r\\n        modal.style.display = \"block\";\\r\\n    }\\r\\n    // When the user clicks on <span> (x), close the modal\\r\\n    span.onclick = function () {\\r\\n        modal.style.display = \"none\";\\r\\n    }\\r\\n    // When the user clicks anywhere outside of the modal, close it\\r\\n    window.onclick = function (event) {\\r\\n        if (event.target == modal) {\\r\\n            modal.style.display = \"none\";\\r\\n        }\\r\\n    }\\r\\n</script>\\r\\n\\r\\n<div id = \"divBackground\" style=\"position: fixed; z-index: 999; height: 100%; width: 100%; top: 0; left:0; background-color: Black; filter: alpha(opacity=60); opacity: 0.6; -moz-opacity: 0.8;display:none\">\\r\\n</div>\\r\\n\\r\\n\\r\\n<title>Illinois General Assembly - Senate Members</title>\\r\\n\\r\\n<head>\\r\\n\\r\\n<link rel=\"stylesheet\" type=\"text/css\" href=\"/style/lis.css\">\\r\\n<link rel=\"stylesheet\" type=\"text/css\" media=\"print\" href=\"/style/print.css\">\\r\\n<link rel=\"GILS\" href=\"http://info.er.usgs.gov/public/gils/gilsexec.html\">\\r\\n<link rel=\"Shortcut Icon\" HREF=\"/LISlogo1.ico\">\\r\\n<SCRIPT LANGUAGE=\"JavaScript\" TYPE=\"text/javascript\">\\n<!--\\n\\nif(window.event + \"\" == \"undefined\") event = null;\\nfunction HM_f_PopUp(){return false};\\nfunction HM_f_PopDown(){return false};\\npopUp = HM_f_PopUp;\\npopDown = HM_f_PopDown;\\n\\n//-->\\n</SCRIPT>\\r\\n  \\r\\n<!--\\r\\n    option explicit\\r\\n  -->\\r\\n<meta http-equiv=\"PICS-Label\" content=\\'(PICS-1.1 \"http://www.weburbia.com/safe/ratings.htm\" l r (s 0))\\'>\\r\\n<meta name=\"classification\" content=\"Government\">\\r\\n<meta name=\"distribution\" content=\"Global\">\\r\\n<meta name=\"rating\" content=\"General\">\\r\\n<meta name=\"contactState\" content=\"IL\">\\r\\n<meta name=\"siteTitle\" content=\"Illinois General Assembly\">\\r\\n<meta name=\"keywords\" content=\"Illinois General Assembly, Senate, Members\">\\r\\n<meta name=\"description\" content=\"\">\\r\\n<meta name=\"createDate\" content=\"5/29/2002\">\\r\\n<meta name=\"dateofLastModification\" content=\"5/29/2002\">\\r\\n<meta name=\"timePeriodTextual\" content=\"2001-2002\">\\r\\n<meta name=\"originalControlIdentifier\" content=\"0000001\">\\r\\n<meta name=\"medium\" content=\"Web Site\">\\r\\n<meta name=\"PermanentPublicAccess\" content=\"yes\">\\r\\n<meta name=\"agencyProgram\" content=\"Illinois General Assembly\">\\r\\n<meta name=\"linkage\" content=\"\">\\r\\n<meta name=\"language\" content=\"EN\">\\r\\n<meta name=\"govType\" content=\"State\">\\r\\n<meta name=\"contactName\" content=\"Legislative Information System\">\\r\\n<meta name=\"contactOrganization\" content=\"LIS Staff Services\">\\r\\n<meta name=\"contactStreetAddress1\" content=\"705 Stratton Office Building\">\\r\\n<meta name=\"contactStreetAddress2\" content=\"\">\\r\\n<meta name=\"contactCity\" content=\"Springfield\">\\r\\n<meta name=\"contactZipcode\" content=\"62706\">\\r\\n<meta name=\"contactNetworkAddress\" content=\"webmaster@ilga.gov\">\\r\\n<meta name=\"contactPhoneNumber\" content=\"217-782-3944\">\\r\\n<meta name=\"contactFaxNumber\" content=\"217-524-6059\">\\r\\n<meta name=\"originatorJurisdiction\" content=\"State Of Illinois\">\\r\\n<meta name=\"originatorOffice\" content=\"Illinois General Assembly\">\\r\\n<meta name=\"originatorDepartment\" content=\"Legislative Information System\">\\r\\n<meta name=\"originatorDivision\" content=\"Web Staff\">\\r\\n<meta name=\"originatorSection\" content=\"\">\\r\\n<meta name=\"Classification\" content=\"Government--State Government--Illinois General Assembly\">\\r\\n\\r\\n\\r\\n</head>\\r\\n\\r\\n<!-- Begin Body Start -->\\r\\n\\r\\n\\r\\n<body  bgcolor=\"#FFFFFF\" text=\"#000000\" link=\"#3366FF\" vlink=\"#663366\" alink=\"#9933FF\" topmargin=\"0\" leftmargin=\"0\">\\r\\n<script LANGUAGE=\"JavaScript1.2\" SRC=\"/include/script/HM_Loader.js\" TYPE=\"text/javascript\"></script>\\r\\n\\r\\n<table align=\"left\" border=\"0\" width=\"100%\" cellpadding=\"0\" cellspacing=\"0\">\\r\\n<tr id=\"Senate\">\\r\\n    <td colspan=\"4\"><a href=\"/default.asp\"><img border=\"0\" src=\"/images/logo_sm.gif\" alt=\"Illinois General Assembly\" width=\"462\" height=\"49\"></a>\\r\\n    </td>\\r\\n    </tr>\\r\\n    <tr>\\r\\n      <td colspan=\"4\" valign=\"top\" align=\"left\">\\r\\n        <table class=\"mainmenu\" border=\"0\" width=\"100%\" cellspacing=\"0\">\\r\\n<tr id=\"Senate\">\\r\\n            <td height=\"25\" nowrap>&nbsp;&nbsp;<a class=\"mainmenu\" href=\"/\">Home</a>&nbsp;&nbsp;</td>\\r\\n            <td height=\"25\" nowrap>&nbsp;&nbsp;<a class=\"mainmenu\" onMouseOver=\"HM_f_PopUp(\\'elMenu1\\',event)\" onMouseOut=\"HM_f_PopDown(\\'elMenu1\\')\" onfocus=\"HM_f_PopUp(\\'elMenu1\\',event)\" onblur=\"HM_f_PopDown(\\'elMenu1\\')\" href=\"/legislation/\">Legislation &amp; Laws</a>&nbsp;&nbsp;</td>\\r\\n            <td height=\"25\" nowrap>&nbsp;&nbsp;<a class=\"mainmenu\" onMouseOver=\"HM_f_PopUp(\\'elMenu3\\',event)\" onMouseOut=\"HM_f_PopDown(\\'elMenu3\\')\" onfocus=\"HM_f_PopUp(\\'elMenu3\\',event)\" onblur=\"HM_f_PopDown(\\'elMenu3\\')\" href=\"/senate/\">Senate</a>&nbsp;&nbsp;</td>\\r\\n            <td height=\"25\" nowrap>&nbsp;&nbsp;<a class=\"mainmenu\" onMouseOver=\"HM_f_PopUp(\\'elMenu2\\',event)\" onMouseOut=\"HM_f_PopDown(\\'elMenu2\\')\" onfocus=\"HM_f_PopUp(\\'elMenu2\\',event)\" onblur=\"HM_f_PopDown(\\'elMenu2\\')\" href=\"/house/\">House</a>&nbsp;&nbsp;</td>\\r\\n            <td height=\"25\" nowrap>&nbsp;&nbsp;<a class=\"mainmenu\" onMouseOver=\"HM_f_PopUp(\\'elMenu4\\',event)\" onMouseOut=\"HM_f_PopDown(\\'elMenu4\\')\" onfocus=\"HM_f_PopUp(\\'elMenu4\\',event)\" onblur=\"HM_f_PopDown(\\'elMenu4\\')\" href=\"/mylegislation/\">My Legislation</a>&nbsp;&nbsp;</td>\\r\\n            <td height=\"25\" nowrap>&nbsp;&nbsp;<a class=\"mainmenu\" href=\"/sitemap.asp\">Site Map</a>&nbsp;&nbsp;</td>\\r\\n            <td align=\"right\" height=\"25\" width=\"99%\">\\r\\n            &nbsp;\\r\\n            </td>\\r\\n          </tr>\\r\\n        </table>\\r\\n      </td>\\r\\n    </tr>\\r\\n    <tr>\\r\\n     <td valign=\"top\"><br>\\r\\n<table class=\"sidemenu\" border=\"0\" width=\"140\" cellpadding=\"0\" cellspacing=\"2\" id=\"Senate\"><tr><td class=\"sidemenu\" nowrap ><b><a href=\"/senate/default.asp\" class=\"sidemenu\">&nbsp;&nbsp;Members&nbsp;&nbsp;</a></b></td></tr><tr><td class=\"sidemenu\" nowrap ><a href=\"/senate/committees/default.asp\" class=\"sidemenu\">&nbsp;&nbsp;Committees&nbsp;&nbsp;</a></td></tr><tr><td class=\"sidemenu\" nowrap ><a href=\"/senate/schedules/default.asp\" class=\"sidemenu\">&nbsp;&nbsp;Schedules&nbsp;&nbsp;</a></td></tr><tr><td class=\"sidemenu\" nowrap ><a href=\"/senate/journals/default.asp\" class=\"sidemenu\">&nbsp;&nbsp;Journals&nbsp;&nbsp;</a></td></tr><tr><td class=\"sidemenu\" nowrap ><a href=\"/senate/transcripts/default.asp\" class=\"sidemenu\">&nbsp;&nbsp;Transcripts&nbsp;&nbsp;</a></td></tr><tr><td class=\"sidemenu\" nowrap ><a href=\"/senate/rules.asp\" class=\"sidemenu\">&nbsp;&nbsp;Rules&nbsp;&nbsp;</a></td></tr><tr><td class=\"sidemenu\" nowrap ><a href=\"/senateaudvid.asp\" class=\"sidemenu\">&nbsp;&nbsp;Live Audio/Video&nbsp;&nbsp;</a></td></tr><td class=\"sidemenu\" nowrap width=\"90%\"></td></tr></table></td><td width=\"1\" class=\"verticalline\"><img src=\"/images/1ptrans.gif\" WIDTH=\"1\" HEIGHT=\"1\"></td><td valign=\"top\" align=\"left\" width=\"99%\"><table align=\"left\" border=\"0\" width=\"490\"><tr><td width=\"100%\"><br>\\r\\n<!-- End Body Start -->\\r\\n\\r\\n<!--Begin Custom Page Content -->\\r\\n<form name=\"member\" action=\"default.asp\" method=\"get\">\\r\\n<input type=\"hidden\" name=\"sortby\" value=\"\">\\r\\n<input type=\"hidden\" name=\"sortbyformer\" value=\"\">\\r\\n<input type=\"hidden\" name=\"sortbyGA\" value=\"\">\\r\\n<table border=\"0\" width=\"100%\" cellspacing=\"1\" cellpadding=\"3\">\\r\\n<tr><td colspan=5>\\r\\n<span class=\"heading\">Current Senate Members</span>\\r\\n<span class=\"italics\">&nbsp;&nbsp;101st  General Assembly</span><br>\\r\\n<!-- 3/2/09 temp comment out until fixed for GA specific-->\\r\\n<!-- add 97th ga currently no info -->\\r\\n<a href=\"101st_Senate_Leadership.pdf\">Leadership</a>&nbsp;<a href=\"101st_Senate_Officers.pdf\">Officers</a>&nbsp;<a href=\"101st_Senate_Seating_Chart.pdf\">Senate Seating Chart</a>&nbsp;&nbsp;<span class=\"content\"><b>Democrats:</b> 40&nbsp;&nbsp; <b>Republicans:</b> 19</span><br>\\r\\n\\r\\n</td></tr> \\r\\n    <tr>\\r\\n      <td width=\"45%\" class=\"header\"><a class=\"filetab\" href=\"javascript:Sort(\\'LastName\\',\\'\\',101);\" title=\"Sort by Senator\">Senator</a></font></td>\\r\\n      <td width=\"15%\" align=\"center\" class=\"header\">Bills</font></td>\\r\\n      <td width=\"10%\" align=\"center\" class=\"header\">Committees</font></td>\\r\\n      <td width=\"15%\" align=\"center\" class=\"header\"><a class=\"filetab\" href=\"javascript:Sort(\\'DistrictNumber\\',\\'\\',101);\" title=\"Sort by District\">District</a></font></td>\\r\\n      <td width=\"15%\" align=\"center\" class=\"header\"><a class=\"filetab\" href=\"javascript:Sort(\\'Party\\',\\'\\',101);\"  title=\"Sort by Party\">Party</a></font></td>\\r\\n    </tr>\\r\\n    \\r\\n   <tr><td width=\"40%\" bgcolor=\"white\" class=\"detail\"><a class=\"notranslate\" href=\"/senate/Senator.asp?GA=101&MemberID=2664\">Neil Anderson</a></font></td><td width=\"15%\" bgcolor=\"white\" align=\"center\" class=\"detail\"><a href=\"SenatorBills.asp?MemberID=2664\">Bills</a></font></td><td width=\"15%\" bgcolor=\"white\" align=\"center\" class=\"detail\"><a href=\"SenCommittees.asp?MemberID=2664\">Committees</a></font></td><td width=\"15%\" bgcolor=\"white\" align=\"center\" class=\"detail\">36</font></td><td width=\"15%\" bgcolor=\"white\" align=\"center\" class=\"detail\">R</font></td></tr><tr><td width=\"40%\" bgcolor=\"EBEBEB\" class=\"detail\"><a class=\"notranslate\" href=\"/senate/Senator.asp?GA=101&MemberID=2673\">Omar Aquino</a></font></td><td width=\"15%\" bgcolor=\"EBEBEB\" align=\"center\" class=\"detail\"><a href=\"SenatorBills.asp?MemberID=2673\">Bills</a></font></td><td width=\"15%\" bgcolor=\"EBEBEB\" align=\"center\" class=\"detail\"><a href=\"SenCommittees.asp?MemberID=2673\">Committees</a></font></td><td width=\"15%\" bgcolor=\"EBEBEB\" align=\"center\" class=\"detail\">2</font></td><td width=\"15%\" bgcolor=\"EBEBEB\" align=\"center\" class=\"detail\">D</font></td></tr><tr><td width=\"40%\" bgcolor=\"white\" class=\"detail\"><a class=\"notranslate\" href=\"/senate/Senator.asp?GA=101&MemberID=2608\">Jason A. Barickman</a></font></td><td width=\"15%\" bgcolor=\"white\" align=\"center\" class=\"detail\"><a href=\"SenatorBills.asp?MemberID=2608\">Bills</a></font></td><td width=\"15%\" bgcolor=\"white\" align=\"center\" class=\"detail\"><a href=\"SenCommittees.asp?MemberID=2608\">Committees</a></font></td><td width=\"15%\" bgcolor=\"white\" align=\"center\" class=\"detail\">53</font></td><td width=\"15%\" bgcolor=\"white\" align=\"center\" class=\"detail\">R</font></td></tr><tr><td width=\"40%\" bgcolor=\"EBEBEB\" class=\"detail\"><a class=\"notranslate\" href=\"/senate/Senator.asp?GA=101&MemberID=2721\">Christopher Belt</a></font></td><td width=\"15%\" bgcolor=\"EBEBEB\" align=\"center\" class=\"detail\"><a href=\"SenatorBills.asp?MemberID=2721\">Bills</a></font></td><td width=\"15%\" bgcolor=\"EBEBEB\" align=\"center\" class=\"detail\"><a href=\"SenCommittees.asp?MemberID=2721\">Committees</a></font></td><td width=\"15%\" bgcolor=\"EBEBEB\" align=\"center\" class=\"detail\">57</font></td><td width=\"15%\" bgcolor=\"EBEBEB\" align=\"center\" class=\"detail\">D</font></td></tr><tr><td width=\"40%\" bgcolor=\"white\" class=\"detail\"><a class=\"notranslate\" href=\"/senate/Senator.asp?GA=101&MemberID=2665\">Scott M. Bennett</a></font></td><td width=\"15%\" bgcolor=\"white\" align=\"center\" class=\"detail\"><a href=\"SenatorBills.asp?MemberID=2665\">Bills</a></font></td><td width=\"15%\" bgcolor=\"white\" align=\"center\" class=\"detail\"><a href=\"SenCommittees.asp?MemberID=2665\">Committees</a></font></td><td width=\"15%\" bgcolor=\"white\" align=\"center\" class=\"detail\">52</font></td><td width=\"15%\" bgcolor=\"white\" align=\"center\" class=\"detail\">D</font></td></tr><tr><td width=\"40%\" bgcolor=\"EBEBEB\" class=\"detail\"><a class=\"notranslate\" href=\"/senate/Senator.asp?GA=101&MemberID=2610\">Jennifer Bertino-Tarrant</a></font></td><td width=\"15%\" bgcolor=\"EBEBEB\" align=\"center\" class=\"detail\"><a href=\"SenatorBills.asp?MemberID=2610\">Bills</a></font></td><td width=\"15%\" bgcolor=\"EBEBEB\" align=\"center\" class=\"detail\"><a href=\"SenCommittees.asp?MemberID=2610\">Committees</a></font></td><td width=\"15%\" bgcolor=\"EBEBEB\" align=\"center\" class=\"detail\">49</font></td><td width=\"15%\" bgcolor=\"EBEBEB\" align=\"center\" class=\"detail\">D</font></td></tr><tr><td width=\"40%\" bgcolor=\"white\" class=\"detail\"><a class=\"notranslate\" href=\"/senate/Senator.asp?GA=101&MemberID=2542\">William E. Brady</a></font></td><td width=\"15%\" bgcolor=\"white\" align=\"center\" class=\"detail\"><a href=\"SenatorBills.asp?MemberID=2542\">Bills</a></font></td><td width=\"15%\" bgcolor=\"white\" align=\"center\" class=\"detail\"><a href=\"SenCommittees.asp?MemberID=2542\">Committees</a></font></td><td width=\"15%\" bgcolor=\"white\" align=\"center\" class=\"detail\">44</font></td><td width=\"15%\" bgcolor=\"white\" align=\"center\" class=\"detail\">R</font></td></tr><tr><td width=\"40%\" bgcolor=\"EBEBEB\" class=\"detail\"><a class=\"notranslate\" href=\"/senate/Senator.asp?GA=101&MemberID=2611\">Melinda Bush</a></font></td><td width=\"15%\" bgcolor=\"EBEBEB\" align=\"center\" class=\"detail\"><a href=\"SenatorBills.asp?MemberID=2611\">Bills</a></font></td><td width=\"15%\" bgcolor=\"EBEBEB\" align=\"center\" class=\"detail\"><a href=\"SenCommittees.asp?MemberID=2611\">Committees</a></font></td><td width=\"15%\" bgcolor=\"EBEBEB\" align=\"center\" class=\"detail\">31</font></td><td width=\"15%\" bgcolor=\"EBEBEB\" align=\"center\" class=\"detail\">D</font></td></tr><tr><td width=\"40%\" bgcolor=\"white\" class=\"detail\"><a class=\"notranslate\" href=\"/senate/Senator.asp?GA=101&MemberID=2677\">Cristina Castro</a></font></td><td width=\"15%\" bgcolor=\"white\" align=\"center\" class=\"detail\"><a href=\"SenatorBills.asp?MemberID=2677\">Bills</a></font></td><td width=\"15%\" bgcolor=\"white\" align=\"center\" class=\"detail\"><a href=\"SenCommittees.asp?MemberID=2677\">Committees</a></font></td><td width=\"15%\" bgcolor=\"white\" align=\"center\" class=\"detail\">22</font></td><td width=\"15%\" bgcolor=\"white\" align=\"center\" class=\"detail\">D</font></td></tr><tr><td width=\"40%\" bgcolor=\"EBEBEB\" class=\"detail\"><a class=\"notranslate\" href=\"/senate/Senator.asp?GA=101&MemberID=2549\">Jacqueline Y. Collins</a></font></td><td width=\"15%\" bgcolor=\"EBEBEB\" align=\"center\" class=\"detail\"><a href=\"SenatorBills.asp?MemberID=2549\">Bills</a></font></td><td width=\"15%\" bgcolor=\"EBEBEB\" align=\"center\" class=\"detail\"><a href=\"SenCommittees.asp?MemberID=2549\">Committees</a></font></td><td width=\"15%\" bgcolor=\"EBEBEB\" align=\"center\" class=\"detail\">16</font></td><td width=\"15%\" bgcolor=\"EBEBEB\" align=\"center\" class=\"detail\">D</font></td></tr><tr><td width=\"40%\" bgcolor=\"white\" class=\"detail\"><a class=\"notranslate\" href=\"/senate/Senator.asp?GA=101&MemberID=2722\">Rachelle Crowe</a></font></td><td width=\"15%\" bgcolor=\"white\" align=\"center\" class=\"detail\"><a href=\"SenatorBills.asp?MemberID=2722\">Bills</a></font></td><td width=\"15%\" bgcolor=\"white\" align=\"center\" class=\"detail\"><a href=\"SenCommittees.asp?MemberID=2722\">Committees</a></font></td><td width=\"15%\" bgcolor=\"white\" align=\"center\" class=\"detail\">56</font></td><td width=\"15%\" bgcolor=\"white\" align=\"center\" class=\"detail\">D</font></td></tr><tr><td width=\"40%\" bgcolor=\"EBEBEB\" class=\"detail\"><a class=\"notranslate\" href=\"/senate/Senator.asp?GA=101&MemberID=2534\">John J. Cullerton</a></font></td><td width=\"15%\" bgcolor=\"EBEBEB\" align=\"center\" class=\"detail\"><a href=\"SenatorBills.asp?MemberID=2534\">Bills</a></font></td><td width=\"15%\" bgcolor=\"EBEBEB\" align=\"center\" class=\"detail\"><a href=\"SenCommittees.asp?MemberID=2534\">Committees</a></font></td><td width=\"15%\" bgcolor=\"EBEBEB\" align=\"center\" class=\"detail\">6</font></td><td width=\"15%\" bgcolor=\"EBEBEB\" align=\"center\" class=\"detail\">D</font></td></tr><tr><td width=\"40%\" bgcolor=\"white\" class=\"detail\"><a class=\"notranslate\" href=\"/senate/Senator.asp?GA=101&MemberID=2613\">Thomas Cullerton</a></font></td><td width=\"15%\" bgcolor=\"white\" align=\"center\" class=\"detail\"><a href=\"SenatorBills.asp?MemberID=2613\">Bills</a></font></td><td width=\"15%\" bgcolor=\"white\" align=\"center\" class=\"detail\"><a href=\"SenCommittees.asp?MemberID=2613\">Committees</a></font></td><td width=\"15%\" bgcolor=\"white\" align=\"center\" class=\"detail\">23</font></td><td width=\"15%\" bgcolor=\"white\" align=\"center\" class=\"detail\">D</font></td></tr><tr><td width=\"40%\" bgcolor=\"EBEBEB\" class=\"detail\"><a class=\"notranslate\" href=\"/senate/Senator.asp?GA=101&MemberID=2614\">Bill Cunningham</a></font></td><td width=\"15%\" bgcolor=\"EBEBEB\" align=\"center\" class=\"detail\"><a href=\"SenatorBills.asp?MemberID=2614\">Bills</a></font></td><td width=\"15%\" bgcolor=\"EBEBEB\" align=\"center\" class=\"detail\"><a href=\"SenCommittees.asp?MemberID=2614\">Committees</a></font></td><td width=\"15%\" bgcolor=\"EBEBEB\" align=\"center\" class=\"detail\">18</font></td><td width=\"15%\" bgcolor=\"EBEBEB\" align=\"center\" class=\"detail\">D</font></td></tr><tr><td width=\"40%\" bgcolor=\"white\" class=\"detail\"><a class=\"notranslate\" href=\"/senate/Senator.asp?GA=101&MemberID=2699\">John F. Curran</a></font></td><td width=\"15%\" bgcolor=\"white\" align=\"center\" class=\"detail\"><a href=\"SenatorBills.asp?MemberID=2699\">Bills</a></font></td><td width=\"15%\" bgcolor=\"white\" align=\"center\" class=\"detail\"><a href=\"SenCommittees.asp?MemberID=2699\">Committees</a></font></td><td width=\"15%\" bgcolor=\"white\" align=\"center\" class=\"detail\">41</font></td><td width=\"15%\" bgcolor=\"white\" align=\"center\" class=\"detail\">R</font></td></tr><tr><td width=\"40%\" bgcolor=\"EBEBEB\" class=\"detail\"><a class=\"notranslate\" href=\"/senate/Senator.asp?GA=101&MemberID=2709\">Donald P. DeWitte</a></font></td><td width=\"15%\" bgcolor=\"EBEBEB\" align=\"center\" class=\"detail\"><a href=\"SenatorBills.asp?MemberID=2709\">Bills</a></font></td><td width=\"15%\" bgcolor=\"EBEBEB\" align=\"center\" class=\"detail\"><a href=\"SenCommittees.asp?MemberID=2709\">Committees</a></font></td><td width=\"15%\" bgcolor=\"EBEBEB\" align=\"center\" class=\"detail\">33</font></td><td width=\"15%\" bgcolor=\"EBEBEB\" align=\"center\" class=\"detail\">R</font></td></tr><tr><td width=\"40%\" bgcolor=\"white\" class=\"detail\"><a class=\"notranslate\" href=\"/senate/Senator.asp?GA=101&MemberID=2725\">Laura Ellman</a></font></td><td width=\"15%\" bgcolor=\"white\" align=\"center\" class=\"detail\"><a href=\"SenatorBills.asp?MemberID=2725\">Bills</a></font></td><td width=\"15%\" bgcolor=\"white\" align=\"center\" class=\"detail\"><a href=\"SenCommittees.asp?MemberID=2725\">Committees</a></font></td><td width=\"15%\" bgcolor=\"white\" align=\"center\" class=\"detail\">21</font></td><td width=\"15%\" bgcolor=\"white\" align=\"center\" class=\"detail\">D</font></td></tr><tr><td width=\"40%\" bgcolor=\"EBEBEB\" class=\"detail\"><a class=\"notranslate\" href=\"/senate/Senator.asp?GA=101&MemberID=2724\">Laura Fine</a></font></td><td width=\"15%\" bgcolor=\"EBEBEB\" align=\"center\" class=\"detail\"><a href=\"SenatorBills.asp?MemberID=2724\">Bills</a></font></td><td width=\"15%\" bgcolor=\"EBEBEB\" align=\"center\" class=\"detail\"><a href=\"SenCommittees.asp?MemberID=2724\">Committees</a></font></td><td width=\"15%\" bgcolor=\"EBEBEB\" align=\"center\" class=\"detail\">9</font></td><td width=\"15%\" bgcolor=\"EBEBEB\" align=\"center\" class=\"detail\">D</font></td></tr><tr><td width=\"40%\" bgcolor=\"white\" class=\"detail\"><a class=\"notranslate\" href=\"/senate/Senator.asp?GA=101&MemberID=2678\">Dale Fowler</a></font></td><td width=\"15%\" bgcolor=\"white\" align=\"center\" class=\"detail\"><a href=\"SenatorBills.asp?MemberID=2678\">Bills</a></font></td><td width=\"15%\" bgcolor=\"white\" align=\"center\" class=\"detail\"><a href=\"SenCommittees.asp?MemberID=2678\">Committees</a></font></td><td width=\"15%\" bgcolor=\"white\" align=\"center\" class=\"detail\">59</font></td><td width=\"15%\" bgcolor=\"white\" align=\"center\" class=\"detail\">R</font></td></tr><tr><td width=\"40%\" bgcolor=\"EBEBEB\" class=\"detail\"><a class=\"notranslate\" href=\"/senate/Senator.asp?GA=101&MemberID=2726\">Ann Gillespie</a></font></td><td width=\"15%\" bgcolor=\"EBEBEB\" align=\"center\" class=\"detail\"><a href=\"SenatorBills.asp?MemberID=2726\">Bills</a></font></td><td width=\"15%\" bgcolor=\"EBEBEB\" align=\"center\" class=\"detail\"><a href=\"SenCommittees.asp?MemberID=2726\">Committees</a></font></td><td width=\"15%\" bgcolor=\"EBEBEB\" align=\"center\" class=\"detail\">27</font></td><td width=\"15%\" bgcolor=\"EBEBEB\" align=\"center\" class=\"detail\">D</font></td></tr><tr><td width=\"40%\" bgcolor=\"white\" class=\"detail\"><a class=\"notranslate\" href=\"/senate/Senator.asp?GA=101&MemberID=2727\">Suzy Glowiak</a></font></td><td width=\"15%\" bgcolor=\"white\" align=\"center\" class=\"detail\"><a href=\"SenatorBills.asp?MemberID=2727\">Bills</a></font></td><td width=\"15%\" bgcolor=\"white\" align=\"center\" class=\"detail\"><a href=\"SenCommittees.asp?MemberID=2727\">Committees</a></font></td><td width=\"15%\" bgcolor=\"white\" align=\"center\" class=\"detail\">24</font></td><td width=\"15%\" bgcolor=\"white\" align=\"center\" class=\"detail\">D</font></td></tr><tr><td width=\"40%\" bgcolor=\"EBEBEB\" class=\"detail\"><a class=\"notranslate\" href=\"/senate/Senator.asp?GA=101&MemberID=2551\">Don Harmon</a></font></td><td width=\"15%\" bgcolor=\"EBEBEB\" align=\"center\" class=\"detail\"><a href=\"SenatorBills.asp?MemberID=2551\">Bills</a></font></td><td width=\"15%\" bgcolor=\"EBEBEB\" align=\"center\" class=\"detail\"><a href=\"SenCommittees.asp?MemberID=2551\">Committees</a></font></td><td width=\"15%\" bgcolor=\"EBEBEB\" align=\"center\" class=\"detail\">39</font></td><td width=\"15%\" bgcolor=\"EBEBEB\" align=\"center\" class=\"detail\">D</font></td></tr><tr><td width=\"40%\" bgcolor=\"white\" class=\"detail\"><a class=\"notranslate\" href=\"/senate/Senator.asp?GA=101&MemberID=2615\">Napoleon Harris, III</a></font></td><td width=\"15%\" bgcolor=\"white\" align=\"center\" class=\"detail\"><a href=\"SenatorBills.asp?MemberID=2615\">Bills</a></font></td><td width=\"15%\" bgcolor=\"white\" align=\"center\" class=\"detail\"><a href=\"SenCommittees.asp?MemberID=2615\">Committees</a></font></td><td width=\"15%\" bgcolor=\"white\" align=\"center\" class=\"detail\">15</font></td><td width=\"15%\" bgcolor=\"white\" align=\"center\" class=\"detail\">D</font></td></tr><tr><td width=\"40%\" bgcolor=\"EBEBEB\" class=\"detail\"><a class=\"notranslate\" href=\"/senate/Senator.asp?GA=101&MemberID=2616\">Michael E. Hastings</a></font></td><td width=\"15%\" bgcolor=\"EBEBEB\" align=\"center\" class=\"detail\"><a href=\"SenatorBills.asp?MemberID=2616\">Bills</a></font></td><td width=\"15%\" bgcolor=\"EBEBEB\" align=\"center\" class=\"detail\"><a href=\"SenCommittees.asp?MemberID=2616\">Committees</a></font></td><td width=\"15%\" bgcolor=\"EBEBEB\" align=\"center\" class=\"detail\">19</font></td><td width=\"15%\" bgcolor=\"EBEBEB\" align=\"center\" class=\"detail\">D</font></td></tr><tr><td width=\"40%\" bgcolor=\"white\" class=\"detail\"><a class=\"notranslate\" href=\"/senate/Senator.asp?GA=101&MemberID=2564\">Linda Holmes</a></font></td><td width=\"15%\" bgcolor=\"white\" align=\"center\" class=\"detail\"><a href=\"SenatorBills.asp?MemberID=2564\">Bills</a></font></td><td width=\"15%\" bgcolor=\"white\" align=\"center\" class=\"detail\"><a href=\"SenCommittees.asp?MemberID=2564\">Committees</a></font></td><td width=\"15%\" bgcolor=\"white\" align=\"center\" class=\"detail\">42</font></td><td width=\"15%\" bgcolor=\"white\" align=\"center\" class=\"detail\">D</font></td></tr><tr><td width=\"40%\" bgcolor=\"EBEBEB\" class=\"detail\"><a class=\"notranslate\" href=\"/senate/Senator.asp?GA=101&MemberID=2554\">Mattie Hunter</a></font></td><td width=\"15%\" bgcolor=\"EBEBEB\" align=\"center\" class=\"detail\"><a href=\"SenatorBills.asp?MemberID=2554\">Bills</a></font></td><td width=\"15%\" bgcolor=\"EBEBEB\" align=\"center\" class=\"detail\"><a href=\"SenCommittees.asp?MemberID=2554\">Committees</a></font></td><td width=\"15%\" bgcolor=\"EBEBEB\" align=\"center\" class=\"detail\">3</font></td><td width=\"15%\" bgcolor=\"EBEBEB\" align=\"center\" class=\"detail\">D</font></td></tr><tr><td width=\"40%\" bgcolor=\"white\" class=\"detail\"><a class=\"notranslate\" href=\"/senate/Senator.asp?GA=101&MemberID=2578\">Toi W. Hutchinson</a></font></td><td width=\"15%\" bgcolor=\"white\" align=\"center\" class=\"detail\"><a href=\"SenatorBills.asp?MemberID=2578\">Bills</a></font></td><td width=\"15%\" bgcolor=\"white\" align=\"center\" class=\"detail\"><a href=\"SenCommittees.asp?MemberID=2578\">Committees</a></font></td><td width=\"15%\" bgcolor=\"white\" align=\"center\" class=\"detail\">40</font></td><td width=\"15%\" bgcolor=\"white\" align=\"center\" class=\"detail\">D</font></td></tr><tr><td width=\"40%\" bgcolor=\"EBEBEB\" class=\"detail\"><a class=\"notranslate\" href=\"/senate/Senator.asp?GA=101&MemberID=2579\">Emil Jones, III</a></font></td><td width=\"15%\" bgcolor=\"EBEBEB\" align=\"center\" class=\"detail\"><a href=\"SenatorBills.asp?MemberID=2579\">Bills</a></font></td><td width=\"15%\" bgcolor=\"EBEBEB\" align=\"center\" class=\"detail\"><a href=\"SenCommittees.asp?MemberID=2579\">Committees</a></font></td><td width=\"15%\" bgcolor=\"EBEBEB\" align=\"center\" class=\"detail\">14</font></td><td width=\"15%\" bgcolor=\"EBEBEB\" align=\"center\" class=\"detail\">D</font></td></tr><tr><td width=\"40%\" bgcolor=\"white\" class=\"detail\"><a class=\"notranslate\" href=\"/senate/Senator.asp?GA=101&MemberID=2565\">David Koehler</a></font></td><td width=\"15%\" bgcolor=\"white\" align=\"center\" class=\"detail\"><a href=\"SenatorBills.asp?MemberID=2565\">Bills</a></font></td><td width=\"15%\" bgcolor=\"white\" align=\"center\" class=\"detail\"><a href=\"SenCommittees.asp?MemberID=2565\">Committees</a></font></td><td width=\"15%\" bgcolor=\"white\" align=\"center\" class=\"detail\">46</font></td><td width=\"15%\" bgcolor=\"white\" align=\"center\" class=\"detail\">D</font></td></tr><tr><td width=\"40%\" bgcolor=\"EBEBEB\" class=\"detail\"><a class=\"notranslate\" href=\"/senate/Senator.asp?GA=101&MemberID=2600\">Steven M. Landek</a></font></td><td width=\"15%\" bgcolor=\"EBEBEB\" align=\"center\" class=\"detail\"><a href=\"SenatorBills.asp?MemberID=2600\">Bills</a></font></td><td width=\"15%\" bgcolor=\"EBEBEB\" align=\"center\" class=\"detail\"><a href=\"SenCommittees.asp?MemberID=2600\">Committees</a></font></td><td width=\"15%\" bgcolor=\"EBEBEB\" align=\"center\" class=\"detail\">12</font></td><td width=\"15%\" bgcolor=\"EBEBEB\" align=\"center\" class=\"detail\">D</font></td></tr><tr><td width=\"40%\" bgcolor=\"white\" class=\"detail\"><a class=\"notranslate\" href=\"/senate/Senator.asp?GA=101&MemberID=2535\">Kimberly A. Lightford</a></font></td><td width=\"15%\" bgcolor=\"white\" align=\"center\" class=\"detail\"><a href=\"SenatorBills.asp?MemberID=2535\">Bills</a></font></td><td width=\"15%\" bgcolor=\"white\" align=\"center\" class=\"detail\"><a href=\"SenCommittees.asp?MemberID=2535\">Committees</a></font></td><td width=\"15%\" bgcolor=\"white\" align=\"center\" class=\"detail\">4</font></td><td width=\"15%\" bgcolor=\"white\" align=\"center\" class=\"detail\">D</font></td></tr><tr><td width=\"40%\" bgcolor=\"EBEBEB\" class=\"detail\"><a class=\"notranslate\" href=\"/senate/Senator.asp?GA=101&MemberID=2536\">Terry Link</a></font></td><td width=\"15%\" bgcolor=\"EBEBEB\" align=\"center\" class=\"detail\"><a href=\"SenatorBills.asp?MemberID=2536\">Bills</a></font></td><td width=\"15%\" bgcolor=\"EBEBEB\" align=\"center\" class=\"detail\"><a href=\"SenCommittees.asp?MemberID=2536\">Committees</a></font></td><td width=\"15%\" bgcolor=\"EBEBEB\" align=\"center\" class=\"detail\">30</font></td><td width=\"15%\" bgcolor=\"EBEBEB\" align=\"center\" class=\"detail\">D</font></td></tr><tr><td width=\"40%\" bgcolor=\"white\" class=\"detail\"><a class=\"notranslate\" href=\"/senate/Senator.asp?GA=101&MemberID=2617\">Andy Manar</a></font></td><td width=\"15%\" bgcolor=\"white\" align=\"center\" class=\"detail\"><a href=\"SenatorBills.asp?MemberID=2617\">Bills</a></font></td><td width=\"15%\" bgcolor=\"white\" align=\"center\" class=\"detail\"><a href=\"SenCommittees.asp?MemberID=2617\">Committees</a></font></td><td width=\"15%\" bgcolor=\"white\" align=\"center\" class=\"detail\">48</font></td><td width=\"15%\" bgcolor=\"white\" align=\"center\" class=\"detail\">D</font></td></tr><tr><td width=\"40%\" bgcolor=\"EBEBEB\" class=\"detail\"><a class=\"notranslate\" href=\"/senate/Senator.asp?GA=101&MemberID=2550\">Iris Y. Martinez</a></font></td><td width=\"15%\" bgcolor=\"EBEBEB\" align=\"center\" class=\"detail\"><a href=\"SenatorBills.asp?MemberID=2550\">Bills</a></font></td><td width=\"15%\" bgcolor=\"EBEBEB\" align=\"center\" class=\"detail\"><a href=\"SenCommittees.asp?MemberID=2550\">Committees</a></font></td><td width=\"15%\" bgcolor=\"EBEBEB\" align=\"center\" class=\"detail\">20</font></td><td width=\"15%\" bgcolor=\"EBEBEB\" align=\"center\" class=\"detail\">D</font></td></tr><tr><td width=\"40%\" bgcolor=\"white\" class=\"detail\"><a class=\"notranslate\" href=\"/senate/Senator.asp?GA=101&MemberID=2728\">Steve McClure</a></font></td><td width=\"15%\" bgcolor=\"white\" align=\"center\" class=\"detail\"><a href=\"SenatorBills.asp?MemberID=2728\">Bills</a></font></td><td width=\"15%\" bgcolor=\"white\" align=\"center\" class=\"detail\"><a href=\"SenCommittees.asp?MemberID=2728\">Committees</a></font></td><td width=\"15%\" bgcolor=\"white\" align=\"center\" class=\"detail\">50</font></td><td width=\"15%\" bgcolor=\"white\" align=\"center\" class=\"detail\">R</font></td></tr><tr><td width=\"40%\" bgcolor=\"EBEBEB\" class=\"detail\"><a class=\"notranslate\" href=\"/senate/Senator.asp?GA=101&MemberID=2672\">Dan McConchie</a></font></td><td width=\"15%\" bgcolor=\"EBEBEB\" align=\"center\" class=\"detail\"><a href=\"SenatorBills.asp?MemberID=2672\">Bills</a></font></td><td width=\"15%\" bgcolor=\"EBEBEB\" align=\"center\" class=\"detail\"><a href=\"SenCommittees.asp?MemberID=2672\">Committees</a></font></td><td width=\"15%\" bgcolor=\"EBEBEB\" align=\"center\" class=\"detail\">26</font></td><td width=\"15%\" bgcolor=\"EBEBEB\" align=\"center\" class=\"detail\">R</font></td></tr><tr><td width=\"40%\" bgcolor=\"white\" class=\"detail\"><a class=\"notranslate\" href=\"/senate/Senator.asp?GA=101&MemberID=2603\">Pat McGuire</a></font></td><td width=\"15%\" bgcolor=\"white\" align=\"center\" class=\"detail\"><a href=\"SenatorBills.asp?MemberID=2603\">Bills</a></font></td><td width=\"15%\" bgcolor=\"white\" align=\"center\" class=\"detail\"><a href=\"SenCommittees.asp?MemberID=2603\">Committees</a></font></td><td width=\"15%\" bgcolor=\"white\" align=\"center\" class=\"detail\">43</font></td><td width=\"15%\" bgcolor=\"white\" align=\"center\" class=\"detail\">D</font></td></tr><tr><td width=\"40%\" bgcolor=\"EBEBEB\" class=\"detail\"><a class=\"notranslate\" href=\"/senate/Senator.asp?GA=101&MemberID=2619\">Julie A. Morrison</a></font></td><td width=\"15%\" bgcolor=\"EBEBEB\" align=\"center\" class=\"detail\"><a href=\"SenatorBills.asp?MemberID=2619\">Bills</a></font></td><td width=\"15%\" bgcolor=\"EBEBEB\" align=\"center\" class=\"detail\"><a href=\"SenCommittees.asp?MemberID=2619\">Committees</a></font></td><td width=\"15%\" bgcolor=\"EBEBEB\" align=\"center\" class=\"detail\">29</font></td><td width=\"15%\" bgcolor=\"EBEBEB\" align=\"center\" class=\"detail\">D</font></td></tr><tr><td width=\"40%\" bgcolor=\"white\" class=\"detail\"><a class=\"notranslate\" href=\"/senate/Senator.asp?GA=101&MemberID=2586\">John G. Mulroe</a></font></td><td width=\"15%\" bgcolor=\"white\" align=\"center\" class=\"detail\"><a href=\"SenatorBills.asp?MemberID=2586\">Bills</a></font></td><td width=\"15%\" bgcolor=\"white\" align=\"center\" class=\"detail\"><a href=\"SenCommittees.asp?MemberID=2586\">Committees</a></font></td><td width=\"15%\" bgcolor=\"white\" align=\"center\" class=\"detail\">10</font></td><td width=\"15%\" bgcolor=\"white\" align=\"center\" class=\"detail\">D</font></td></tr><tr><td width=\"40%\" bgcolor=\"EBEBEB\" class=\"detail\"><a class=\"notranslate\" href=\"/senate/Senator.asp?GA=101&MemberID=2537\">Antonio Muñoz</a></font></td><td width=\"15%\" bgcolor=\"EBEBEB\" align=\"center\" class=\"detail\"><a href=\"SenatorBills.asp?MemberID=2537\">Bills</a></font></td><td width=\"15%\" bgcolor=\"EBEBEB\" align=\"center\" class=\"detail\"><a href=\"SenCommittees.asp?MemberID=2537\">Committees</a></font></td><td width=\"15%\" bgcolor=\"EBEBEB\" align=\"center\" class=\"detail\">1</font></td><td width=\"15%\" bgcolor=\"EBEBEB\" align=\"center\" class=\"detail\">D</font></td></tr><tr><td width=\"40%\" bgcolor=\"white\" class=\"detail\"><a class=\"notranslate\" href=\"/senate/Senator.asp?GA=101&MemberID=2668\">Laura M. Murphy</a></font></td><td width=\"15%\" bgcolor=\"white\" align=\"center\" class=\"detail\"><a href=\"SenatorBills.asp?MemberID=2668\">Bills</a></font></td><td width=\"15%\" bgcolor=\"white\" align=\"center\" class=\"detail\"><a href=\"SenCommittees.asp?MemberID=2668\">Committees</a></font></td><td width=\"15%\" bgcolor=\"white\" align=\"center\" class=\"detail\">28</font></td><td width=\"15%\" bgcolor=\"white\" align=\"center\" class=\"detail\">D</font></td></tr><tr><td width=\"40%\" bgcolor=\"EBEBEB\" class=\"detail\"><a class=\"notranslate\" href=\"/senate/Senator.asp?GA=101&MemberID=2620\">Jim Oberweis</a></font></td><td width=\"15%\" bgcolor=\"EBEBEB\" align=\"center\" class=\"detail\"><a href=\"SenatorBills.asp?MemberID=2620\">Bills</a></font></td><td width=\"15%\" bgcolor=\"EBEBEB\" align=\"center\" class=\"detail\"><a href=\"SenCommittees.asp?MemberID=2620\">Committees</a></font></td><td width=\"15%\" bgcolor=\"EBEBEB\" align=\"center\" class=\"detail\">25</font></td><td width=\"15%\" bgcolor=\"EBEBEB\" align=\"center\" class=\"detail\">R</font></td></tr><tr><td width=\"40%\" bgcolor=\"white\" class=\"detail\"><a class=\"notranslate\" href=\"/senate/Senator.asp?GA=101&MemberID=2729\">Robert Peters</a></font></td><td width=\"15%\" bgcolor=\"white\" align=\"center\" class=\"detail\"><a href=\"SenatorBills.asp?MemberID=2729\">Bills</a></font></td><td width=\"15%\" bgcolor=\"white\" align=\"center\" class=\"detail\"><a href=\"SenCommittees.asp?MemberID=2729\">Committees</a></font></td><td width=\"15%\" bgcolor=\"white\" align=\"center\" class=\"detail\">13</font></td><td width=\"15%\" bgcolor=\"white\" align=\"center\" class=\"detail\">D</font></td></tr><tr><td width=\"40%\" bgcolor=\"EBEBEB\" class=\"detail\"><a class=\"notranslate\" href=\"/senate/Senator.asp?GA=101&MemberID=2730\">Jason Plummer</a></font></td><td width=\"15%\" bgcolor=\"EBEBEB\" align=\"center\" class=\"detail\"><a href=\"SenatorBills.asp?MemberID=2730\">Bills</a></font></td><td width=\"15%\" bgcolor=\"EBEBEB\" align=\"center\" class=\"detail\"><a href=\"SenCommittees.asp?MemberID=2730\">Committees</a></font></td><td width=\"15%\" bgcolor=\"EBEBEB\" align=\"center\" class=\"detail\">54</font></td><td width=\"15%\" bgcolor=\"EBEBEB\" align=\"center\" class=\"detail\">R</font></td></tr><tr><td width=\"40%\" bgcolor=\"white\" class=\"detail\"><a class=\"notranslate\" href=\"/senate/Senator.asp?GA=101&MemberID=2588\">Sue Rezin</a></font></td><td width=\"15%\" bgcolor=\"white\" align=\"center\" class=\"detail\"><a href=\"SenatorBills.asp?MemberID=2588\">Bills</a></font></td><td width=\"15%\" bgcolor=\"white\" align=\"center\" class=\"detail\"><a href=\"SenCommittees.asp?MemberID=2588\">Committees</a></font></td><td width=\"15%\" bgcolor=\"white\" align=\"center\" class=\"detail\">38</font></td><td width=\"15%\" bgcolor=\"white\" align=\"center\" class=\"detail\">R</font></td></tr><tr><td width=\"40%\" bgcolor=\"EBEBEB\" class=\"detail\"><a class=\"notranslate\" href=\"/senate/Senator.asp?GA=101&MemberID=2552\">Dale A. Righter</a></font></td><td width=\"15%\" bgcolor=\"EBEBEB\" align=\"center\" class=\"detail\"><a href=\"SenatorBills.asp?MemberID=2552\">Bills</a></font></td><td width=\"15%\" bgcolor=\"EBEBEB\" align=\"center\" class=\"detail\"><a href=\"SenCommittees.asp?MemberID=2552\">Committees</a></font></td><td width=\"15%\" bgcolor=\"EBEBEB\" align=\"center\" class=\"detail\">55</font></td><td width=\"15%\" bgcolor=\"EBEBEB\" align=\"center\" class=\"detail\">R</font></td></tr><tr><td width=\"40%\" bgcolor=\"white\" class=\"detail\"><a class=\"notranslate\" href=\"/senate/Senator.asp?GA=101&MemberID=2621\">Chapin Rose</a></font></td><td width=\"15%\" bgcolor=\"white\" align=\"center\" class=\"detail\"><a href=\"SenatorBills.asp?MemberID=2621\">Bills</a></font></td><td width=\"15%\" bgcolor=\"white\" align=\"center\" class=\"detail\"><a href=\"SenCommittees.asp?MemberID=2621\">Committees</a></font></td><td width=\"15%\" bgcolor=\"white\" align=\"center\" class=\"detail\">51</font></td><td width=\"15%\" bgcolor=\"white\" align=\"center\" class=\"detail\">R</font></td></tr><tr><td width=\"40%\" bgcolor=\"EBEBEB\" class=\"detail\"><a class=\"notranslate\" href=\"/senate/Senator.asp?GA=101&MemberID=2548\">Martin A. Sandoval</a></font></td><td width=\"15%\" bgcolor=\"EBEBEB\" align=\"center\" class=\"detail\"><a href=\"SenatorBills.asp?MemberID=2548\">Bills</a></font></td><td width=\"15%\" bgcolor=\"EBEBEB\" align=\"center\" class=\"detail\"><a href=\"SenCommittees.asp?MemberID=2548\">Committees</a></font></td><td width=\"15%\" bgcolor=\"EBEBEB\" align=\"center\" class=\"detail\">11</font></td><td width=\"15%\" bgcolor=\"EBEBEB\" align=\"center\" class=\"detail\">D</font></td></tr><tr><td width=\"40%\" bgcolor=\"white\" class=\"detail\"><a class=\"notranslate\" href=\"/senate/Senator.asp?GA=101&MemberID=2679\">Paul Schimpf</a></font></td><td width=\"15%\" bgcolor=\"white\" align=\"center\" class=\"detail\"><a href=\"SenatorBills.asp?MemberID=2679\">Bills</a></font></td><td width=\"15%\" bgcolor=\"white\" align=\"center\" class=\"detail\"><a href=\"SenCommittees.asp?MemberID=2679\">Committees</a></font></td><td width=\"15%\" bgcolor=\"white\" align=\"center\" class=\"detail\">58</font></td><td width=\"15%\" bgcolor=\"white\" align=\"center\" class=\"detail\">R</font></td></tr><tr><td width=\"40%\" bgcolor=\"EBEBEB\" class=\"detail\"><a class=\"notranslate\" href=\"/senate/Senator.asp?GA=101&MemberID=2703\">Elgie R. Sims, Jr.</a></font></td><td width=\"15%\" bgcolor=\"EBEBEB\" align=\"center\" class=\"detail\"><a href=\"SenatorBills.asp?MemberID=2703\">Bills</a></font></td><td width=\"15%\" bgcolor=\"EBEBEB\" align=\"center\" class=\"detail\"><a href=\"SenCommittees.asp?MemberID=2703\">Committees</a></font></td><td width=\"15%\" bgcolor=\"EBEBEB\" align=\"center\" class=\"detail\">17</font></td><td width=\"15%\" bgcolor=\"EBEBEB\" align=\"center\" class=\"detail\">D</font></td></tr><tr><td width=\"40%\" bgcolor=\"white\" class=\"detail\"><a class=\"notranslate\" href=\"/senate/Senator.asp?GA=101&MemberID=2622\">Steve Stadelman</a></font></td><td width=\"15%\" bgcolor=\"white\" align=\"center\" class=\"detail\"><a href=\"SenatorBills.asp?MemberID=2622\">Bills</a></font></td><td width=\"15%\" bgcolor=\"white\" align=\"center\" class=\"detail\"><a href=\"SenCommittees.asp?MemberID=2622\">Committees</a></font></td><td width=\"15%\" bgcolor=\"white\" align=\"center\" class=\"detail\">34</font></td><td width=\"15%\" bgcolor=\"white\" align=\"center\" class=\"detail\">D</font></td></tr><tr><td width=\"40%\" bgcolor=\"EBEBEB\" class=\"detail\"><a class=\"notranslate\" href=\"/senate/Senator.asp?GA=101&MemberID=2571\">Heather A. Steans</a></font></td><td width=\"15%\" bgcolor=\"EBEBEB\" align=\"center\" class=\"detail\"><a href=\"SenatorBills.asp?MemberID=2571\">Bills</a></font></td><td width=\"15%\" bgcolor=\"EBEBEB\" align=\"center\" class=\"detail\"><a href=\"SenCommittees.asp?MemberID=2571\">Committees</a></font></td><td width=\"15%\" bgcolor=\"EBEBEB\" align=\"center\" class=\"detail\">7</font></td><td width=\"15%\" bgcolor=\"EBEBEB\" align=\"center\" class=\"detail\">D</font></td></tr><tr><td width=\"40%\" bgcolor=\"white\" class=\"detail\"><a class=\"notranslate\" href=\"/senate/Senator.asp?GA=101&MemberID=2720\">Brian W. Stewart</a></font></td><td width=\"15%\" bgcolor=\"white\" align=\"center\" class=\"detail\"><a href=\"SenatorBills.asp?MemberID=2720\">Bills</a></font></td><td width=\"15%\" bgcolor=\"white\" align=\"center\" class=\"detail\"><a href=\"SenCommittees.asp?MemberID=2720\">Committees</a></font></td><td width=\"15%\" bgcolor=\"white\" align=\"center\" class=\"detail\">45</font></td><td width=\"15%\" bgcolor=\"white\" align=\"center\" class=\"detail\">R</font></td></tr><tr><td width=\"40%\" bgcolor=\"EBEBEB\" class=\"detail\"><a class=\"notranslate\" href=\"/senate/Senator.asp?GA=101&MemberID=2540\">Dave Syverson</a></font></td><td width=\"15%\" bgcolor=\"EBEBEB\" align=\"center\" class=\"detail\"><a href=\"SenatorBills.asp?MemberID=2540\">Bills</a></font></td><td width=\"15%\" bgcolor=\"EBEBEB\" align=\"center\" class=\"detail\"><a href=\"SenCommittees.asp?MemberID=2540\">Committees</a></font></td><td width=\"15%\" bgcolor=\"EBEBEB\" align=\"center\" class=\"detail\">35</font></td><td width=\"15%\" bgcolor=\"EBEBEB\" align=\"center\" class=\"detail\">R</font></td></tr><tr><td width=\"40%\" bgcolor=\"white\" class=\"detail\"><a class=\"notranslate\" href=\"/senate/Senator.asp?GA=101&MemberID=2680\">Jil Tracy</a></font></td><td width=\"15%\" bgcolor=\"white\" align=\"center\" class=\"detail\"><a href=\"SenatorBills.asp?MemberID=2680\">Bills</a></font></td><td width=\"15%\" bgcolor=\"white\" align=\"center\" class=\"detail\"><a href=\"SenCommittees.asp?MemberID=2680\">Committees</a></font></td><td width=\"15%\" bgcolor=\"white\" align=\"center\" class=\"detail\">47</font></td><td width=\"15%\" bgcolor=\"white\" align=\"center\" class=\"detail\">R</font></td></tr><tr><td width=\"40%\" bgcolor=\"EBEBEB\" class=\"detail\"><a class=\"notranslate\" href=\"/senate/Senator.asp?GA=101&MemberID=2623\">Patricia Van Pelt</a></font></td><td width=\"15%\" bgcolor=\"EBEBEB\" align=\"center\" class=\"detail\"><a href=\"SenatorBills.asp?MemberID=2623\">Bills</a></font></td><td width=\"15%\" bgcolor=\"EBEBEB\" align=\"center\" class=\"detail\"><a href=\"SenCommittees.asp?MemberID=2623\">Committees</a></font></td><td width=\"15%\" bgcolor=\"EBEBEB\" align=\"center\" class=\"detail\">5</font></td><td width=\"15%\" bgcolor=\"EBEBEB\" align=\"center\" class=\"detail\">D</font></td></tr><tr><td width=\"40%\" bgcolor=\"white\" class=\"detail\"><a class=\"notranslate\" href=\"/senate/Senator.asp?GA=101&MemberID=2731\">Ram Villivalam</a></font></td><td width=\"15%\" bgcolor=\"white\" align=\"center\" class=\"detail\"><a href=\"SenatorBills.asp?MemberID=2731\">Bills</a></font></td><td width=\"15%\" bgcolor=\"white\" align=\"center\" class=\"detail\"><a href=\"SenCommittees.asp?MemberID=2731\">Committees</a></font></td><td width=\"15%\" bgcolor=\"white\" align=\"center\" class=\"detail\">8</font></td><td width=\"15%\" bgcolor=\"white\" align=\"center\" class=\"detail\">D</font></td></tr><tr><td width=\"40%\" bgcolor=\"EBEBEB\" class=\"detail\"><a class=\"notranslate\" href=\"/senate/Senator.asp?GA=101&MemberID=2669\">Chuck Weaver</a></font></td><td width=\"15%\" bgcolor=\"EBEBEB\" align=\"center\" class=\"detail\"><a href=\"SenatorBills.asp?MemberID=2669\">Bills</a></font></td><td width=\"15%\" bgcolor=\"EBEBEB\" align=\"center\" class=\"detail\"><a href=\"SenCommittees.asp?MemberID=2669\">Committees</a></font></td><td width=\"15%\" bgcolor=\"EBEBEB\" align=\"center\" class=\"detail\">37</font></td><td width=\"15%\" bgcolor=\"EBEBEB\" align=\"center\" class=\"detail\">R</font></td></tr><tr><td width=\"40%\" bgcolor=\"white\" class=\"detail\"><a class=\"notranslate\" href=\"/senate/Senator.asp?GA=101&MemberID=2711\">Craig Wilcox</a></font></td><td width=\"15%\" bgcolor=\"white\" align=\"center\" class=\"detail\"><a href=\"SenatorBills.asp?MemberID=2711\">Bills</a></font></td><td width=\"15%\" bgcolor=\"white\" align=\"center\" class=\"detail\"><a href=\"SenCommittees.asp?MemberID=2711\">Committees</a></font></td><td width=\"15%\" bgcolor=\"white\" align=\"center\" class=\"detail\">32</font></td><td width=\"15%\" bgcolor=\"white\" align=\"center\" class=\"detail\">R</font></td></tr>\\r\\n     \\r\\n  </table>\\r\\n  \\r\\n<p class=\"content\">To view a report listing contact information for all active members, <a target=\"new\" href=\"/reports/rptMemberList.asp?gaid=15&ChamberId=S\">click here</a>.\\r\\n\\r\\n</form>\\r\\n\\r\\n<!--End Custom Page Content-->\\r\\n\\r\\n<!--Begin Page End-->\\r\\n\\r\\n\\r\\n</td></tr>\\r\\n<tr id=\"Senate\">\\r\\n<td>\\r\\n  <table border=\"0\" class=\"footer\" cellspacing=\"0\" cellpadding=\"0\" align=\"center\" width=\"100%\">\\r\\n    <tr>\\r\\n      <td align=\"center\" colspan=\"2\"><hr noShade=\"True\" color=\"navy\">\\r\\n      <a class=\"footer\" href=\"/\" title=\"View the General Assembly web site home page\">Home</a> | \\r\\n      <a class=\"footer\" href=\"/legislation/\" title=\"View Legislation and Laws\">Legislation &amp; Laws</a> | \\r\\n      <a class=\"footer\" href=\"/house/default.asp\" title=\"View information regarding House of Representatives\">House</a> | \\r\\n      <a class=\"footer\" href=\"/senate/default.asp\" title=\"View information regarding Senate\">Senate</a> |\\r\\n      <a class=\"footer\" href=\"/mylegislation/default.asp\" title=\"Set up customized queries, create reports for tracking, etc.\">My Legislation</a> |\\r\\n      <a class=\"footer\" href=\"/disclaimer.asp\" title=\"Disclaimers regarding the Illinois General Assembly web site\">Disclaimers</a> |\\r\\n      <a class=\"footer\" href=\"/contact.asp\" title=\"Contact the Illinois General Assembly Web Support Staff\">Email</a>\\r\\n      </td>\\r\\n    </tr>\\r\\n    <tr>\\r\\n\\t\\t<td align=\"center\" colspan=\"2\"><hr noShade=\"True\" color=\"navy\"><br></td>\\r\\n    </tr>\\r\\n    <tr>\\r\\n\\t\\t<td align=\"left\" class=\"footer\" width=\"107\">&nbsp;&nbsp;<img src=\"/images/lislogo.jpg\" alt=\"Legislative Information System logo\" width=\"100\" height=\"45\"></td>\\r\\n\\t\\t<td align+\"left\" valign=\"top\" class=\"footer\" width=\"100%\">This site is maintained for the Illinois General Assembly \\r\\nby the<br>Legislative Information System, 705 Stratton Building, Springfield, Illinois 62706<br> \\r\\n217-782-3944&nbsp;&nbsp;&nbsp;217-782-2050&nbsp;(TTY) \\r\\n<br>\\r\\n\\t\\t</td>\\r\\n\\t</tr>\\r\\n  </table>\\r\\n    \\r\\n</td>\\r\\n</tr>\\r\\n</table>\\r\\n<p>&nbsp;</p><br>\\r\\n</td>\\r\\n</tr>\\r\\n</table>\\r\\n</body>  \\r\\n</html>\\r\\n\\r\\n<!--End Page End-->\\r\\n\\r\\n\\r\\n<script language=\"javascript\">\\r\\nfunction Sort(strSort, strSortbyformer, intGA)\\r\\n{\\r\\n\\tdocument.member.sortby.value = strSort;\\r\\n\\tdocument.member.sortbyformer.value = strSortbyformer;\\r\\n    document.member.sortbyGA.value = intGA;\\r\\n\\tdocument.member.submit();\\r\\n}\\r\\n\\r\\n</script>\\r\\n'"
      ]
     },
     "execution_count": 13,
     "metadata": {},
     "output_type": "execute_result"
    }
   ],
   "source": [
    "src"
   ]
  },
  {
   "cell_type": "markdown",
   "metadata": {},
   "source": [
    "## 1.2 Soup it\n",
    "\n",
    "Now we use the `BeautifulSoup` function to parse the response into an HTML tree. This returns an object (called a **soup object**) which contains all of the HTML in the original document."
   ]
  },
  {
   "cell_type": "code",
   "execution_count": 20,
   "metadata": {
    "scrolled": true
   },
   "outputs": [
    {
     "name": "stdout",
     "output_type": "stream",
     "text": [
      "<html lang=\"en\">\n",
      " <!-- Trigger/Open The Modal -->\n",
      " <body>\n",
      "  <div style=\"position: fixed; z-index: 999; top: 5; left: 600; background-color: navy; display: block\">\n",
      "   <button id=\"myBtn\" style=\"color: white; background-color: navy; display: block\">\n",
      "    Translate Website\n",
      "   </button>\n",
      "  </div>\n",
      "  <!-- The Modal -->\n",
      "  <div class=\"modal\" id=\"myModal\" style=\"display: none\">\n",
      "   <!-- Modal content -->\n",
      "   <div class=\"modal-content\">\n",
      "    <div class=\"modal-header\">\n",
      "     <h3>\n",
      "      <span class=\"close\">\n",
      "       ×\n",
      "      </span>\n",
      "     </h3>\n",
      "    </div>\n",
      "    <p>\n",
      "     The Illinois General Assembly offers the Google Translate service for visitor convenience. In no way should it be considered accurate as to the translation of any content herein.\n",
      "    </p>\n",
      "    <p>\n",
      "     Visitors of the Illinois General Assembly website are encouraged to use other translation services available on the internet.\n",
      "    </p>\n",
      "    <p>\n",
      "     The English language version is always the official and authoritative version of this website.\n",
      "   \n"
     ]
    }
   ],
   "source": [
    "# parse the response into an HTML tree\n",
    "soup = BeautifulSoup(src, 'lxml') #lxml parser\n",
    "# take a look\n",
    "print(soup.prettify()[:1000]) # does this print the first 1000 characters of the HTML page?"
   ]
  },
  {
   "cell_type": "code",
   "execution_count": 24,
   "metadata": {},
   "outputs": [
    {
     "data": {
      "text/plain": [
       "'<html lang=\"en\">\\n <!-- Trigger/Open The Modal -->\\n <body>\\n  <div style=\"position: fixed; z-index: 999; top: 5; left: 600; background-color: navy; display: block\">\\n   <button id=\"myBtn\" style=\"color: white; background-color: navy; display: block\">\\n    Translate Website\\n   </button>\\n  </div>\\n  <!-- The Modal -->\\n  <div class=\"modal\" id=\"myModal\" style=\"display: none\">\\n   <!-- Modal content -->\\n   <div class=\"modal-content\">\\n    <div class=\"modal-header\">\\n     <h3>\\n      <span class=\"close\">\\n       ×\\n      </span>\\n     </h3>\\n    </div>\\n    <p>\\n     The Illinois General Assembly offers the Google Translate\\x99 service for visitor convenience. In no way should it be considered accurate as to the translation of any content herein.\\n    </p>\\n    <p>\\n     Visitors of the Illinois General Assembly website are encouraged to use other translation services available on the internet.\\n    </p>\\n    <p>\\n     The English language version is always the official and authoritative version of this website.\\n    </p>\\n    <p>\\n     NOTE: To return to the original English language version, select the \"Show Original\" button on the Google Translate\\x99 menu bar at the top of the window.\\n    </p>\\n    <div style=\"text-align: center\">\\n     Powered by\\n     <span style=\"white-space: nowrap\">\\n      <a class=\"goog-logo-link\" href=\"https://translate.google.com\" target=\"_blank\">\\n       <img alt=\"Google Translate\" height=\"14\" src=\"https://www.gstatic.com/images/branding/googlelogo/1x/googlelogo_color_42x16dp.png\" style=\"padding-right: 3px;\" width=\"37\"/>\\n       Translate\\n      </a>\\n     </span>\\n    </div>\\n    <div id=\"google_translate_element\" style=\"text-align: center\">\\n    </div>\\n    <br/>\\n    <br/>\\n    <div class=\"modal-footer\">\\n     <h4>\\n     </h4>\\n    </div>\\n   </div>\\n  </div>\\n  <script type=\"text/javascript\">\\n   function googleTranslateWidgetInit() {\\r\\n        new google.translate.TranslateElement({ pageLanguage: \\'en\\', layout: google.translate.TranslateElement.InlineLayout.SIMPLE, autoDisplay: false }, \\'google_translate_element\\');\\r\\n    }\\n  </script>\\n  <script src=\"//translate.google.com/translate_a/element.js?cb=googleTranslateWidgetInit\" type=\"text/javascript\">\\n  </script>\\n  <script type=\"text/javascript\">\\n   // Get the modal\\r\\n    var modal = document.getElementById(\\'myModal\\');\\r\\n    // Get the button that opens the modal\\r\\n    var btn = document.getElementById(\"myBtn\");\\r\\n    // Get the <span> element that closes the modal\\r\\n    var span = document.getElementsByClassName(\"close\")[0];\\r\\n    // When the user clicks on the button, open the modal \\r\\n    btn.onclick = function () {\\r\\n        modal.style.display = \"block\";\\r\\n    }\\r\\n    // When the user clicks on <span> (x), close the modal\\r\\n    span.onclick = function () {\\r\\n        modal.style.display = \"none\";\\r\\n    }\\r\\n    // When the user clicks anywhere outside of the modal, close it\\r\\n    window.onclick = function (event) {\\r\\n        if (event.target == modal) {\\r\\n            modal.style.display = \"none\";\\r\\n        }\\r\\n    }\\n  </script>\\n  <div id=\"divBackground\" style=\"position: fixed; z-index: 999; height: 100%; width: 100%; top: 0; left:0; background-color: Black; filter: alpha(opacity=60); opacity: 0.6; -moz-opacity: 0.8;display:none\">\\n  </div>\\n  <title>\\n   Illinois General Assembly - Senate Members\\n  </title>\\n  <link href=\"/style/lis.css\" rel=\"stylesheet\" type=\"text/css\"/>\\n  <link href=\"/style/print.css\" media=\"print\" rel=\"stylesheet\" type=\"text/css\"/>\\n  <link href=\"http://info.er.usgs.gov/public/gils/gilsexec.html\" rel=\"GILS\"/>\\n  <link href=\"/LISlogo1.ico\" rel=\"Shortcut Icon\"/>\\n  <script language=\"JavaScript\" type=\"text/javascript\">\\n   <!--\\n\\nif(window.event + \"\" == \"undefined\") event = null;\\nfunction HM_f_PopUp(){return false};\\nfunction HM_f_PopDown(){return false};\\npopUp = HM_f_PopUp;\\npopDown = HM_f_PopDown;\\n\\n//-->\\n  </script>\\n  <!--\\r\\n    option explicit\\r\\n  -->\\n  <meta content=\\'(PICS-1.1 \"http://www.weburbia.com/safe/ratings.htm\" l r (s 0))\\' http-equiv=\"PICS-Label\"/>\\n  <meta content=\"Government\" name=\"classification\"/>\\n  <meta content=\"Global\" name=\"distribution\"/>\\n  <meta content=\"General\" name=\"rating\"/>\\n  <meta content=\"IL\" name=\"contactState\"/>\\n  <meta content=\"Illinois General Assembly\" name=\"siteTitle\"/>\\n  <meta content=\"Illinois General Assembly, Senate, Members\" name=\"keywords\"/>\\n  <meta content=\"\" name=\"description\"/>\\n  <meta content=\"5/29/2002\" name=\"createDate\"/>\\n  <meta content=\"5/29/2002\" name=\"dateofLastModification\"/>\\n  <meta content=\"2001-2002\" name=\"timePeriodTextual\"/>\\n  <meta content=\"0000001\" name=\"originalControlIdentifier\"/>\\n  <meta content=\"Web Site\" name=\"medium\"/>\\n  <meta content=\"yes\" name=\"PermanentPublicAccess\"/>\\n  <meta content=\"Illinois General Assembly\" name=\"agencyProgram\"/>\\n  <meta content=\"\" name=\"linkage\"/>\\n  <meta content=\"EN\" name=\"language\"/>\\n  <meta content=\"State\" name=\"govType\"/>\\n  <meta content=\"Legislative Information System\" name=\"contactName\"/>\\n  <meta content=\"LIS Staff Services\" name=\"contactOrganization\"/>\\n  <meta content=\"705 Stratton Office Building\" name=\"contactStreetAddress1\"/>\\n  <meta content=\"\" name=\"contactStreetAddress2\"/>\\n  <meta content=\"Springfield\" name=\"contactCity\"/>\\n  <meta content=\"62706\" name=\"contactZipcode\"/>\\n  <meta content=\"webmaster@ilga.gov\" name=\"contactNetworkAddress\"/>\\n  <meta content=\"217-782-3944\" name=\"contactPhoneNumber\"/>\\n  <meta content=\"217-524-6059\" name=\"contactFaxNumber\"/>\\n  <meta content=\"State Of Illinois\" name=\"originatorJurisdiction\"/>\\n  <meta content=\"Illinois General Assembly\" name=\"originatorOffice\"/>\\n  <meta content=\"Legislative Information System\" name=\"originatorDepartment\"/>\\n  <meta content=\"Web Staff\" name=\"originatorDivision\"/>\\n  <meta content=\"\" name=\"originatorSection\"/>\\n  <meta content=\"Government--State Government--Illinois General Assembly\" name=\"Classification\"/>\\n  <!-- Begin Body Start -->\\n  <script language=\"JavaScript1.2\" src=\"/include/script/HM_Loader.js\" type=\"text/javascript\">\\n  </script>\\n  <table align=\"left\" border=\"0\" cellpadding=\"0\" cellspacing=\"0\" width=\"100%\">\\n   <tr id=\"Senate\">\\n    <td colspan=\"4\">\\n     <a href=\"/default.asp\">\\n      <img alt=\"Illinois General Assembly\" border=\"0\" height=\"49\" src=\"/images/logo_sm.gif\" width=\"462\"/>\\n     </a>\\n    </td>\\n   </tr>\\n   <tr>\\n    <td align=\"left\" colspan=\"4\" valign=\"top\">\\n     <table border=\"0\" cellspacing=\"0\" class=\"mainmenu\" width=\"100%\">\\n      <tr id=\"Senate\">\\n       <td height=\"25\" nowrap=\"\">\\n        <a class=\"mainmenu\" href=\"/\">\\n         Home\\n        </a>\\n       </td>\\n       <td height=\"25\" nowrap=\"\">\\n        <a class=\"mainmenu\" href=\"/legislation/\" onblur=\"HM_f_PopDown(\\'elMenu1\\')\" onfocus=\"HM_f_PopUp(\\'elMenu1\\',event)\" onmouseout=\"HM_f_PopDown(\\'elMenu1\\')\" onmouseover=\"HM_f_PopUp(\\'elMenu1\\',event)\">\\n         Legislation &amp; Laws\\n        </a>\\n       </td>\\n       <td height=\"25\" nowrap=\"\">\\n        <a class=\"mainmenu\" href=\"/senate/\" onblur=\"HM_f_PopDown(\\'elMenu3\\')\" onfocus=\"HM_f_PopUp(\\'elMenu3\\',event)\" onmouseout=\"HM_f_PopDown(\\'elMenu3\\')\" onmouseover=\"HM_f_PopUp(\\'elMenu3\\',event)\">\\n         Senate\\n        </a>\\n       </td>\\n       <td height=\"25\" nowrap=\"\">\\n        <a class=\"mainmenu\" href=\"/house/\" onblur=\"HM_f_PopDown(\\'elMenu2\\')\" onfocus=\"HM_f_PopUp(\\'elMenu2\\',event)\" onmouseout=\"HM_f_PopDown(\\'elMenu2\\')\" onmouseover=\"HM_f_PopUp(\\'elMenu2\\',event)\">\\n         House\\n        </a>\\n       </td>\\n       <td height=\"25\" nowrap=\"\">\\n        <a class=\"mainmenu\" href=\"/mylegislation/\" onblur=\"HM_f_PopDown(\\'elMenu4\\')\" onfocus=\"HM_f_PopUp(\\'elMenu4\\',event)\" onmouseout=\"HM_f_PopDown(\\'elMenu4\\')\" onmouseover=\"HM_f_PopUp(\\'elMenu4\\',event)\">\\n         My Legislation\\n        </a>\\n       </td>\\n       <td height=\"25\" nowrap=\"\">\\n        <a class=\"mainmenu\" href=\"/sitemap.asp\">\\n         Site Map\\n        </a>\\n       </td>\\n       <td align=\"right\" height=\"25\" width=\"99%\">\\n       </td>\\n      </tr>\\n     </table>\\n    </td>\\n   </tr>\\n   <tr>\\n    <td valign=\"top\">\\n     <br/>\\n     <table border=\"0\" cellpadding=\"0\" cellspacing=\"2\" class=\"sidemenu\" id=\"Senate\" width=\"140\">\\n      <tr>\\n       <td class=\"sidemenu\" nowrap=\"\">\\n        <b>\\n         <a class=\"sidemenu\" href=\"/senate/default.asp\">\\n          Members\\n         </a>\\n        </b>\\n       </td>\\n      </tr>\\n      <tr>\\n       <td class=\"sidemenu\" nowrap=\"\">\\n        <a class=\"sidemenu\" href=\"/senate/committees/default.asp\">\\n         Committees\\n        </a>\\n       </td>\\n      </tr>\\n      <tr>\\n       <td class=\"sidemenu\" nowrap=\"\">\\n        <a class=\"sidemenu\" href=\"/senate/schedules/default.asp\">\\n         Schedules\\n        </a>\\n       </td>\\n      </tr>\\n      <tr>\\n       <td class=\"sidemenu\" nowrap=\"\">\\n        <a class=\"sidemenu\" href=\"/senate/journals/default.asp\">\\n         Journals\\n        </a>\\n       </td>\\n      </tr>\\n      <tr>\\n       <td class=\"sidemenu\" nowrap=\"\">\\n        <a class=\"sidemenu\" href=\"/senate/transcripts/default.asp\">\\n         Transcripts\\n        </a>\\n       </td>\\n      </tr>\\n      <tr>\\n       <td class=\"sidemenu\" nowrap=\"\">\\n        <a class=\"sidemenu\" href=\"/senate/rules.asp\">\\n         Rules\\n        </a>\\n       </td>\\n      </tr>\\n      <tr>\\n       <td class=\"sidemenu\" nowrap=\"\">\\n        <a class=\"sidemenu\" href=\"/senateaudvid.asp\">\\n         Live Audio/Video\\n        </a>\\n       </td>\\n      </tr>\\n      <td class=\"sidemenu\" nowrap=\"\" width=\"90%\">\\n      </td>\\n     </table>\\n    </td>\\n    <td class=\"verticalline\" width=\"1\">\\n     <img height=\"1\" src=\"/images/1ptrans.gif\" width=\"1\"/>\\n    </td>\\n    <td align=\"left\" valign=\"top\" width=\"99%\">\\n     <table align=\"left\" border=\"0\" width=\"490\">\\n      <tr>\\n       <td width=\"100%\">\\n        <br/>\\n        <!-- End Body Start -->\\n        <!--Begin Custom Page Content -->\\n        <form action=\"default.asp\" method=\"get\" name=\"member\">\\n         <input name=\"sortby\" type=\"hidden\" value=\"\"/>\\n         <input name=\"sortbyformer\" type=\"hidden\" value=\"\"/>\\n         <input name=\"sortbyGA\" type=\"hidden\" value=\"\"/>\\n         <table border=\"0\" cellpadding=\"3\" cellspacing=\"1\" width=\"100%\">\\n          <tr>\\n           <td colspan=\"5\">\\n            <span class=\"heading\">\\n             Current Senate Members\\n            </span>\\n            <span class=\"italics\">\\n             101st  General Assembly\\n            </span>\\n            <br/>\\n            <!-- 3/2/09 temp comment out until fixed for GA specific-->\\n            <!-- add 97th ga currently no info -->\\n            <a href=\"101st_Senate_Leadership.pdf\">\\n             Leadership\\n            </a>\\n            <a href=\"101st_Senate_Officers.pdf\">\\n             Officers\\n            </a>\\n            <a href=\"101st_Senate_Seating_Chart.pdf\">\\n             Senate Seating Chart\\n            </a>\\n            <span class=\"content\">\\n             <b>\\n              Democrats:\\n             </b>\\n             40\\n             <b>\\n              Republicans:\\n             </b>\\n             19\\n            </span>\\n            <br/>\\n           </td>\\n          </tr>\\n          <tr>\\n           <td class=\"header\" width=\"45%\">\\n            <a class=\"filetab\" href=\"javascript:Sort(\\'LastName\\',\\'\\',101);\" title=\"Sort by Senator\">\\n             Senator\\n            </a>\\n           </td>\\n           <td align=\"center\" class=\"header\" width=\"15%\">\\n            Bills\\n           </td>\\n           <td align=\"center\" class=\"header\" width=\"10%\">\\n            Committees\\n           </td>\\n           <td align=\"center\" class=\"header\" width=\"15%\">\\n            <a class=\"filetab\" href=\"javascript:Sort(\\'DistrictNumber\\',\\'\\',101);\" title=\"Sort by District\">\\n             District\\n            </a>\\n           </td>\\n           <td align=\"center\" class=\"header\" width=\"15%\">\\n            <a class=\"filetab\" href=\"javascript:Sort(\\'Party\\',\\'\\',101);\" title=\"Sort by Party\">\\n             Party\\n            </a>\\n           </td>\\n          </tr>\\n          <tr>\\n           <td bgcolor=\"white\" class=\"detail\" width=\"40%\">\\n            <a class=\"notranslate\" href=\"/senate/Senator.asp?GA=101&amp;MemberID=2664\">\\n             Neil Anderson\\n            </a>\\n           </td>\\n           <td align=\"center\" bgcolor=\"white\" class=\"detail\" width=\"15%\">\\n            <a href=\"SenatorBills.asp?MemberID=2664\">\\n             Bills\\n            </a>\\n           </td>\\n           <td align=\"center\" bgcolor=\"white\" class=\"detail\" width=\"15%\">\\n            <a href=\"SenCommittees.asp?MemberID=2664\">\\n             Committees\\n            </a>\\n           </td>\\n           <td align=\"center\" bgcolor=\"white\" class=\"detail\" width=\"15%\">\\n            36\\n           </td>\\n           <td align=\"center\" bgcolor=\"white\" class=\"detail\" width=\"15%\">\\n            R\\n           </td>\\n          </tr>\\n          <tr>\\n           <td bgcolor=\"EBEBEB\" class=\"detail\" width=\"40%\">\\n            <a class=\"notranslate\" href=\"/senate/Senator.asp?GA=101&amp;MemberID=2673\">\\n             Omar Aquino\\n            </a>\\n           </td>\\n           <td align=\"center\" bgcolor=\"EBEBEB\" class=\"detail\" width=\"15%\">\\n            <a href=\"SenatorBills.asp?MemberID=2673\">\\n             Bills\\n            </a>\\n           </td>\\n           <td align=\"center\" bgcolor=\"EBEBEB\" class=\"detail\" width=\"15%\">\\n            <a href=\"SenCommittees.asp?MemberID=2673\">\\n             Committees\\n            </a>\\n           </td>\\n           <td align=\"center\" bgcolor=\"EBEBEB\" class=\"detail\" width=\"15%\">\\n            2\\n           </td>\\n           <td align=\"center\" bgcolor=\"EBEBEB\" class=\"detail\" width=\"15%\">\\n            D\\n           </td>\\n          </tr>\\n          <tr>\\n           <td bgcolor=\"white\" class=\"detail\" width=\"40%\">\\n            <a class=\"notranslate\" href=\"/senate/Senator.asp?GA=101&amp;MemberID=2608\">\\n             Jason A. Barickman\\n            </a>\\n           </td>\\n           <td align=\"center\" bgcolor=\"white\" class=\"detail\" width=\"15%\">\\n            <a href=\"SenatorBills.asp?MemberID=2608\">\\n             Bills\\n            </a>\\n           </td>\\n           <td align=\"center\" bgcolor=\"white\" class=\"detail\" width=\"15%\">\\n            <a href=\"SenCommittees.asp?MemberID=2608\">\\n             Committees\\n            </a>\\n           </td>\\n           <td align=\"center\" bgcolor=\"white\" class=\"detail\" width=\"15%\">\\n            53\\n           </td>\\n           <td align=\"center\" bgcolor=\"white\" class=\"detail\" width=\"15%\">\\n            R\\n           </td>\\n          </tr>\\n          <tr>\\n           <td bgcolor=\"EBEBEB\" class=\"detail\" width=\"40%\">\\n            <a class=\"notranslate\" href=\"/senate/Senator.asp?GA=101&amp;MemberID=2721\">\\n             Christopher Belt\\n            </a>\\n           </td>\\n           <td align=\"center\" bgcolor=\"EBEBEB\" class=\"detail\" width=\"15%\">\\n            <a href=\"SenatorBills.asp?MemberID=2721\">\\n             Bills\\n            </a>\\n           </td>\\n           <td align=\"center\" bgcolor=\"EBEBEB\" class=\"detail\" width=\"15%\">\\n            <a href=\"SenCommittees.asp?MemberID=2721\">\\n             Committees\\n            </a>\\n           </td>\\n           <td align=\"center\" bgcolor=\"EBEBEB\" class=\"detail\" width=\"15%\">\\n            57\\n           </td>\\n           <td align=\"center\" bgcolor=\"EBEBEB\" class=\"detail\" width=\"15%\">\\n            D\\n           </td>\\n          </tr>\\n          <tr>\\n           <td bgcolor=\"white\" class=\"detail\" width=\"40%\">\\n            <a class=\"notranslate\" href=\"/senate/Senator.asp?GA=101&amp;MemberID=2665\">\\n             Scott M. Bennett\\n            </a>\\n           </td>\\n           <td align=\"center\" bgcolor=\"white\" class=\"detail\" width=\"15%\">\\n            <a href=\"SenatorBills.asp?MemberID=2665\">\\n             Bills\\n            </a>\\n           </td>\\n           <td align=\"center\" bgcolor=\"white\" class=\"detail\" width=\"15%\">\\n            <a href=\"SenCommittees.asp?MemberID=2665\">\\n             Committees\\n            </a>\\n           </td>\\n           <td align=\"center\" bgcolor=\"white\" class=\"detail\" width=\"15%\">\\n            52\\n           </td>\\n           <td align=\"center\" bgcolor=\"white\" class=\"detail\" width=\"15%\">\\n            D\\n           </td>\\n          </tr>\\n          <tr>\\n           <td bgcolor=\"EBEBEB\" class=\"detail\" width=\"40%\">\\n            <a class=\"notranslate\" href=\"/senate/Senator.asp?GA=101&amp;MemberID=2610\">\\n             Jennifer Bertino-Tarrant\\n            </a>\\n           </td>\\n           <td align=\"center\" bgcolor=\"EBEBEB\" class=\"detail\" width=\"15%\">\\n            <a href=\"SenatorBills.asp?MemberID=2610\">\\n             Bills\\n            </a>\\n           </td>\\n           <td align=\"center\" bgcolor=\"EBEBEB\" class=\"detail\" width=\"15%\">\\n            <a href=\"SenCommittees.asp?MemberID=2610\">\\n             Committees\\n            </a>\\n           </td>\\n           <td align=\"center\" bgcolor=\"EBEBEB\" class=\"detail\" width=\"15%\">\\n            49\\n           </td>\\n           <td align=\"center\" bgcolor=\"EBEBEB\" class=\"detail\" width=\"15%\">\\n            D\\n           </td>\\n          </tr>\\n          <tr>\\n           <td bgcolor=\"white\" class=\"detail\" width=\"40%\">\\n            <a class=\"notranslate\" href=\"/senate/Senator.asp?GA=101&amp;MemberID=2542\">\\n             William E. Brady\\n            </a>\\n           </td>\\n           <td align=\"center\" bgcolor=\"white\" class=\"detail\" width=\"15%\">\\n            <a href=\"SenatorBills.asp?MemberID=2542\">\\n             Bills\\n            </a>\\n           </td>\\n           <td align=\"center\" bgcolor=\"white\" class=\"detail\" width=\"15%\">\\n            <a href=\"SenCommittees.asp?MemberID=2542\">\\n             Committees\\n            </a>\\n           </td>\\n           <td align=\"center\" bgcolor=\"white\" class=\"detail\" width=\"15%\">\\n            44\\n           </td>\\n           <td align=\"center\" bgcolor=\"white\" class=\"detail\" width=\"15%\">\\n            R\\n           </td>\\n          </tr>\\n          <tr>\\n           <td bgcolor=\"EBEBEB\" class=\"detail\" width=\"40%\">\\n            <a class=\"notranslate\" href=\"/senate/Senator.asp?GA=101&amp;MemberID=2611\">\\n             Melinda Bush\\n            </a>\\n           </td>\\n           <td align=\"center\" bgcolor=\"EBEBEB\" class=\"detail\" width=\"15%\">\\n            <a href=\"SenatorBills.asp?MemberID=2611\">\\n             Bills\\n            </a>\\n           </td>\\n           <td align=\"center\" bgcolor=\"EBEBEB\" class=\"detail\" width=\"15%\">\\n            <a href=\"SenCommittees.asp?MemberID=2611\">\\n             Committees\\n            </a>\\n           </td>\\n           <td align=\"center\" bgcolor=\"EBEBEB\" class=\"detail\" width=\"15%\">\\n            31\\n           </td>\\n           <td align=\"center\" bgcolor=\"EBEBEB\" class=\"detail\" width=\"15%\">\\n            D\\n           </td>\\n          </tr>\\n          <tr>\\n           <td bgcolor=\"white\" class=\"detail\" width=\"40%\">\\n            <a class=\"notranslate\" href=\"/senate/Senator.asp?GA=101&amp;MemberID=2677\">\\n             Cristina Castro\\n            </a>\\n           </td>\\n           <td align=\"center\" bgcolor=\"white\" class=\"detail\" width=\"15%\">\\n            <a href=\"SenatorBills.asp?MemberID=2677\">\\n             Bills\\n            </a>\\n           </td>\\n           <td align=\"center\" bgcolor=\"white\" class=\"detail\" width=\"15%\">\\n            <a href=\"SenCommittees.asp?MemberID=2677\">\\n             Committees\\n            </a>\\n           </td>\\n           <td align=\"center\" bgcolor=\"white\" class=\"detail\" width=\"15%\">\\n            22\\n           </td>\\n           <td align=\"center\" bgcolor=\"white\" class=\"detail\" width=\"15%\">\\n            D\\n           </td>\\n          </tr>\\n          <tr>\\n           <td bgcolor=\"EBEBEB\" class=\"detail\" width=\"40%\">\\n            <a class=\"notranslate\" href=\"/senate/Senator.asp?GA=101&amp;MemberID=2549\">\\n             Jacqueline Y. Collins\\n            </a>\\n           </td>\\n           <td align=\"center\" bgcolor=\"EBEBEB\" class=\"detail\" width=\"15%\">\\n            <a href=\"SenatorBills.asp?MemberID=2549\">\\n             Bills\\n            </a>\\n           </td>\\n           <td align=\"center\" bgcolor=\"EBEBEB\" class=\"detail\" width=\"15%\">\\n            <a href=\"SenCommittees.asp?MemberID=2549\">\\n             Committees\\n            </a>\\n           </td>\\n           <td align=\"center\" bgcolor=\"EBEBEB\" class=\"detail\" width=\"15%\">\\n            16\\n           </td>\\n           <td align=\"center\" bgcolor=\"EBEBEB\" class=\"detail\" width=\"15%\">\\n            D\\n           </td>\\n          </tr>\\n          <tr>\\n           <td bgcolor=\"white\" class=\"detail\" width=\"40%\">\\n            <a class=\"notranslate\" href=\"/senate/Senator.asp?GA=101&amp;MemberID=2722\">\\n             Rachelle Crowe\\n            </a>\\n           </td>\\n           <td align=\"center\" bgcolor=\"white\" class=\"detail\" width=\"15%\">\\n            <a href=\"SenatorBills.asp?MemberID=2722\">\\n             Bills\\n            </a>\\n           </td>\\n           <td align=\"center\" bgcolor=\"white\" class=\"detail\" width=\"15%\">\\n            <a href=\"SenCommittees.asp?MemberID=2722\">\\n             Committees\\n            </a>\\n           </td>\\n           <td align=\"center\" bgcolor=\"white\" class=\"detail\" width=\"15%\">\\n            56\\n           </td>\\n           <td align=\"center\" bgcolor=\"white\" class=\"detail\" width=\"15%\">\\n            D\\n           </td>\\n          </tr>\\n          <tr>\\n           <td bgcolor=\"EBEBEB\" class=\"detail\" width=\"40%\">\\n            <a class=\"notranslate\" href=\"/senate/Senator.asp?GA=101&amp;MemberID=2534\">\\n             John J. Cullerton\\n            </a>\\n           </td>\\n           <td align=\"center\" bgcolor=\"EBEBEB\" class=\"detail\" width=\"15%\">\\n            <a href=\"SenatorBills.asp?MemberID=2534\">\\n             Bills\\n            </a>\\n           </td>\\n           <td align=\"center\" bgcolor=\"EBEBEB\" class=\"detail\" width=\"15%\">\\n            <a href=\"SenCommittees.asp?MemberID=2534\">\\n             Committees\\n            </a>\\n           </td>\\n           <td align=\"center\" bgcolor=\"EBEBEB\" class=\"detail\" width=\"15%\">\\n            6\\n           </td>\\n           <td align=\"center\" bgcolor=\"EBEBEB\" class=\"detail\" width=\"15%\">\\n            D\\n           </td>\\n          </tr>\\n          <tr>\\n           <td bgcolor=\"white\" class=\"detail\" width=\"40%\">\\n            <a class=\"notranslate\" href=\"/senate/Senator.asp?GA=101&amp;MemberID=2613\">\\n             Thomas Cullerton\\n            </a>\\n           </td>\\n           <td align=\"center\" bgcolor=\"white\" class=\"detail\" width=\"15%\">\\n            <a href=\"SenatorBills.asp?MemberID=2613\">\\n             Bills\\n            </a>\\n           </td>\\n           <td align=\"center\" bgcolor=\"white\" class=\"detail\" width=\"15%\">\\n            <a href=\"SenCommittees.asp?MemberID=2613\">\\n             Committees\\n            </a>\\n           </td>\\n           <td align=\"center\" bgcolor=\"white\" class=\"detail\" width=\"15%\">\\n            23\\n           </td>\\n           <td align=\"center\" bgcolor=\"white\" class=\"detail\" width=\"15%\">\\n            D\\n           </td>\\n          </tr>\\n          <tr>\\n           <td bgcolor=\"EBEBEB\" class=\"detail\" width=\"40%\">\\n            <a class=\"notranslate\" href=\"/senate/Senator.asp?GA=101&amp;MemberID=2614\">\\n             Bill Cunningham\\n            </a>\\n           </td>\\n           <td align=\"center\" bgcolor=\"EBEBEB\" class=\"detail\" width=\"15%\">\\n            <a href=\"SenatorBills.asp?MemberID=2614\">\\n             Bills\\n            </a>\\n           </td>\\n           <td align=\"center\" bgcolor=\"EBEBEB\" class=\"detail\" width=\"15%\">\\n            <a href=\"SenCommittees.asp?MemberID=2614\">\\n             Committees\\n            </a>\\n           </td>\\n           <td align=\"center\" bgcolor=\"EBEBEB\" class=\"detail\" width=\"15%\">\\n            18\\n           </td>\\n           <td align=\"center\" bgcolor=\"EBEBEB\" class=\"detail\" width=\"15%\">\\n            D\\n           </td>\\n          </tr>\\n          <tr>\\n           <td bgcolor=\"white\" class=\"detail\" width=\"40%\">\\n            <a class=\"notranslate\" href=\"/senate/Senator.asp?GA=101&amp;MemberID=2699\">\\n             John F. Curran\\n            </a>\\n           </td>\\n           <td align=\"center\" bgcolor=\"white\" class=\"detail\" width=\"15%\">\\n            <a href=\"SenatorBills.asp?MemberID=2699\">\\n             Bills\\n            </a>\\n           </td>\\n           <td align=\"center\" bgcolor=\"white\" class=\"detail\" width=\"15%\">\\n            <a href=\"SenCommittees.asp?MemberID=2699\">\\n             Committees\\n            </a>\\n           </td>\\n           <td align=\"center\" bgcolor=\"white\" class=\"detail\" width=\"15%\">\\n            41\\n           </td>\\n           <td align=\"center\" bgcolor=\"white\" class=\"detail\" width=\"15%\">\\n            R\\n           </td>\\n          </tr>\\n          <tr>\\n           <td bgcolor=\"EBEBEB\" class=\"detail\" width=\"40%\">\\n            <a class=\"notranslate\" href=\"/senate/Senator.asp?GA=101&amp;MemberID=2709\">\\n             Donald P. DeWitte\\n            </a>\\n           </td>\\n           <td align=\"center\" bgcolor=\"EBEBEB\" class=\"detail\" width=\"15%\">\\n            <a href=\"SenatorBills.asp?MemberID=2709\">\\n             Bills\\n            </a>\\n           </td>\\n           <td align=\"center\" bgcolor=\"EBEBEB\" class=\"detail\" width=\"15%\">\\n            <a href=\"SenCommittees.asp?MemberID=2709\">\\n             Committees\\n            </a>\\n           </td>\\n           <td align=\"center\" bgcolor=\"EBEBEB\" class=\"detail\" width=\"15%\">\\n            33\\n           </td>\\n           <td align=\"center\" bgcolor=\"EBEBEB\" class=\"detail\" width=\"15%\">\\n            R\\n           </td>\\n          </tr>\\n          <tr>\\n           <td bgcolor=\"white\" class=\"detail\" width=\"40%\">\\n            <a class=\"notranslate\" href=\"/senate/Senator.asp?GA=101&amp;MemberID=2725\">\\n             Laura Ellman\\n            </a>\\n           </td>\\n           <td align=\"center\" bgcolor=\"white\" class=\"detail\" width=\"15%\">\\n            <a href=\"SenatorBills.asp?MemberID=2725\">\\n             Bills\\n            </a>\\n           </td>\\n           <td align=\"center\" bgcolor=\"white\" class=\"detail\" width=\"15%\">\\n            <a href=\"SenCommittees.asp?MemberID=2725\">\\n             Committees\\n            </a>\\n           </td>\\n           <td align=\"center\" bgcolor=\"white\" class=\"detail\" width=\"15%\">\\n            21\\n           </td>\\n           <td align=\"center\" bgcolor=\"white\" class=\"detail\" width=\"15%\">\\n            D\\n           </td>\\n          </tr>\\n          <tr>\\n           <td bgcolor=\"EBEBEB\" class=\"detail\" width=\"40%\">\\n            <a class=\"notranslate\" href=\"/senate/Senator.asp?GA=101&amp;MemberID=2724\">\\n             Laura Fine\\n            </a>\\n           </td>\\n           <td align=\"center\" bgcolor=\"EBEBEB\" class=\"detail\" width=\"15%\">\\n            <a href=\"SenatorBills.asp?MemberID=2724\">\\n             Bills\\n            </a>\\n           </td>\\n           <td align=\"center\" bgcolor=\"EBEBEB\" class=\"detail\" width=\"15%\">\\n            <a href=\"SenCommittees.asp?MemberID=2724\">\\n             Committees\\n            </a>\\n           </td>\\n           <td align=\"center\" bgcolor=\"EBEBEB\" class=\"detail\" width=\"15%\">\\n            9\\n           </td>\\n           <td align=\"center\" bgcolor=\"EBEBEB\" class=\"detail\" width=\"15%\">\\n            D\\n           </td>\\n          </tr>\\n          <tr>\\n           <td bgcolor=\"white\" class=\"detail\" width=\"40%\">\\n            <a class=\"notranslate\" href=\"/senate/Senator.asp?GA=101&amp;MemberID=2678\">\\n             Dale Fowler\\n            </a>\\n           </td>\\n           <td align=\"center\" bgcolor=\"white\" class=\"detail\" width=\"15%\">\\n            <a href=\"SenatorBills.asp?MemberID=2678\">\\n             Bills\\n            </a>\\n           </td>\\n           <td align=\"center\" bgcolor=\"white\" class=\"detail\" width=\"15%\">\\n            <a href=\"SenCommittees.asp?MemberID=2678\">\\n             Committees\\n            </a>\\n           </td>\\n           <td align=\"center\" bgcolor=\"white\" class=\"detail\" width=\"15%\">\\n            59\\n           </td>\\n           <td align=\"center\" bgcolor=\"white\" class=\"detail\" width=\"15%\">\\n            R\\n           </td>\\n          </tr>\\n          <tr>\\n           <td bgcolor=\"EBEBEB\" class=\"detail\" width=\"40%\">\\n            <a class=\"notranslate\" href=\"/senate/Senator.asp?GA=101&amp;MemberID=2726\">\\n             Ann Gillespie\\n            </a>\\n           </td>\\n           <td align=\"center\" bgcolor=\"EBEBEB\" class=\"detail\" width=\"15%\">\\n            <a href=\"SenatorBills.asp?MemberID=2726\">\\n             Bills\\n            </a>\\n           </td>\\n           <td align=\"center\" bgcolor=\"EBEBEB\" class=\"detail\" width=\"15%\">\\n            <a href=\"SenCommittees.asp?MemberID=2726\">\\n             Committees\\n            </a>\\n           </td>\\n           <td align=\"center\" bgcolor=\"EBEBEB\" class=\"detail\" width=\"15%\">\\n            27\\n           </td>\\n           <td align=\"center\" bgcolor=\"EBEBEB\" class=\"detail\" width=\"15%\">\\n            D\\n           </td>\\n          </tr>\\n          <tr>\\n           <td bgcolor=\"white\" class=\"detail\" width=\"40%\">\\n            <a class=\"notranslate\" href=\"/senate/Senator.asp?GA=101&amp;MemberID=2727\">\\n             Suzy Glowiak\\n            </a>\\n           </td>\\n           <td align=\"center\" bgcolor=\"white\" class=\"detail\" width=\"15%\">\\n            <a href=\"SenatorBills.asp?MemberID=2727\">\\n             Bills\\n            </a>\\n           </td>\\n           <td align=\"center\" bgcolor=\"white\" class=\"detail\" width=\"15%\">\\n            <a href=\"SenCommittees.asp?MemberID=2727\">\\n             Committees\\n            </a>\\n           </td>\\n           <td align=\"center\" bgcolor=\"white\" class=\"detail\" width=\"15%\">\\n            24\\n           </td>\\n           <td align=\"center\" bgcolor=\"white\" class=\"detail\" width=\"15%\">\\n            D\\n           </td>\\n          </tr>\\n          <tr>\\n           <td bgcolor=\"EBEBEB\" class=\"detail\" width=\"40%\">\\n            <a class=\"notranslate\" href=\"/senate/Senator.asp?GA=101&amp;MemberID=2551\">\\n             Don Harmon\\n            </a>\\n           </td>\\n           <td align=\"center\" bgcolor=\"EBEBEB\" class=\"detail\" width=\"15%\">\\n            <a href=\"SenatorBills.asp?MemberID=2551\">\\n             Bills\\n            </a>\\n           </td>\\n           <td align=\"center\" bgcolor=\"EBEBEB\" class=\"detail\" width=\"15%\">\\n            <a href=\"SenCommittees.asp?MemberID=2551\">\\n             Committees\\n            </a>\\n           </td>\\n           <td align=\"center\" bgcolor=\"EBEBEB\" class=\"detail\" width=\"15%\">\\n            39\\n           </td>\\n           <td align=\"center\" bgcolor=\"EBEBEB\" class=\"detail\" width=\"15%\">\\n            D\\n           </td>\\n          </tr>\\n          <tr>\\n           <td bgcolor=\"white\" class=\"detail\" width=\"40%\">\\n            <a class=\"notranslate\" href=\"/senate/Senator.asp?GA=101&amp;MemberID=2615\">\\n             Napoleon Harris, III\\n            </a>\\n           </td>\\n           <td align=\"center\" bgcolor=\"white\" class=\"detail\" width=\"15%\">\\n            <a href=\"SenatorBills.asp?MemberID=2615\">\\n             Bills\\n            </a>\\n           </td>\\n           <td align=\"center\" bgcolor=\"white\" class=\"detail\" width=\"15%\">\\n            <a href=\"SenCommittees.asp?MemberID=2615\">\\n             Committees\\n            </a>\\n           </td>\\n           <td align=\"center\" bgcolor=\"white\" class=\"detail\" width=\"15%\">\\n            15\\n           </td>\\n           <td align=\"center\" bgcolor=\"white\" class=\"detail\" width=\"15%\">\\n            D\\n           </td>\\n          </tr>\\n          <tr>\\n           <td bgcolor=\"EBEBEB\" class=\"detail\" width=\"40%\">\\n            <a class=\"notranslate\" href=\"/senate/Senator.asp?GA=101&amp;MemberID=2616\">\\n             Michael E. Hastings\\n            </a>\\n           </td>\\n           <td align=\"center\" bgcolor=\"EBEBEB\" class=\"detail\" width=\"15%\">\\n            <a href=\"SenatorBills.asp?MemberID=2616\">\\n             Bills\\n            </a>\\n           </td>\\n           <td align=\"center\" bgcolor=\"EBEBEB\" class=\"detail\" width=\"15%\">\\n            <a href=\"SenCommittees.asp?MemberID=2616\">\\n             Committees\\n            </a>\\n           </td>\\n           <td align=\"center\" bgcolor=\"EBEBEB\" class=\"detail\" width=\"15%\">\\n            19\\n           </td>\\n           <td align=\"center\" bgcolor=\"EBEBEB\" class=\"detail\" width=\"15%\">\\n            D\\n           </td>\\n          </tr>\\n          <tr>\\n           <td bgcolor=\"white\" class=\"detail\" width=\"40%\">\\n            <a class=\"notranslate\" href=\"/senate/Senator.asp?GA=101&amp;MemberID=2564\">\\n             Linda Holmes\\n            </a>\\n           </td>\\n           <td align=\"center\" bgcolor=\"white\" class=\"detail\" width=\"15%\">\\n            <a href=\"SenatorBills.asp?MemberID=2564\">\\n             Bills\\n            </a>\\n           </td>\\n           <td align=\"center\" bgcolor=\"white\" class=\"detail\" width=\"15%\">\\n            <a href=\"SenCommittees.asp?MemberID=2564\">\\n             Committees\\n            </a>\\n           </td>\\n           <td align=\"center\" bgcolor=\"white\" class=\"detail\" width=\"15%\">\\n            42\\n           </td>\\n           <td align=\"center\" bgcolor=\"white\" class=\"detail\" width=\"15%\">\\n            D\\n           </td>\\n          </tr>\\n          <tr>\\n           <td bgcolor=\"EBEBEB\" class=\"detail\" width=\"40%\">\\n            <a class=\"notranslate\" href=\"/senate/Senator.asp?GA=101&amp;MemberID=2554\">\\n             Mattie Hunter\\n            </a>\\n           </td>\\n           <td align=\"center\" bgcolor=\"EBEBEB\" class=\"detail\" width=\"15%\">\\n            <a href=\"SenatorBills.asp?MemberID=2554\">\\n             Bills\\n            </a>\\n           </td>\\n           <td align=\"center\" bgcolor=\"EBEBEB\" class=\"detail\" width=\"15%\">\\n            <a href=\"SenCommittees.asp?MemberID=2554\">\\n             Committees\\n            </a>\\n           </td>\\n           <td align=\"center\" bgcolor=\"EBEBEB\" class=\"detail\" width=\"15%\">\\n            3\\n           </td>\\n           <td align=\"center\" bgcolor=\"EBEBEB\" class=\"detail\" width=\"15%\">\\n            D\\n           </td>\\n          </tr>\\n          <tr>\\n           <td bgcolor=\"white\" class=\"detail\" width=\"40%\">\\n            <a class=\"notranslate\" href=\"/senate/Senator.asp?GA=101&amp;MemberID=2578\">\\n             Toi W. Hutchinson\\n            </a>\\n           </td>\\n           <td align=\"center\" bgcolor=\"white\" class=\"detail\" width=\"15%\">\\n            <a href=\"SenatorBills.asp?MemberID=2578\">\\n             Bills\\n            </a>\\n           </td>\\n           <td align=\"center\" bgcolor=\"white\" class=\"detail\" width=\"15%\">\\n            <a href=\"SenCommittees.asp?MemberID=2578\">\\n             Committees\\n            </a>\\n           </td>\\n           <td align=\"center\" bgcolor=\"white\" class=\"detail\" width=\"15%\">\\n            40\\n           </td>\\n           <td align=\"center\" bgcolor=\"white\" class=\"detail\" width=\"15%\">\\n            D\\n           </td>\\n          </tr>\\n          <tr>\\n           <td bgcolor=\"EBEBEB\" class=\"detail\" width=\"40%\">\\n            <a class=\"notranslate\" href=\"/senate/Senator.asp?GA=101&amp;MemberID=2579\">\\n             Emil Jones, III\\n            </a>\\n           </td>\\n           <td align=\"center\" bgcolor=\"EBEBEB\" class=\"detail\" width=\"15%\">\\n            <a href=\"SenatorBills.asp?MemberID=2579\">\\n             Bills\\n            </a>\\n           </td>\\n           <td align=\"center\" bgcolor=\"EBEBEB\" class=\"detail\" width=\"15%\">\\n            <a href=\"SenCommittees.asp?MemberID=2579\">\\n             Committees\\n            </a>\\n           </td>\\n           <td align=\"center\" bgcolor=\"EBEBEB\" class=\"detail\" width=\"15%\">\\n            14\\n           </td>\\n           <td align=\"center\" bgcolor=\"EBEBEB\" class=\"detail\" width=\"15%\">\\n            D\\n           </td>\\n          </tr>\\n          <tr>\\n           <td bgcolor=\"white\" class=\"detail\" width=\"40%\">\\n            <a class=\"notranslate\" href=\"/senate/Senator.asp?GA=101&amp;MemberID=2565\">\\n             David Koehler\\n            </a>\\n           </td>\\n           <td align=\"center\" bgcolor=\"white\" class=\"detail\" width=\"15%\">\\n            <a href=\"SenatorBills.asp?MemberID=2565\">\\n             Bills\\n            </a>\\n           </td>\\n           <td align=\"center\" bgcolor=\"white\" class=\"detail\" width=\"15%\">\\n            <a href=\"SenCommittees.asp?MemberID=2565\">\\n             Committees\\n            </a>\\n           </td>\\n           <td align=\"center\" bgcolor=\"white\" class=\"detail\" width=\"15%\">\\n            46\\n           </td>\\n           <td align=\"center\" bgcolor=\"white\" class=\"detail\" width=\"15%\">\\n            D\\n           </td>\\n          </tr>\\n          <tr>\\n           <td bgcolor=\"EBEBEB\" class=\"detail\" width=\"40%\">\\n            <a class=\"notranslate\" href=\"/senate/Senator.asp?GA=101&amp;MemberID=2600\">\\n             Steven M. Landek\\n            </a>\\n           </td>\\n           <td align=\"center\" bgcolor=\"EBEBEB\" class=\"detail\" width=\"15%\">\\n            <a href=\"SenatorBills.asp?MemberID=2600\">\\n             Bills\\n            </a>\\n           </td>\\n           <td align=\"center\" bgcolor=\"EBEBEB\" class=\"detail\" width=\"15%\">\\n            <a href=\"SenCommittees.asp?MemberID=2600\">\\n             Committees\\n            </a>\\n           </td>\\n           <td align=\"center\" bgcolor=\"EBEBEB\" class=\"detail\" width=\"15%\">\\n            12\\n           </td>\\n           <td align=\"center\" bgcolor=\"EBEBEB\" class=\"detail\" width=\"15%\">\\n            D\\n           </td>\\n          </tr>\\n          <tr>\\n           <td bgcolor=\"white\" class=\"detail\" width=\"40%\">\\n            <a class=\"notranslate\" href=\"/senate/Senator.asp?GA=101&amp;MemberID=2535\">\\n             Kimberly A. Lightford\\n            </a>\\n           </td>\\n           <td align=\"center\" bgcolor=\"white\" class=\"detail\" width=\"15%\">\\n            <a href=\"SenatorBills.asp?MemberID=2535\">\\n             Bills\\n            </a>\\n           </td>\\n           <td align=\"center\" bgcolor=\"white\" class=\"detail\" width=\"15%\">\\n            <a href=\"SenCommittees.asp?MemberID=2535\">\\n             Committees\\n            </a>\\n           </td>\\n           <td align=\"center\" bgcolor=\"white\" class=\"detail\" width=\"15%\">\\n            4\\n           </td>\\n           <td align=\"center\" bgcolor=\"white\" class=\"detail\" width=\"15%\">\\n            D\\n           </td>\\n          </tr>\\n          <tr>\\n           <td bgcolor=\"EBEBEB\" class=\"detail\" width=\"40%\">\\n            <a class=\"notranslate\" href=\"/senate/Senator.asp?GA=101&amp;MemberID=2536\">\\n             Terry Link\\n            </a>\\n           </td>\\n           <td align=\"center\" bgcolor=\"EBEBEB\" class=\"detail\" width=\"15%\">\\n            <a href=\"SenatorBills.asp?MemberID=2536\">\\n             Bills\\n            </a>\\n           </td>\\n           <td align=\"center\" bgcolor=\"EBEBEB\" class=\"detail\" width=\"15%\">\\n            <a href=\"SenCommittees.asp?MemberID=2536\">\\n             Committees\\n            </a>\\n           </td>\\n           <td align=\"center\" bgcolor=\"EBEBEB\" class=\"detail\" width=\"15%\">\\n            30\\n           </td>\\n           <td align=\"center\" bgcolor=\"EBEBEB\" class=\"detail\" width=\"15%\">\\n            D\\n           </td>\\n          </tr>\\n          <tr>\\n           <td bgcolor=\"white\" class=\"detail\" width=\"40%\">\\n            <a class=\"notranslate\" href=\"/senate/Senator.asp?GA=101&amp;MemberID=2617\">\\n             Andy Manar\\n            </a>\\n           </td>\\n           <td align=\"center\" bgcolor=\"white\" class=\"detail\" width=\"15%\">\\n            <a href=\"SenatorBills.asp?MemberID=2617\">\\n             Bills\\n            </a>\\n           </td>\\n           <td align=\"center\" bgcolor=\"white\" class=\"detail\" width=\"15%\">\\n            <a href=\"SenCommittees.asp?MemberID=2617\">\\n             Committees\\n            </a>\\n           </td>\\n           <td align=\"center\" bgcolor=\"white\" class=\"detail\" width=\"15%\">\\n            48\\n           </td>\\n           <td align=\"center\" bgcolor=\"white\" class=\"detail\" width=\"15%\">\\n            D\\n           </td>\\n          </tr>\\n          <tr>\\n           <td bgcolor=\"EBEBEB\" class=\"detail\" width=\"40%\">\\n            <a class=\"notranslate\" href=\"/senate/Senator.asp?GA=101&amp;MemberID=2550\">\\n             Iris Y. Martinez\\n            </a>\\n           </td>\\n           <td align=\"center\" bgcolor=\"EBEBEB\" class=\"detail\" width=\"15%\">\\n            <a href=\"SenatorBills.asp?MemberID=2550\">\\n             Bills\\n            </a>\\n           </td>\\n           <td align=\"center\" bgcolor=\"EBEBEB\" class=\"detail\" width=\"15%\">\\n            <a href=\"SenCommittees.asp?MemberID=2550\">\\n             Committees\\n            </a>\\n           </td>\\n           <td align=\"center\" bgcolor=\"EBEBEB\" class=\"detail\" width=\"15%\">\\n            20\\n           </td>\\n           <td align=\"center\" bgcolor=\"EBEBEB\" class=\"detail\" width=\"15%\">\\n            D\\n           </td>\\n          </tr>\\n          <tr>\\n           <td bgcolor=\"white\" class=\"detail\" width=\"40%\">\\n            <a class=\"notranslate\" href=\"/senate/Senator.asp?GA=101&amp;MemberID=2728\">\\n             Steve McClure\\n            </a>\\n           </td>\\n           <td align=\"center\" bgcolor=\"white\" class=\"detail\" width=\"15%\">\\n            <a href=\"SenatorBills.asp?MemberID=2728\">\\n             Bills\\n            </a>\\n           </td>\\n           <td align=\"center\" bgcolor=\"white\" class=\"detail\" width=\"15%\">\\n            <a href=\"SenCommittees.asp?MemberID=2728\">\\n             Committees\\n            </a>\\n           </td>\\n           <td align=\"center\" bgcolor=\"white\" class=\"detail\" width=\"15%\">\\n            50\\n           </td>\\n           <td align=\"center\" bgcolor=\"white\" class=\"detail\" width=\"15%\">\\n            R\\n           </td>\\n          </tr>\\n          <tr>\\n           <td bgcolor=\"EBEBEB\" class=\"detail\" width=\"40%\">\\n            <a class=\"notranslate\" href=\"/senate/Senator.asp?GA=101&amp;MemberID=2672\">\\n             Dan McConchie\\n            </a>\\n           </td>\\n           <td align=\"center\" bgcolor=\"EBEBEB\" class=\"detail\" width=\"15%\">\\n            <a href=\"SenatorBills.asp?MemberID=2672\">\\n             Bills\\n            </a>\\n           </td>\\n           <td align=\"center\" bgcolor=\"EBEBEB\" class=\"detail\" width=\"15%\">\\n            <a href=\"SenCommittees.asp?MemberID=2672\">\\n             Committees\\n            </a>\\n           </td>\\n           <td align=\"center\" bgcolor=\"EBEBEB\" class=\"detail\" width=\"15%\">\\n            26\\n           </td>\\n           <td align=\"center\" bgcolor=\"EBEBEB\" class=\"detail\" width=\"15%\">\\n            R\\n           </td>\\n          </tr>\\n          <tr>\\n           <td bgcolor=\"white\" class=\"detail\" width=\"40%\">\\n            <a class=\"notranslate\" href=\"/senate/Senator.asp?GA=101&amp;MemberID=2603\">\\n             Pat McGuire\\n            </a>\\n           </td>\\n           <td align=\"center\" bgcolor=\"white\" class=\"detail\" width=\"15%\">\\n            <a href=\"SenatorBills.asp?MemberID=2603\">\\n             Bills\\n            </a>\\n           </td>\\n           <td align=\"center\" bgcolor=\"white\" class=\"detail\" width=\"15%\">\\n            <a href=\"SenCommittees.asp?MemberID=2603\">\\n             Committees\\n            </a>\\n           </td>\\n           <td align=\"center\" bgcolor=\"white\" class=\"detail\" width=\"15%\">\\n            43\\n           </td>\\n           <td align=\"center\" bgcolor=\"white\" class=\"detail\" width=\"15%\">\\n            D\\n           </td>\\n          </tr>\\n          <tr>\\n           <td bgcolor=\"EBEBEB\" class=\"detail\" width=\"40%\">\\n            <a class=\"notranslate\" href=\"/senate/Senator.asp?GA=101&amp;MemberID=2619\">\\n             Julie A. Morrison\\n            </a>\\n           </td>\\n           <td align=\"center\" bgcolor=\"EBEBEB\" class=\"detail\" width=\"15%\">\\n            <a href=\"SenatorBills.asp?MemberID=2619\">\\n             Bills\\n            </a>\\n           </td>\\n           <td align=\"center\" bgcolor=\"EBEBEB\" class=\"detail\" width=\"15%\">\\n            <a href=\"SenCommittees.asp?MemberID=2619\">\\n             Committees\\n            </a>\\n           </td>\\n           <td align=\"center\" bgcolor=\"EBEBEB\" class=\"detail\" width=\"15%\">\\n            29\\n           </td>\\n           <td align=\"center\" bgcolor=\"EBEBEB\" class=\"detail\" width=\"15%\">\\n            D\\n           </td>\\n          </tr>\\n          <tr>\\n           <td bgcolor=\"white\" class=\"detail\" width=\"40%\">\\n            <a class=\"notranslate\" href=\"/senate/Senator.asp?GA=101&amp;MemberID=2586\">\\n             John G. Mulroe\\n            </a>\\n           </td>\\n           <td align=\"center\" bgcolor=\"white\" class=\"detail\" width=\"15%\">\\n            <a href=\"SenatorBills.asp?MemberID=2586\">\\n             Bills\\n            </a>\\n           </td>\\n           <td align=\"center\" bgcolor=\"white\" class=\"detail\" width=\"15%\">\\n            <a href=\"SenCommittees.asp?MemberID=2586\">\\n             Committees\\n            </a>\\n           </td>\\n           <td align=\"center\" bgcolor=\"white\" class=\"detail\" width=\"15%\">\\n            10\\n           </td>\\n           <td align=\"center\" bgcolor=\"white\" class=\"detail\" width=\"15%\">\\n            D\\n           </td>\\n          </tr>\\n          <tr>\\n           <td bgcolor=\"EBEBEB\" class=\"detail\" width=\"40%\">\\n            <a class=\"notranslate\" href=\"/senate/Senator.asp?GA=101&amp;MemberID=2537\">\\n             Antonio Muñoz\\n            </a>\\n           </td>\\n           <td align=\"center\" bgcolor=\"EBEBEB\" class=\"detail\" width=\"15%\">\\n            <a href=\"SenatorBills.asp?MemberID=2537\">\\n             Bills\\n            </a>\\n           </td>\\n           <td align=\"center\" bgcolor=\"EBEBEB\" class=\"detail\" width=\"15%\">\\n            <a href=\"SenCommittees.asp?MemberID=2537\">\\n             Committees\\n            </a>\\n           </td>\\n           <td align=\"center\" bgcolor=\"EBEBEB\" class=\"detail\" width=\"15%\">\\n            1\\n           </td>\\n           <td align=\"center\" bgcolor=\"EBEBEB\" class=\"detail\" width=\"15%\">\\n            D\\n           </td>\\n          </tr>\\n          <tr>\\n           <td bgcolor=\"white\" class=\"detail\" width=\"40%\">\\n            <a class=\"notranslate\" href=\"/senate/Senator.asp?GA=101&amp;MemberID=2668\">\\n             Laura M. Murphy\\n            </a>\\n           </td>\\n           <td align=\"center\" bgcolor=\"white\" class=\"detail\" width=\"15%\">\\n            <a href=\"SenatorBills.asp?MemberID=2668\">\\n             Bills\\n            </a>\\n           </td>\\n           <td align=\"center\" bgcolor=\"white\" class=\"detail\" width=\"15%\">\\n            <a href=\"SenCommittees.asp?MemberID=2668\">\\n             Committees\\n            </a>\\n           </td>\\n           <td align=\"center\" bgcolor=\"white\" class=\"detail\" width=\"15%\">\\n            28\\n           </td>\\n           <td align=\"center\" bgcolor=\"white\" class=\"detail\" width=\"15%\">\\n            D\\n           </td>\\n          </tr>\\n          <tr>\\n           <td bgcolor=\"EBEBEB\" class=\"detail\" width=\"40%\">\\n            <a class=\"notranslate\" href=\"/senate/Senator.asp?GA=101&amp;MemberID=2620\">\\n             Jim Oberweis\\n            </a>\\n           </td>\\n           <td align=\"center\" bgcolor=\"EBEBEB\" class=\"detail\" width=\"15%\">\\n            <a href=\"SenatorBills.asp?MemberID=2620\">\\n             Bills\\n            </a>\\n           </td>\\n           <td align=\"center\" bgcolor=\"EBEBEB\" class=\"detail\" width=\"15%\">\\n            <a href=\"SenCommittees.asp?MemberID=2620\">\\n             Committees\\n            </a>\\n           </td>\\n           <td align=\"center\" bgcolor=\"EBEBEB\" class=\"detail\" width=\"15%\">\\n            25\\n           </td>\\n           <td align=\"center\" bgcolor=\"EBEBEB\" class=\"detail\" width=\"15%\">\\n            R\\n           </td>\\n          </tr>\\n          <tr>\\n           <td bgcolor=\"white\" class=\"detail\" width=\"40%\">\\n            <a class=\"notranslate\" href=\"/senate/Senator.asp?GA=101&amp;MemberID=2729\">\\n             Robert Peters\\n            </a>\\n           </td>\\n           <td align=\"center\" bgcolor=\"white\" class=\"detail\" width=\"15%\">\\n            <a href=\"SenatorBills.asp?MemberID=2729\">\\n             Bills\\n            </a>\\n           </td>\\n           <td align=\"center\" bgcolor=\"white\" class=\"detail\" width=\"15%\">\\n            <a href=\"SenCommittees.asp?MemberID=2729\">\\n             Committees\\n            </a>\\n           </td>\\n           <td align=\"center\" bgcolor=\"white\" class=\"detail\" width=\"15%\">\\n            13\\n           </td>\\n           <td align=\"center\" bgcolor=\"white\" class=\"detail\" width=\"15%\">\\n            D\\n           </td>\\n          </tr>\\n          <tr>\\n           <td bgcolor=\"EBEBEB\" class=\"detail\" width=\"40%\">\\n            <a class=\"notranslate\" href=\"/senate/Senator.asp?GA=101&amp;MemberID=2730\">\\n             Jason Plummer\\n            </a>\\n           </td>\\n           <td align=\"center\" bgcolor=\"EBEBEB\" class=\"detail\" width=\"15%\">\\n            <a href=\"SenatorBills.asp?MemberID=2730\">\\n             Bills\\n            </a>\\n           </td>\\n           <td align=\"center\" bgcolor=\"EBEBEB\" class=\"detail\" width=\"15%\">\\n            <a href=\"SenCommittees.asp?MemberID=2730\">\\n             Committees\\n            </a>\\n           </td>\\n           <td align=\"center\" bgcolor=\"EBEBEB\" class=\"detail\" width=\"15%\">\\n            54\\n           </td>\\n           <td align=\"center\" bgcolor=\"EBEBEB\" class=\"detail\" width=\"15%\">\\n            R\\n           </td>\\n          </tr>\\n          <tr>\\n           <td bgcolor=\"white\" class=\"detail\" width=\"40%\">\\n            <a class=\"notranslate\" href=\"/senate/Senator.asp?GA=101&amp;MemberID=2588\">\\n             Sue Rezin\\n            </a>\\n           </td>\\n           <td align=\"center\" bgcolor=\"white\" class=\"detail\" width=\"15%\">\\n            <a href=\"SenatorBills.asp?MemberID=2588\">\\n             Bills\\n            </a>\\n           </td>\\n           <td align=\"center\" bgcolor=\"white\" class=\"detail\" width=\"15%\">\\n            <a href=\"SenCommittees.asp?MemberID=2588\">\\n             Committees\\n            </a>\\n           </td>\\n           <td align=\"center\" bgcolor=\"white\" class=\"detail\" width=\"15%\">\\n            38\\n           </td>\\n           <td align=\"center\" bgcolor=\"white\" class=\"detail\" width=\"15%\">\\n            R\\n           </td>\\n          </tr>\\n          <tr>\\n           <td bgcolor=\"EBEBEB\" class=\"detail\" width=\"40%\">\\n            <a class=\"notranslate\" href=\"/senate/Senator.asp?GA=101&amp;MemberID=2552\">\\n             Dale A. Righter\\n            </a>\\n           </td>\\n           <td align=\"center\" bgcolor=\"EBEBEB\" class=\"detail\" width=\"15%\">\\n            <a href=\"SenatorBills.asp?MemberID=2552\">\\n             Bills\\n            </a>\\n           </td>\\n           <td align=\"center\" bgcolor=\"EBEBEB\" class=\"detail\" width=\"15%\">\\n            <a href=\"SenCommittees.asp?MemberID=2552\">\\n             Committees\\n            </a>\\n           </td>\\n           <td align=\"center\" bgcolor=\"EBEBEB\" class=\"detail\" width=\"15%\">\\n            55\\n           </td>\\n           <td align=\"center\" bgcolor=\"EBEBEB\" class=\"detail\" width=\"15%\">\\n            R\\n           </td>\\n          </tr>\\n          <tr>\\n           <td bgcolor=\"white\" class=\"detail\" width=\"40%\">\\n            <a class=\"notranslate\" href=\"/senate/Senator.asp?GA=101&amp;MemberID=2621\">\\n             Chapin Rose\\n            </a>\\n           </td>\\n           <td align=\"center\" bgcolor=\"white\" class=\"detail\" width=\"15%\">\\n            <a href=\"SenatorBills.asp?MemberID=2621\">\\n             Bills\\n            </a>\\n           </td>\\n           <td align=\"center\" bgcolor=\"white\" class=\"detail\" width=\"15%\">\\n            <a href=\"SenCommittees.asp?MemberID=2621\">\\n             Committees\\n            </a>\\n           </td>\\n           <td align=\"center\" bgcolor=\"white\" class=\"detail\" width=\"15%\">\\n            51\\n           </td>\\n           <td align=\"center\" bgcolor=\"white\" class=\"detail\" width=\"15%\">\\n            R\\n           </td>\\n          </tr>\\n          <tr>\\n           <td bgcolor=\"EBEBEB\" class=\"detail\" width=\"40%\">\\n            <a class=\"notranslate\" href=\"/senate/Senator.asp?GA=101&amp;MemberID=2548\">\\n             Martin A. Sandoval\\n            </a>\\n           </td>\\n           <td align=\"center\" bgcolor=\"EBEBEB\" class=\"detail\" width=\"15%\">\\n            <a href=\"SenatorBills.asp?MemberID=2548\">\\n             Bills\\n            </a>\\n           </td>\\n           <td align=\"center\" bgcolor=\"EBEBEB\" class=\"detail\" width=\"15%\">\\n            <a href=\"SenCommittees.asp?MemberID=2548\">\\n             Committees\\n            </a>\\n           </td>\\n           <td align=\"center\" bgcolor=\"EBEBEB\" class=\"detail\" width=\"15%\">\\n            11\\n           </td>\\n           <td align=\"center\" bgcolor=\"EBEBEB\" class=\"detail\" width=\"15%\">\\n            D\\n           </td>\\n          </tr>\\n          <tr>\\n           <td bgcolor=\"white\" class=\"detail\" width=\"40%\">\\n            <a class=\"notranslate\" href=\"/senate/Senator.asp?GA=101&amp;MemberID=2679\">\\n             Paul Schimpf\\n            </a>\\n           </td>\\n           <td align=\"center\" bgcolor=\"white\" class=\"detail\" width=\"15%\">\\n            <a href=\"SenatorBills.asp?MemberID=2679\">\\n             Bills\\n            </a>\\n           </td>\\n           <td align=\"center\" bgcolor=\"white\" class=\"detail\" width=\"15%\">\\n            <a href=\"SenCommittees.asp?MemberID=2679\">\\n             Committees\\n            </a>\\n           </td>\\n           <td align=\"center\" bgcolor=\"white\" class=\"detail\" width=\"15%\">\\n            58\\n           </td>\\n           <td align=\"center\" bgcolor=\"white\" class=\"detail\" width=\"15%\">\\n            R\\n           </td>\\n          </tr>\\n          <tr>\\n           <td bgcolor=\"EBEBEB\" class=\"detail\" width=\"40%\">\\n            <a class=\"notranslate\" href=\"/senate/Senator.asp?GA=101&amp;MemberID=2703\">\\n             Elgie R. Sims, Jr.\\n            </a>\\n           </td>\\n           <td align=\"center\" bgcolor=\"EBEBEB\" class=\"detail\" width=\"15%\">\\n            <a href=\"SenatorBills.asp?MemberID=2703\">\\n             Bills\\n            </a>\\n           </td>\\n           <td align=\"center\" bgcolor=\"EBEBEB\" class=\"detail\" width=\"15%\">\\n            <a href=\"SenCommittees.asp?MemberID=2703\">\\n             Committees\\n            </a>\\n           </td>\\n           <td align=\"center\" bgcolor=\"EBEBEB\" class=\"detail\" width=\"15%\">\\n            17\\n           </td>\\n           <td align=\"center\" bgcolor=\"EBEBEB\" class=\"detail\" width=\"15%\">\\n            D\\n           </td>\\n          </tr>\\n          <tr>\\n           <td bgcolor=\"white\" class=\"detail\" width=\"40%\">\\n            <a class=\"notranslate\" href=\"/senate/Senator.asp?GA=101&amp;MemberID=2622\">\\n             Steve Stadelman\\n            </a>\\n           </td>\\n           <td align=\"center\" bgcolor=\"white\" class=\"detail\" width=\"15%\">\\n            <a href=\"SenatorBills.asp?MemberID=2622\">\\n             Bills\\n            </a>\\n           </td>\\n           <td align=\"center\" bgcolor=\"white\" class=\"detail\" width=\"15%\">\\n            <a href=\"SenCommittees.asp?MemberID=2622\">\\n             Committees\\n            </a>\\n           </td>\\n           <td align=\"center\" bgcolor=\"white\" class=\"detail\" width=\"15%\">\\n            34\\n           </td>\\n           <td align=\"center\" bgcolor=\"white\" class=\"detail\" width=\"15%\">\\n            D\\n           </td>\\n          </tr>\\n          <tr>\\n           <td bgcolor=\"EBEBEB\" class=\"detail\" width=\"40%\">\\n            <a class=\"notranslate\" href=\"/senate/Senator.asp?GA=101&amp;MemberID=2571\">\\n             Heather A. Steans\\n            </a>\\n           </td>\\n           <td align=\"center\" bgcolor=\"EBEBEB\" class=\"detail\" width=\"15%\">\\n            <a href=\"SenatorBills.asp?MemberID=2571\">\\n             Bills\\n            </a>\\n           </td>\\n           <td align=\"center\" bgcolor=\"EBEBEB\" class=\"detail\" width=\"15%\">\\n            <a href=\"SenCommittees.asp?MemberID=2571\">\\n             Committees\\n            </a>\\n           </td>\\n           <td align=\"center\" bgcolor=\"EBEBEB\" class=\"detail\" width=\"15%\">\\n            7\\n           </td>\\n           <td align=\"center\" bgcolor=\"EBEBEB\" class=\"detail\" width=\"15%\">\\n            D\\n           </td>\\n          </tr>\\n          <tr>\\n           <td bgcolor=\"white\" class=\"detail\" width=\"40%\">\\n            <a class=\"notranslate\" href=\"/senate/Senator.asp?GA=101&amp;MemberID=2720\">\\n             Brian W. Stewart\\n            </a>\\n           </td>\\n           <td align=\"center\" bgcolor=\"white\" class=\"detail\" width=\"15%\">\\n            <a href=\"SenatorBills.asp?MemberID=2720\">\\n             Bills\\n            </a>\\n           </td>\\n           <td align=\"center\" bgcolor=\"white\" class=\"detail\" width=\"15%\">\\n            <a href=\"SenCommittees.asp?MemberID=2720\">\\n             Committees\\n            </a>\\n           </td>\\n           <td align=\"center\" bgcolor=\"white\" class=\"detail\" width=\"15%\">\\n            45\\n           </td>\\n           <td align=\"center\" bgcolor=\"white\" class=\"detail\" width=\"15%\">\\n            R\\n           </td>\\n          </tr>\\n          <tr>\\n           <td bgcolor=\"EBEBEB\" class=\"detail\" width=\"40%\">\\n            <a class=\"notranslate\" href=\"/senate/Senator.asp?GA=101&amp;MemberID=2540\">\\n             Dave Syverson\\n            </a>\\n           </td>\\n           <td align=\"center\" bgcolor=\"EBEBEB\" class=\"detail\" width=\"15%\">\\n            <a href=\"SenatorBills.asp?MemberID=2540\">\\n             Bills\\n            </a>\\n           </td>\\n           <td align=\"center\" bgcolor=\"EBEBEB\" class=\"detail\" width=\"15%\">\\n            <a href=\"SenCommittees.asp?MemberID=2540\">\\n             Committees\\n            </a>\\n           </td>\\n           <td align=\"center\" bgcolor=\"EBEBEB\" class=\"detail\" width=\"15%\">\\n            35\\n           </td>\\n           <td align=\"center\" bgcolor=\"EBEBEB\" class=\"detail\" width=\"15%\">\\n            R\\n           </td>\\n          </tr>\\n          <tr>\\n           <td bgcolor=\"white\" class=\"detail\" width=\"40%\">\\n            <a class=\"notranslate\" href=\"/senate/Senator.asp?GA=101&amp;MemberID=2680\">\\n             Jil Tracy\\n            </a>\\n           </td>\\n           <td align=\"center\" bgcolor=\"white\" class=\"detail\" width=\"15%\">\\n            <a href=\"SenatorBills.asp?MemberID=2680\">\\n             Bills\\n            </a>\\n           </td>\\n           <td align=\"center\" bgcolor=\"white\" class=\"detail\" width=\"15%\">\\n            <a href=\"SenCommittees.asp?MemberID=2680\">\\n             Committees\\n            </a>\\n           </td>\\n           <td align=\"center\" bgcolor=\"white\" class=\"detail\" width=\"15%\">\\n            47\\n           </td>\\n           <td align=\"center\" bgcolor=\"white\" class=\"detail\" width=\"15%\">\\n            R\\n           </td>\\n          </tr>\\n          <tr>\\n           <td bgcolor=\"EBEBEB\" class=\"detail\" width=\"40%\">\\n            <a class=\"notranslate\" href=\"/senate/Senator.asp?GA=101&amp;MemberID=2623\">\\n             Patricia Van Pelt\\n            </a>\\n           </td>\\n           <td align=\"center\" bgcolor=\"EBEBEB\" class=\"detail\" width=\"15%\">\\n            <a href=\"SenatorBills.asp?MemberID=2623\">\\n             Bills\\n            </a>\\n           </td>\\n           <td align=\"center\" bgcolor=\"EBEBEB\" class=\"detail\" width=\"15%\">\\n            <a href=\"SenCommittees.asp?MemberID=2623\">\\n             Committees\\n            </a>\\n           </td>\\n           <td align=\"center\" bgcolor=\"EBEBEB\" class=\"detail\" width=\"15%\">\\n            5\\n           </td>\\n           <td align=\"center\" bgcolor=\"EBEBEB\" class=\"detail\" width=\"15%\">\\n            D\\n           </td>\\n          </tr>\\n          <tr>\\n           <td bgcolor=\"white\" class=\"detail\" width=\"40%\">\\n            <a class=\"notranslate\" href=\"/senate/Senator.asp?GA=101&amp;MemberID=2731\">\\n             Ram Villivalam\\n            </a>\\n           </td>\\n           <td align=\"center\" bgcolor=\"white\" class=\"detail\" width=\"15%\">\\n            <a href=\"SenatorBills.asp?MemberID=2731\">\\n             Bills\\n            </a>\\n           </td>\\n           <td align=\"center\" bgcolor=\"white\" class=\"detail\" width=\"15%\">\\n            <a href=\"SenCommittees.asp?MemberID=2731\">\\n             Committees\\n            </a>\\n           </td>\\n           <td align=\"center\" bgcolor=\"white\" class=\"detail\" width=\"15%\">\\n            8\\n           </td>\\n           <td align=\"center\" bgcolor=\"white\" class=\"detail\" width=\"15%\">\\n            D\\n           </td>\\n          </tr>\\n          <tr>\\n           <td bgcolor=\"EBEBEB\" class=\"detail\" width=\"40%\">\\n            <a class=\"notranslate\" href=\"/senate/Senator.asp?GA=101&amp;MemberID=2669\">\\n             Chuck Weaver\\n            </a>\\n           </td>\\n           <td align=\"center\" bgcolor=\"EBEBEB\" class=\"detail\" width=\"15%\">\\n            <a href=\"SenatorBills.asp?MemberID=2669\">\\n             Bills\\n            </a>\\n           </td>\\n           <td align=\"center\" bgcolor=\"EBEBEB\" class=\"detail\" width=\"15%\">\\n            <a href=\"SenCommittees.asp?MemberID=2669\">\\n             Committees\\n            </a>\\n           </td>\\n           <td align=\"center\" bgcolor=\"EBEBEB\" class=\"detail\" width=\"15%\">\\n            37\\n           </td>\\n           <td align=\"center\" bgcolor=\"EBEBEB\" class=\"detail\" width=\"15%\">\\n            R\\n           </td>\\n          </tr>\\n          <tr>\\n           <td bgcolor=\"white\" class=\"detail\" width=\"40%\">\\n            <a class=\"notranslate\" href=\"/senate/Senator.asp?GA=101&amp;MemberID=2711\">\\n             Craig Wilcox\\n            </a>\\n           </td>\\n           <td align=\"center\" bgcolor=\"white\" class=\"detail\" width=\"15%\">\\n            <a href=\"SenatorBills.asp?MemberID=2711\">\\n             Bills\\n            </a>\\n           </td>\\n           <td align=\"center\" bgcolor=\"white\" class=\"detail\" width=\"15%\">\\n            <a href=\"SenCommittees.asp?MemberID=2711\">\\n             Committees\\n            </a>\\n           </td>\\n           <td align=\"center\" bgcolor=\"white\" class=\"detail\" width=\"15%\">\\n            32\\n           </td>\\n           <td align=\"center\" bgcolor=\"white\" class=\"detail\" width=\"15%\">\\n            R\\n           </td>\\n          </tr>\\n         </table>\\n         <p class=\"content\">\\n          To view a report listing contact information for all active members,\\n          <a href=\"/reports/rptMemberList.asp?gaid=15&amp;ChamberId=S\" target=\"new\">\\n           click here\\n          </a>\\n          .\\n         </p>\\n        </form>\\n        <!--End Custom Page Content-->\\n        <!--Begin Page End-->\\n       </td>\\n      </tr>\\n      <tr id=\"Senate\">\\n       <td>\\n        <table align=\"center\" border=\"0\" cellpadding=\"0\" cellspacing=\"0\" class=\"footer\" width=\"100%\">\\n         <tr>\\n          <td align=\"center\" colspan=\"2\">\\n           <hr color=\"navy\" noshade=\"True\"/>\\n           <a class=\"footer\" href=\"/\" title=\"View the General Assembly web site home page\">\\n            Home\\n           </a>\\n           |\\n           <a class=\"footer\" href=\"/legislation/\" title=\"View Legislation and Laws\">\\n            Legislation &amp; Laws\\n           </a>\\n           |\\n           <a class=\"footer\" href=\"/house/default.asp\" title=\"View information regarding House of Representatives\">\\n            House\\n           </a>\\n           |\\n           <a class=\"footer\" href=\"/senate/default.asp\" title=\"View information regarding Senate\">\\n            Senate\\n           </a>\\n           |\\n           <a class=\"footer\" href=\"/mylegislation/default.asp\" title=\"Set up customized queries, create reports for tracking, etc.\">\\n            My Legislation\\n           </a>\\n           |\\n           <a class=\"footer\" href=\"/disclaimer.asp\" title=\"Disclaimers regarding the Illinois General Assembly web site\">\\n            Disclaimers\\n           </a>\\n           |\\n           <a class=\"footer\" href=\"/contact.asp\" title=\"Contact the Illinois General Assembly Web Support Staff\">\\n            Email\\n           </a>\\n          </td>\\n         </tr>\\n         <tr>\\n          <td align=\"center\" colspan=\"2\">\\n           <hr color=\"navy\" noshade=\"True\"/>\\n           <br/>\\n          </td>\\n         </tr>\\n         <tr>\\n          <td align=\"left\" class=\"footer\" width=\"107\">\\n           <img alt=\"Legislative Information System logo\" height=\"45\" src=\"/images/lislogo.jpg\" width=\"100\"/>\\n          </td>\\n          <td align=\"\" class=\"footer\" valign=\"top\" width=\"100%\">\\n           This site is maintained for the Illinois General Assembly \\r\\nby the\\n           <br/>\\n           Legislative Information System, 705 Stratton Building, Springfield, Illinois 62706\\n           <br/>\\n           217-782-3944\\xa0\\xa0\\xa0217-782-2050\\xa0(TTY)\\n           <br/>\\n          </td>\\n         </tr>\\n        </table>\\n       </td>\\n      </tr>\\n     </table>\\n     <p>\\n     </p>\\n     <br/>\\n    </td>\\n   </tr>\\n  </table>\\n </body>\\n</html>\\n'"
      ]
     },
     "execution_count": 24,
     "metadata": {},
     "output_type": "execute_result"
    }
   ],
   "source": [
    "soup.prettify()"
   ]
  },
  {
   "cell_type": "markdown",
   "metadata": {},
   "source": [
    "## 1.3 Find Elements\n",
    "\n",
    "BeautifulSoup has a number of functions to find things on a page. Like other webscraping tools, Beautiful Soup lets you find elements by their:\n",
    "\n",
    "1. HTML tags\n",
    "2. HTML Attributes\n",
    "3. CSS Selectors\n",
    "\n",
    "\n",
    "Let's search first for **HTML tags**. \n",
    "\n",
    "The function `find_all` searches the `soup` tree to find all the elements with an a particular HTML tag, and returns all of those elements.\n",
    "\n",
    "What does the example below do?"
   ]
  },
  {
   "cell_type": "code",
   "execution_count": 6,
   "metadata": {},
   "outputs": [
    {
     "data": {
      "text/plain": [
       "[<a class=\"goog-logo-link\" href=\"https://translate.google.com\" target=\"_blank\"><img alt=\"Google Translate\" height=\"14\" src=\"https://www.gstatic.com/images/branding/googlelogo/1x/googlelogo_color_42x16dp.png\" style=\"padding-right: 3px;\" width=\"37\"/>Translate</a>,\n",
       " <a href=\"/default.asp\"><img alt=\"Illinois General Assembly\" border=\"0\" height=\"49\" src=\"/images/logo_sm.gif\" width=\"462\"/></a>,\n",
       " <a class=\"mainmenu\" href=\"/\">Home</a>,\n",
       " <a class=\"mainmenu\" href=\"/legislation/\" onblur=\"HM_f_PopDown('elMenu1')\" onfocus=\"HM_f_PopUp('elMenu1',event)\" onmouseout=\"HM_f_PopDown('elMenu1')\" onmouseover=\"HM_f_PopUp('elMenu1',event)\">Legislation &amp; Laws</a>,\n",
       " <a class=\"mainmenu\" href=\"/senate/\" onblur=\"HM_f_PopDown('elMenu3')\" onfocus=\"HM_f_PopUp('elMenu3',event)\" onmouseout=\"HM_f_PopDown('elMenu3')\" onmouseover=\"HM_f_PopUp('elMenu3',event)\">Senate</a>,\n",
       " <a class=\"mainmenu\" href=\"/house/\" onblur=\"HM_f_PopDown('elMenu2')\" onfocus=\"HM_f_PopUp('elMenu2',event)\" onmouseout=\"HM_f_PopDown('elMenu2')\" onmouseover=\"HM_f_PopUp('elMenu2',event)\">House</a>,\n",
       " <a class=\"mainmenu\" href=\"/mylegislation/\" onblur=\"HM_f_PopDown('elMenu4')\" onfocus=\"HM_f_PopUp('elMenu4',event)\" onmouseout=\"HM_f_PopDown('elMenu4')\" onmouseover=\"HM_f_PopUp('elMenu4',event)\">My Legislation</a>,\n",
       " <a class=\"mainmenu\" href=\"/sitemap.asp\">Site Map</a>,\n",
       " <a class=\"sidemenu\" href=\"/senate/default.asp\">  Members  </a>,\n",
       " <a class=\"sidemenu\" href=\"/senate/committees/default.asp\">  Committees  </a>,\n",
       " <a class=\"sidemenu\" href=\"/senate/schedules/default.asp\">  Schedules  </a>,\n",
       " <a class=\"sidemenu\" href=\"/senate/journals/default.asp\">  Journals  </a>,\n",
       " <a class=\"sidemenu\" href=\"/senate/transcripts/default.asp\">  Transcripts  </a>,\n",
       " <a class=\"sidemenu\" href=\"/senate/rules.asp\">  Rules  </a>,\n",
       " <a class=\"sidemenu\" href=\"/senateaudvid.asp\">  Live Audio/Video  </a>,\n",
       " <a href=\"101st_Senate_Leadership.pdf\">Leadership</a>,\n",
       " <a href=\"101st_Senate_Officers.pdf\">Officers</a>,\n",
       " <a href=\"101st_Senate_Seating_Chart.pdf\">Senate Seating Chart</a>,\n",
       " <a class=\"filetab\" href=\"javascript:Sort('LastName','',101);\" title=\"Sort by Senator\">Senator</a>,\n",
       " <a class=\"filetab\" href=\"javascript:Sort('DistrictNumber','',101);\" title=\"Sort by District\">District</a>,\n",
       " <a class=\"filetab\" href=\"javascript:Sort('Party','',101);\" title=\"Sort by Party\">Party</a>,\n",
       " <a class=\"notranslate\" href=\"/senate/Senator.asp?GA=101&amp;MemberID=2664\">Neil Anderson</a>,\n",
       " <a href=\"SenatorBills.asp?MemberID=2664\">Bills</a>,\n",
       " <a href=\"SenCommittees.asp?MemberID=2664\">Committees</a>,\n",
       " <a class=\"notranslate\" href=\"/senate/Senator.asp?GA=101&amp;MemberID=2673\">Omar Aquino</a>,\n",
       " <a href=\"SenatorBills.asp?MemberID=2673\">Bills</a>,\n",
       " <a href=\"SenCommittees.asp?MemberID=2673\">Committees</a>,\n",
       " <a class=\"notranslate\" href=\"/senate/Senator.asp?GA=101&amp;MemberID=2608\">Jason A. Barickman</a>,\n",
       " <a href=\"SenatorBills.asp?MemberID=2608\">Bills</a>,\n",
       " <a href=\"SenCommittees.asp?MemberID=2608\">Committees</a>,\n",
       " <a class=\"notranslate\" href=\"/senate/Senator.asp?GA=101&amp;MemberID=2721\">Christopher Belt</a>,\n",
       " <a href=\"SenatorBills.asp?MemberID=2721\">Bills</a>,\n",
       " <a href=\"SenCommittees.asp?MemberID=2721\">Committees</a>,\n",
       " <a class=\"notranslate\" href=\"/senate/Senator.asp?GA=101&amp;MemberID=2665\">Scott M. Bennett</a>,\n",
       " <a href=\"SenatorBills.asp?MemberID=2665\">Bills</a>,\n",
       " <a href=\"SenCommittees.asp?MemberID=2665\">Committees</a>,\n",
       " <a class=\"notranslate\" href=\"/senate/Senator.asp?GA=101&amp;MemberID=2610\">Jennifer Bertino-Tarrant</a>,\n",
       " <a href=\"SenatorBills.asp?MemberID=2610\">Bills</a>,\n",
       " <a href=\"SenCommittees.asp?MemberID=2610\">Committees</a>,\n",
       " <a class=\"notranslate\" href=\"/senate/Senator.asp?GA=101&amp;MemberID=2542\">William E. Brady</a>,\n",
       " <a href=\"SenatorBills.asp?MemberID=2542\">Bills</a>,\n",
       " <a href=\"SenCommittees.asp?MemberID=2542\">Committees</a>,\n",
       " <a class=\"notranslate\" href=\"/senate/Senator.asp?GA=101&amp;MemberID=2611\">Melinda Bush</a>,\n",
       " <a href=\"SenatorBills.asp?MemberID=2611\">Bills</a>,\n",
       " <a href=\"SenCommittees.asp?MemberID=2611\">Committees</a>,\n",
       " <a class=\"notranslate\" href=\"/senate/Senator.asp?GA=101&amp;MemberID=2677\">Cristina Castro</a>,\n",
       " <a href=\"SenatorBills.asp?MemberID=2677\">Bills</a>,\n",
       " <a href=\"SenCommittees.asp?MemberID=2677\">Committees</a>,\n",
       " <a class=\"notranslate\" href=\"/senate/Senator.asp?GA=101&amp;MemberID=2549\">Jacqueline Y. Collins</a>,\n",
       " <a href=\"SenatorBills.asp?MemberID=2549\">Bills</a>,\n",
       " <a href=\"SenCommittees.asp?MemberID=2549\">Committees</a>,\n",
       " <a class=\"notranslate\" href=\"/senate/Senator.asp?GA=101&amp;MemberID=2722\">Rachelle Crowe</a>,\n",
       " <a href=\"SenatorBills.asp?MemberID=2722\">Bills</a>,\n",
       " <a href=\"SenCommittees.asp?MemberID=2722\">Committees</a>,\n",
       " <a class=\"notranslate\" href=\"/senate/Senator.asp?GA=101&amp;MemberID=2534\">John J. Cullerton</a>,\n",
       " <a href=\"SenatorBills.asp?MemberID=2534\">Bills</a>,\n",
       " <a href=\"SenCommittees.asp?MemberID=2534\">Committees</a>,\n",
       " <a class=\"notranslate\" href=\"/senate/Senator.asp?GA=101&amp;MemberID=2613\">Thomas Cullerton</a>,\n",
       " <a href=\"SenatorBills.asp?MemberID=2613\">Bills</a>,\n",
       " <a href=\"SenCommittees.asp?MemberID=2613\">Committees</a>,\n",
       " <a class=\"notranslate\" href=\"/senate/Senator.asp?GA=101&amp;MemberID=2614\">Bill Cunningham</a>,\n",
       " <a href=\"SenatorBills.asp?MemberID=2614\">Bills</a>,\n",
       " <a href=\"SenCommittees.asp?MemberID=2614\">Committees</a>,\n",
       " <a class=\"notranslate\" href=\"/senate/Senator.asp?GA=101&amp;MemberID=2699\">John F. Curran</a>,\n",
       " <a href=\"SenatorBills.asp?MemberID=2699\">Bills</a>,\n",
       " <a href=\"SenCommittees.asp?MemberID=2699\">Committees</a>,\n",
       " <a class=\"notranslate\" href=\"/senate/Senator.asp?GA=101&amp;MemberID=2709\">Donald P. DeWitte</a>,\n",
       " <a href=\"SenatorBills.asp?MemberID=2709\">Bills</a>,\n",
       " <a href=\"SenCommittees.asp?MemberID=2709\">Committees</a>,\n",
       " <a class=\"notranslate\" href=\"/senate/Senator.asp?GA=101&amp;MemberID=2725\">Laura Ellman</a>,\n",
       " <a href=\"SenatorBills.asp?MemberID=2725\">Bills</a>,\n",
       " <a href=\"SenCommittees.asp?MemberID=2725\">Committees</a>,\n",
       " <a class=\"notranslate\" href=\"/senate/Senator.asp?GA=101&amp;MemberID=2724\">Laura Fine</a>,\n",
       " <a href=\"SenatorBills.asp?MemberID=2724\">Bills</a>,\n",
       " <a href=\"SenCommittees.asp?MemberID=2724\">Committees</a>,\n",
       " <a class=\"notranslate\" href=\"/senate/Senator.asp?GA=101&amp;MemberID=2678\">Dale Fowler</a>,\n",
       " <a href=\"SenatorBills.asp?MemberID=2678\">Bills</a>,\n",
       " <a href=\"SenCommittees.asp?MemberID=2678\">Committees</a>,\n",
       " <a class=\"notranslate\" href=\"/senate/Senator.asp?GA=101&amp;MemberID=2726\">Ann Gillespie</a>,\n",
       " <a href=\"SenatorBills.asp?MemberID=2726\">Bills</a>,\n",
       " <a href=\"SenCommittees.asp?MemberID=2726\">Committees</a>,\n",
       " <a class=\"notranslate\" href=\"/senate/Senator.asp?GA=101&amp;MemberID=2727\">Suzy Glowiak</a>,\n",
       " <a href=\"SenatorBills.asp?MemberID=2727\">Bills</a>,\n",
       " <a href=\"SenCommittees.asp?MemberID=2727\">Committees</a>,\n",
       " <a class=\"notranslate\" href=\"/senate/Senator.asp?GA=101&amp;MemberID=2551\">Don Harmon</a>,\n",
       " <a href=\"SenatorBills.asp?MemberID=2551\">Bills</a>,\n",
       " <a href=\"SenCommittees.asp?MemberID=2551\">Committees</a>,\n",
       " <a class=\"notranslate\" href=\"/senate/Senator.asp?GA=101&amp;MemberID=2615\">Napoleon Harris, III</a>,\n",
       " <a href=\"SenatorBills.asp?MemberID=2615\">Bills</a>,\n",
       " <a href=\"SenCommittees.asp?MemberID=2615\">Committees</a>,\n",
       " <a class=\"notranslate\" href=\"/senate/Senator.asp?GA=101&amp;MemberID=2616\">Michael E. Hastings</a>,\n",
       " <a href=\"SenatorBills.asp?MemberID=2616\">Bills</a>,\n",
       " <a href=\"SenCommittees.asp?MemberID=2616\">Committees</a>,\n",
       " <a class=\"notranslate\" href=\"/senate/Senator.asp?GA=101&amp;MemberID=2564\">Linda Holmes</a>,\n",
       " <a href=\"SenatorBills.asp?MemberID=2564\">Bills</a>,\n",
       " <a href=\"SenCommittees.asp?MemberID=2564\">Committees</a>,\n",
       " <a class=\"notranslate\" href=\"/senate/Senator.asp?GA=101&amp;MemberID=2554\">Mattie Hunter</a>,\n",
       " <a href=\"SenatorBills.asp?MemberID=2554\">Bills</a>,\n",
       " <a href=\"SenCommittees.asp?MemberID=2554\">Committees</a>,\n",
       " <a class=\"notranslate\" href=\"/senate/Senator.asp?GA=101&amp;MemberID=2578\">Toi W. Hutchinson</a>,\n",
       " <a href=\"SenatorBills.asp?MemberID=2578\">Bills</a>,\n",
       " <a href=\"SenCommittees.asp?MemberID=2578\">Committees</a>,\n",
       " <a class=\"notranslate\" href=\"/senate/Senator.asp?GA=101&amp;MemberID=2579\">Emil Jones, III</a>,\n",
       " <a href=\"SenatorBills.asp?MemberID=2579\">Bills</a>,\n",
       " <a href=\"SenCommittees.asp?MemberID=2579\">Committees</a>,\n",
       " <a class=\"notranslate\" href=\"/senate/Senator.asp?GA=101&amp;MemberID=2565\">David Koehler</a>,\n",
       " <a href=\"SenatorBills.asp?MemberID=2565\">Bills</a>,\n",
       " <a href=\"SenCommittees.asp?MemberID=2565\">Committees</a>,\n",
       " <a class=\"notranslate\" href=\"/senate/Senator.asp?GA=101&amp;MemberID=2600\">Steven M. Landek</a>,\n",
       " <a href=\"SenatorBills.asp?MemberID=2600\">Bills</a>,\n",
       " <a href=\"SenCommittees.asp?MemberID=2600\">Committees</a>,\n",
       " <a class=\"notranslate\" href=\"/senate/Senator.asp?GA=101&amp;MemberID=2535\">Kimberly A. Lightford</a>,\n",
       " <a href=\"SenatorBills.asp?MemberID=2535\">Bills</a>,\n",
       " <a href=\"SenCommittees.asp?MemberID=2535\">Committees</a>,\n",
       " <a class=\"notranslate\" href=\"/senate/Senator.asp?GA=101&amp;MemberID=2536\">Terry Link</a>,\n",
       " <a href=\"SenatorBills.asp?MemberID=2536\">Bills</a>,\n",
       " <a href=\"SenCommittees.asp?MemberID=2536\">Committees</a>,\n",
       " <a class=\"notranslate\" href=\"/senate/Senator.asp?GA=101&amp;MemberID=2617\">Andy Manar</a>,\n",
       " <a href=\"SenatorBills.asp?MemberID=2617\">Bills</a>,\n",
       " <a href=\"SenCommittees.asp?MemberID=2617\">Committees</a>,\n",
       " <a class=\"notranslate\" href=\"/senate/Senator.asp?GA=101&amp;MemberID=2550\">Iris Y. Martinez</a>,\n",
       " <a href=\"SenatorBills.asp?MemberID=2550\">Bills</a>,\n",
       " <a href=\"SenCommittees.asp?MemberID=2550\">Committees</a>,\n",
       " <a class=\"notranslate\" href=\"/senate/Senator.asp?GA=101&amp;MemberID=2728\">Steve McClure</a>,\n",
       " <a href=\"SenatorBills.asp?MemberID=2728\">Bills</a>,\n",
       " <a href=\"SenCommittees.asp?MemberID=2728\">Committees</a>,\n",
       " <a class=\"notranslate\" href=\"/senate/Senator.asp?GA=101&amp;MemberID=2672\">Dan McConchie</a>,\n",
       " <a href=\"SenatorBills.asp?MemberID=2672\">Bills</a>,\n",
       " <a href=\"SenCommittees.asp?MemberID=2672\">Committees</a>,\n",
       " <a class=\"notranslate\" href=\"/senate/Senator.asp?GA=101&amp;MemberID=2603\">Pat McGuire</a>,\n",
       " <a href=\"SenatorBills.asp?MemberID=2603\">Bills</a>,\n",
       " <a href=\"SenCommittees.asp?MemberID=2603\">Committees</a>,\n",
       " <a class=\"notranslate\" href=\"/senate/Senator.asp?GA=101&amp;MemberID=2619\">Julie A. Morrison</a>,\n",
       " <a href=\"SenatorBills.asp?MemberID=2619\">Bills</a>,\n",
       " <a href=\"SenCommittees.asp?MemberID=2619\">Committees</a>,\n",
       " <a class=\"notranslate\" href=\"/senate/Senator.asp?GA=101&amp;MemberID=2586\">John G. Mulroe</a>,\n",
       " <a href=\"SenatorBills.asp?MemberID=2586\">Bills</a>,\n",
       " <a href=\"SenCommittees.asp?MemberID=2586\">Committees</a>,\n",
       " <a class=\"notranslate\" href=\"/senate/Senator.asp?GA=101&amp;MemberID=2537\">Antonio Muñoz</a>,\n",
       " <a href=\"SenatorBills.asp?MemberID=2537\">Bills</a>,\n",
       " <a href=\"SenCommittees.asp?MemberID=2537\">Committees</a>,\n",
       " <a class=\"notranslate\" href=\"/senate/Senator.asp?GA=101&amp;MemberID=2668\">Laura M. Murphy</a>,\n",
       " <a href=\"SenatorBills.asp?MemberID=2668\">Bills</a>,\n",
       " <a href=\"SenCommittees.asp?MemberID=2668\">Committees</a>,\n",
       " <a class=\"notranslate\" href=\"/senate/Senator.asp?GA=101&amp;MemberID=2620\">Jim Oberweis</a>,\n",
       " <a href=\"SenatorBills.asp?MemberID=2620\">Bills</a>,\n",
       " <a href=\"SenCommittees.asp?MemberID=2620\">Committees</a>,\n",
       " <a class=\"notranslate\" href=\"/senate/Senator.asp?GA=101&amp;MemberID=2729\">Robert Peters</a>,\n",
       " <a href=\"SenatorBills.asp?MemberID=2729\">Bills</a>,\n",
       " <a href=\"SenCommittees.asp?MemberID=2729\">Committees</a>,\n",
       " <a class=\"notranslate\" href=\"/senate/Senator.asp?GA=101&amp;MemberID=2730\">Jason Plummer</a>,\n",
       " <a href=\"SenatorBills.asp?MemberID=2730\">Bills</a>,\n",
       " <a href=\"SenCommittees.asp?MemberID=2730\">Committees</a>,\n",
       " <a class=\"notranslate\" href=\"/senate/Senator.asp?GA=101&amp;MemberID=2588\">Sue Rezin</a>,\n",
       " <a href=\"SenatorBills.asp?MemberID=2588\">Bills</a>,\n",
       " <a href=\"SenCommittees.asp?MemberID=2588\">Committees</a>,\n",
       " <a class=\"notranslate\" href=\"/senate/Senator.asp?GA=101&amp;MemberID=2552\">Dale A. Righter</a>,\n",
       " <a href=\"SenatorBills.asp?MemberID=2552\">Bills</a>,\n",
       " <a href=\"SenCommittees.asp?MemberID=2552\">Committees</a>,\n",
       " <a class=\"notranslate\" href=\"/senate/Senator.asp?GA=101&amp;MemberID=2621\">Chapin Rose</a>,\n",
       " <a href=\"SenatorBills.asp?MemberID=2621\">Bills</a>,\n",
       " <a href=\"SenCommittees.asp?MemberID=2621\">Committees</a>,\n",
       " <a class=\"notranslate\" href=\"/senate/Senator.asp?GA=101&amp;MemberID=2548\">Martin A. Sandoval</a>,\n",
       " <a href=\"SenatorBills.asp?MemberID=2548\">Bills</a>,\n",
       " <a href=\"SenCommittees.asp?MemberID=2548\">Committees</a>,\n",
       " <a class=\"notranslate\" href=\"/senate/Senator.asp?GA=101&amp;MemberID=2679\">Paul Schimpf</a>,\n",
       " <a href=\"SenatorBills.asp?MemberID=2679\">Bills</a>,\n",
       " <a href=\"SenCommittees.asp?MemberID=2679\">Committees</a>,\n",
       " <a class=\"notranslate\" href=\"/senate/Senator.asp?GA=101&amp;MemberID=2703\">Elgie R. Sims, Jr.</a>,\n",
       " <a href=\"SenatorBills.asp?MemberID=2703\">Bills</a>,\n",
       " <a href=\"SenCommittees.asp?MemberID=2703\">Committees</a>,\n",
       " <a class=\"notranslate\" href=\"/senate/Senator.asp?GA=101&amp;MemberID=2622\">Steve Stadelman</a>,\n",
       " <a href=\"SenatorBills.asp?MemberID=2622\">Bills</a>,\n",
       " <a href=\"SenCommittees.asp?MemberID=2622\">Committees</a>,\n",
       " <a class=\"notranslate\" href=\"/senate/Senator.asp?GA=101&amp;MemberID=2571\">Heather A. Steans</a>,\n",
       " <a href=\"SenatorBills.asp?MemberID=2571\">Bills</a>,\n",
       " <a href=\"SenCommittees.asp?MemberID=2571\">Committees</a>,\n",
       " <a class=\"notranslate\" href=\"/senate/Senator.asp?GA=101&amp;MemberID=2720\">Brian W. Stewart</a>,\n",
       " <a href=\"SenatorBills.asp?MemberID=2720\">Bills</a>,\n",
       " <a href=\"SenCommittees.asp?MemberID=2720\">Committees</a>,\n",
       " <a class=\"notranslate\" href=\"/senate/Senator.asp?GA=101&amp;MemberID=2540\">Dave Syverson</a>,\n",
       " <a href=\"SenatorBills.asp?MemberID=2540\">Bills</a>,\n",
       " <a href=\"SenCommittees.asp?MemberID=2540\">Committees</a>,\n",
       " <a class=\"notranslate\" href=\"/senate/Senator.asp?GA=101&amp;MemberID=2680\">Jil Tracy</a>,\n",
       " <a href=\"SenatorBills.asp?MemberID=2680\">Bills</a>,\n",
       " <a href=\"SenCommittees.asp?MemberID=2680\">Committees</a>,\n",
       " <a class=\"notranslate\" href=\"/senate/Senator.asp?GA=101&amp;MemberID=2623\">Patricia Van Pelt</a>,\n",
       " <a href=\"SenatorBills.asp?MemberID=2623\">Bills</a>,\n",
       " <a href=\"SenCommittees.asp?MemberID=2623\">Committees</a>,\n",
       " <a class=\"notranslate\" href=\"/senate/Senator.asp?GA=101&amp;MemberID=2731\">Ram Villivalam</a>,\n",
       " <a href=\"SenatorBills.asp?MemberID=2731\">Bills</a>,\n",
       " <a href=\"SenCommittees.asp?MemberID=2731\">Committees</a>,\n",
       " <a class=\"notranslate\" href=\"/senate/Senator.asp?GA=101&amp;MemberID=2669\">Chuck Weaver</a>,\n",
       " <a href=\"SenatorBills.asp?MemberID=2669\">Bills</a>,\n",
       " <a href=\"SenCommittees.asp?MemberID=2669\">Committees</a>,\n",
       " <a class=\"notranslate\" href=\"/senate/Senator.asp?GA=101&amp;MemberID=2711\">Craig Wilcox</a>,\n",
       " <a href=\"SenatorBills.asp?MemberID=2711\">Bills</a>,\n",
       " <a href=\"SenCommittees.asp?MemberID=2711\">Committees</a>,\n",
       " <a href=\"/reports/rptMemberList.asp?gaid=15&amp;ChamberId=S\" target=\"new\">click here</a>,\n",
       " <a class=\"footer\" href=\"/\" title=\"View the General Assembly web site home page\">Home</a>,\n",
       " <a class=\"footer\" href=\"/legislation/\" title=\"View Legislation and Laws\">Legislation &amp; Laws</a>,\n",
       " <a class=\"footer\" href=\"/house/default.asp\" title=\"View information regarding House of Representatives\">House</a>,\n",
       " <a class=\"footer\" href=\"/senate/default.asp\" title=\"View information regarding Senate\">Senate</a>,\n",
       " <a class=\"footer\" href=\"/mylegislation/default.asp\" title=\"Set up customized queries, create reports for tracking, etc.\">My Legislation</a>,\n",
       " <a class=\"footer\" href=\"/disclaimer.asp\" title=\"Disclaimers regarding the Illinois General Assembly web site\">Disclaimers</a>,\n",
       " <a class=\"footer\" href=\"/contact.asp\" title=\"Contact the Illinois General Assembly Web Support Staff\">Email</a>]"
      ]
     },
     "execution_count": 6,
     "metadata": {},
     "output_type": "execute_result"
    }
   ],
   "source": [
    "# find all elements in a certain tag\n",
    "# these two lines of code are equivilant\n",
    "\n",
    "soup.find_all(\"a\")"
   ]
  },
  {
   "cell_type": "markdown",
   "metadata": {},
   "source": [
    "**NB**: Because `find_all()` is the most popular method in the Beautiful Soup search API, you can use a shortcut for it. If you treat the BeautifulSoup object as though it were a function, then it’s the same as calling `find_all()` on that object. \n",
    "\n",
    "These two lines of code are equivalent:"
   ]
  },
  {
   "cell_type": "code",
   "execution_count": 26,
   "metadata": {},
   "outputs": [
    {
     "data": {
      "text/plain": [
       "[<a class=\"goog-logo-link\" href=\"https://translate.google.com\" target=\"_blank\"><img alt=\"Google Translate\" height=\"14\" src=\"https://www.gstatic.com/images/branding/googlelogo/1x/googlelogo_color_42x16dp.png\" style=\"padding-right: 3px;\" width=\"37\"/>Translate</a>,\n",
       " <a href=\"/default.asp\"><img alt=\"Illinois General Assembly\" border=\"0\" height=\"49\" src=\"/images/logo_sm.gif\" width=\"462\"/></a>,\n",
       " <a class=\"mainmenu\" href=\"/\">Home</a>,\n",
       " <a class=\"mainmenu\" href=\"/legislation/\" onblur=\"HM_f_PopDown('elMenu1')\" onfocus=\"HM_f_PopUp('elMenu1',event)\" onmouseout=\"HM_f_PopDown('elMenu1')\" onmouseover=\"HM_f_PopUp('elMenu1',event)\">Legislation &amp; Laws</a>,\n",
       " <a class=\"mainmenu\" href=\"/senate/\" onblur=\"HM_f_PopDown('elMenu3')\" onfocus=\"HM_f_PopUp('elMenu3',event)\" onmouseout=\"HM_f_PopDown('elMenu3')\" onmouseover=\"HM_f_PopUp('elMenu3',event)\">Senate</a>,\n",
       " <a class=\"mainmenu\" href=\"/house/\" onblur=\"HM_f_PopDown('elMenu2')\" onfocus=\"HM_f_PopUp('elMenu2',event)\" onmouseout=\"HM_f_PopDown('elMenu2')\" onmouseover=\"HM_f_PopUp('elMenu2',event)\">House</a>,\n",
       " <a class=\"mainmenu\" href=\"/mylegislation/\" onblur=\"HM_f_PopDown('elMenu4')\" onfocus=\"HM_f_PopUp('elMenu4',event)\" onmouseout=\"HM_f_PopDown('elMenu4')\" onmouseover=\"HM_f_PopUp('elMenu4',event)\">My Legislation</a>,\n",
       " <a class=\"mainmenu\" href=\"/sitemap.asp\">Site Map</a>,\n",
       " <a class=\"sidemenu\" href=\"/senate/default.asp\">  Members  </a>,\n",
       " <a class=\"sidemenu\" href=\"/senate/committees/default.asp\">  Committees  </a>,\n",
       " <a class=\"sidemenu\" href=\"/senate/schedules/default.asp\">  Schedules  </a>,\n",
       " <a class=\"sidemenu\" href=\"/senate/journals/default.asp\">  Journals  </a>,\n",
       " <a class=\"sidemenu\" href=\"/senate/transcripts/default.asp\">  Transcripts  </a>,\n",
       " <a class=\"sidemenu\" href=\"/senate/rules.asp\">  Rules  </a>,\n",
       " <a class=\"sidemenu\" href=\"/senateaudvid.asp\">  Live Audio/Video  </a>,\n",
       " <a href=\"101st_Senate_Leadership.pdf\">Leadership</a>,\n",
       " <a href=\"101st_Senate_Officers.pdf\">Officers</a>,\n",
       " <a href=\"101st_Senate_Seating_Chart.pdf\">Senate Seating Chart</a>,\n",
       " <a class=\"filetab\" href=\"javascript:Sort('LastName','',101);\" title=\"Sort by Senator\">Senator</a>,\n",
       " <a class=\"filetab\" href=\"javascript:Sort('DistrictNumber','',101);\" title=\"Sort by District\">District</a>,\n",
       " <a class=\"filetab\" href=\"javascript:Sort('Party','',101);\" title=\"Sort by Party\">Party</a>,\n",
       " <a class=\"notranslate\" href=\"/senate/Senator.asp?GA=101&amp;MemberID=2664\">Neil Anderson</a>,\n",
       " <a href=\"SenatorBills.asp?MemberID=2664\">Bills</a>,\n",
       " <a href=\"SenCommittees.asp?MemberID=2664\">Committees</a>,\n",
       " <a class=\"notranslate\" href=\"/senate/Senator.asp?GA=101&amp;MemberID=2673\">Omar Aquino</a>,\n",
       " <a href=\"SenatorBills.asp?MemberID=2673\">Bills</a>,\n",
       " <a href=\"SenCommittees.asp?MemberID=2673\">Committees</a>,\n",
       " <a class=\"notranslate\" href=\"/senate/Senator.asp?GA=101&amp;MemberID=2608\">Jason A. Barickman</a>,\n",
       " <a href=\"SenatorBills.asp?MemberID=2608\">Bills</a>,\n",
       " <a href=\"SenCommittees.asp?MemberID=2608\">Committees</a>,\n",
       " <a class=\"notranslate\" href=\"/senate/Senator.asp?GA=101&amp;MemberID=2721\">Christopher Belt</a>,\n",
       " <a href=\"SenatorBills.asp?MemberID=2721\">Bills</a>,\n",
       " <a href=\"SenCommittees.asp?MemberID=2721\">Committees</a>,\n",
       " <a class=\"notranslate\" href=\"/senate/Senator.asp?GA=101&amp;MemberID=2665\">Scott M. Bennett</a>,\n",
       " <a href=\"SenatorBills.asp?MemberID=2665\">Bills</a>,\n",
       " <a href=\"SenCommittees.asp?MemberID=2665\">Committees</a>,\n",
       " <a class=\"notranslate\" href=\"/senate/Senator.asp?GA=101&amp;MemberID=2610\">Jennifer Bertino-Tarrant</a>,\n",
       " <a href=\"SenatorBills.asp?MemberID=2610\">Bills</a>,\n",
       " <a href=\"SenCommittees.asp?MemberID=2610\">Committees</a>,\n",
       " <a class=\"notranslate\" href=\"/senate/Senator.asp?GA=101&amp;MemberID=2542\">William E. Brady</a>,\n",
       " <a href=\"SenatorBills.asp?MemberID=2542\">Bills</a>,\n",
       " <a href=\"SenCommittees.asp?MemberID=2542\">Committees</a>,\n",
       " <a class=\"notranslate\" href=\"/senate/Senator.asp?GA=101&amp;MemberID=2611\">Melinda Bush</a>,\n",
       " <a href=\"SenatorBills.asp?MemberID=2611\">Bills</a>,\n",
       " <a href=\"SenCommittees.asp?MemberID=2611\">Committees</a>,\n",
       " <a class=\"notranslate\" href=\"/senate/Senator.asp?GA=101&amp;MemberID=2677\">Cristina Castro</a>,\n",
       " <a href=\"SenatorBills.asp?MemberID=2677\">Bills</a>,\n",
       " <a href=\"SenCommittees.asp?MemberID=2677\">Committees</a>,\n",
       " <a class=\"notranslate\" href=\"/senate/Senator.asp?GA=101&amp;MemberID=2549\">Jacqueline Y. Collins</a>,\n",
       " <a href=\"SenatorBills.asp?MemberID=2549\">Bills</a>,\n",
       " <a href=\"SenCommittees.asp?MemberID=2549\">Committees</a>,\n",
       " <a class=\"notranslate\" href=\"/senate/Senator.asp?GA=101&amp;MemberID=2722\">Rachelle Crowe</a>,\n",
       " <a href=\"SenatorBills.asp?MemberID=2722\">Bills</a>,\n",
       " <a href=\"SenCommittees.asp?MemberID=2722\">Committees</a>,\n",
       " <a class=\"notranslate\" href=\"/senate/Senator.asp?GA=101&amp;MemberID=2534\">John J. Cullerton</a>,\n",
       " <a href=\"SenatorBills.asp?MemberID=2534\">Bills</a>,\n",
       " <a href=\"SenCommittees.asp?MemberID=2534\">Committees</a>,\n",
       " <a class=\"notranslate\" href=\"/senate/Senator.asp?GA=101&amp;MemberID=2613\">Thomas Cullerton</a>,\n",
       " <a href=\"SenatorBills.asp?MemberID=2613\">Bills</a>,\n",
       " <a href=\"SenCommittees.asp?MemberID=2613\">Committees</a>,\n",
       " <a class=\"notranslate\" href=\"/senate/Senator.asp?GA=101&amp;MemberID=2614\">Bill Cunningham</a>,\n",
       " <a href=\"SenatorBills.asp?MemberID=2614\">Bills</a>,\n",
       " <a href=\"SenCommittees.asp?MemberID=2614\">Committees</a>,\n",
       " <a class=\"notranslate\" href=\"/senate/Senator.asp?GA=101&amp;MemberID=2699\">John F. Curran</a>,\n",
       " <a href=\"SenatorBills.asp?MemberID=2699\">Bills</a>,\n",
       " <a href=\"SenCommittees.asp?MemberID=2699\">Committees</a>,\n",
       " <a class=\"notranslate\" href=\"/senate/Senator.asp?GA=101&amp;MemberID=2709\">Donald P. DeWitte</a>,\n",
       " <a href=\"SenatorBills.asp?MemberID=2709\">Bills</a>,\n",
       " <a href=\"SenCommittees.asp?MemberID=2709\">Committees</a>,\n",
       " <a class=\"notranslate\" href=\"/senate/Senator.asp?GA=101&amp;MemberID=2725\">Laura Ellman</a>,\n",
       " <a href=\"SenatorBills.asp?MemberID=2725\">Bills</a>,\n",
       " <a href=\"SenCommittees.asp?MemberID=2725\">Committees</a>,\n",
       " <a class=\"notranslate\" href=\"/senate/Senator.asp?GA=101&amp;MemberID=2724\">Laura Fine</a>,\n",
       " <a href=\"SenatorBills.asp?MemberID=2724\">Bills</a>,\n",
       " <a href=\"SenCommittees.asp?MemberID=2724\">Committees</a>,\n",
       " <a class=\"notranslate\" href=\"/senate/Senator.asp?GA=101&amp;MemberID=2678\">Dale Fowler</a>,\n",
       " <a href=\"SenatorBills.asp?MemberID=2678\">Bills</a>,\n",
       " <a href=\"SenCommittees.asp?MemberID=2678\">Committees</a>,\n",
       " <a class=\"notranslate\" href=\"/senate/Senator.asp?GA=101&amp;MemberID=2726\">Ann Gillespie</a>,\n",
       " <a href=\"SenatorBills.asp?MemberID=2726\">Bills</a>,\n",
       " <a href=\"SenCommittees.asp?MemberID=2726\">Committees</a>,\n",
       " <a class=\"notranslate\" href=\"/senate/Senator.asp?GA=101&amp;MemberID=2727\">Suzy Glowiak</a>,\n",
       " <a href=\"SenatorBills.asp?MemberID=2727\">Bills</a>,\n",
       " <a href=\"SenCommittees.asp?MemberID=2727\">Committees</a>,\n",
       " <a class=\"notranslate\" href=\"/senate/Senator.asp?GA=101&amp;MemberID=2551\">Don Harmon</a>,\n",
       " <a href=\"SenatorBills.asp?MemberID=2551\">Bills</a>,\n",
       " <a href=\"SenCommittees.asp?MemberID=2551\">Committees</a>,\n",
       " <a class=\"notranslate\" href=\"/senate/Senator.asp?GA=101&amp;MemberID=2615\">Napoleon Harris, III</a>,\n",
       " <a href=\"SenatorBills.asp?MemberID=2615\">Bills</a>,\n",
       " <a href=\"SenCommittees.asp?MemberID=2615\">Committees</a>,\n",
       " <a class=\"notranslate\" href=\"/senate/Senator.asp?GA=101&amp;MemberID=2616\">Michael E. Hastings</a>,\n",
       " <a href=\"SenatorBills.asp?MemberID=2616\">Bills</a>,\n",
       " <a href=\"SenCommittees.asp?MemberID=2616\">Committees</a>,\n",
       " <a class=\"notranslate\" href=\"/senate/Senator.asp?GA=101&amp;MemberID=2564\">Linda Holmes</a>,\n",
       " <a href=\"SenatorBills.asp?MemberID=2564\">Bills</a>,\n",
       " <a href=\"SenCommittees.asp?MemberID=2564\">Committees</a>,\n",
       " <a class=\"notranslate\" href=\"/senate/Senator.asp?GA=101&amp;MemberID=2554\">Mattie Hunter</a>,\n",
       " <a href=\"SenatorBills.asp?MemberID=2554\">Bills</a>,\n",
       " <a href=\"SenCommittees.asp?MemberID=2554\">Committees</a>,\n",
       " <a class=\"notranslate\" href=\"/senate/Senator.asp?GA=101&amp;MemberID=2578\">Toi W. Hutchinson</a>,\n",
       " <a href=\"SenatorBills.asp?MemberID=2578\">Bills</a>,\n",
       " <a href=\"SenCommittees.asp?MemberID=2578\">Committees</a>,\n",
       " <a class=\"notranslate\" href=\"/senate/Senator.asp?GA=101&amp;MemberID=2579\">Emil Jones, III</a>,\n",
       " <a href=\"SenatorBills.asp?MemberID=2579\">Bills</a>,\n",
       " <a href=\"SenCommittees.asp?MemberID=2579\">Committees</a>,\n",
       " <a class=\"notranslate\" href=\"/senate/Senator.asp?GA=101&amp;MemberID=2565\">David Koehler</a>,\n",
       " <a href=\"SenatorBills.asp?MemberID=2565\">Bills</a>,\n",
       " <a href=\"SenCommittees.asp?MemberID=2565\">Committees</a>,\n",
       " <a class=\"notranslate\" href=\"/senate/Senator.asp?GA=101&amp;MemberID=2600\">Steven M. Landek</a>,\n",
       " <a href=\"SenatorBills.asp?MemberID=2600\">Bills</a>,\n",
       " <a href=\"SenCommittees.asp?MemberID=2600\">Committees</a>,\n",
       " <a class=\"notranslate\" href=\"/senate/Senator.asp?GA=101&amp;MemberID=2535\">Kimberly A. Lightford</a>,\n",
       " <a href=\"SenatorBills.asp?MemberID=2535\">Bills</a>,\n",
       " <a href=\"SenCommittees.asp?MemberID=2535\">Committees</a>,\n",
       " <a class=\"notranslate\" href=\"/senate/Senator.asp?GA=101&amp;MemberID=2536\">Terry Link</a>,\n",
       " <a href=\"SenatorBills.asp?MemberID=2536\">Bills</a>,\n",
       " <a href=\"SenCommittees.asp?MemberID=2536\">Committees</a>,\n",
       " <a class=\"notranslate\" href=\"/senate/Senator.asp?GA=101&amp;MemberID=2617\">Andy Manar</a>,\n",
       " <a href=\"SenatorBills.asp?MemberID=2617\">Bills</a>,\n",
       " <a href=\"SenCommittees.asp?MemberID=2617\">Committees</a>,\n",
       " <a class=\"notranslate\" href=\"/senate/Senator.asp?GA=101&amp;MemberID=2550\">Iris Y. Martinez</a>,\n",
       " <a href=\"SenatorBills.asp?MemberID=2550\">Bills</a>,\n",
       " <a href=\"SenCommittees.asp?MemberID=2550\">Committees</a>,\n",
       " <a class=\"notranslate\" href=\"/senate/Senator.asp?GA=101&amp;MemberID=2728\">Steve McClure</a>,\n",
       " <a href=\"SenatorBills.asp?MemberID=2728\">Bills</a>,\n",
       " <a href=\"SenCommittees.asp?MemberID=2728\">Committees</a>,\n",
       " <a class=\"notranslate\" href=\"/senate/Senator.asp?GA=101&amp;MemberID=2672\">Dan McConchie</a>,\n",
       " <a href=\"SenatorBills.asp?MemberID=2672\">Bills</a>,\n",
       " <a href=\"SenCommittees.asp?MemberID=2672\">Committees</a>,\n",
       " <a class=\"notranslate\" href=\"/senate/Senator.asp?GA=101&amp;MemberID=2603\">Pat McGuire</a>,\n",
       " <a href=\"SenatorBills.asp?MemberID=2603\">Bills</a>,\n",
       " <a href=\"SenCommittees.asp?MemberID=2603\">Committees</a>,\n",
       " <a class=\"notranslate\" href=\"/senate/Senator.asp?GA=101&amp;MemberID=2619\">Julie A. Morrison</a>,\n",
       " <a href=\"SenatorBills.asp?MemberID=2619\">Bills</a>,\n",
       " <a href=\"SenCommittees.asp?MemberID=2619\">Committees</a>,\n",
       " <a class=\"notranslate\" href=\"/senate/Senator.asp?GA=101&amp;MemberID=2586\">John G. Mulroe</a>,\n",
       " <a href=\"SenatorBills.asp?MemberID=2586\">Bills</a>,\n",
       " <a href=\"SenCommittees.asp?MemberID=2586\">Committees</a>,\n",
       " <a class=\"notranslate\" href=\"/senate/Senator.asp?GA=101&amp;MemberID=2537\">Antonio Muñoz</a>,\n",
       " <a href=\"SenatorBills.asp?MemberID=2537\">Bills</a>,\n",
       " <a href=\"SenCommittees.asp?MemberID=2537\">Committees</a>,\n",
       " <a class=\"notranslate\" href=\"/senate/Senator.asp?GA=101&amp;MemberID=2668\">Laura M. Murphy</a>,\n",
       " <a href=\"SenatorBills.asp?MemberID=2668\">Bills</a>,\n",
       " <a href=\"SenCommittees.asp?MemberID=2668\">Committees</a>,\n",
       " <a class=\"notranslate\" href=\"/senate/Senator.asp?GA=101&amp;MemberID=2620\">Jim Oberweis</a>,\n",
       " <a href=\"SenatorBills.asp?MemberID=2620\">Bills</a>,\n",
       " <a href=\"SenCommittees.asp?MemberID=2620\">Committees</a>,\n",
       " <a class=\"notranslate\" href=\"/senate/Senator.asp?GA=101&amp;MemberID=2729\">Robert Peters</a>,\n",
       " <a href=\"SenatorBills.asp?MemberID=2729\">Bills</a>,\n",
       " <a href=\"SenCommittees.asp?MemberID=2729\">Committees</a>,\n",
       " <a class=\"notranslate\" href=\"/senate/Senator.asp?GA=101&amp;MemberID=2730\">Jason Plummer</a>,\n",
       " <a href=\"SenatorBills.asp?MemberID=2730\">Bills</a>,\n",
       " <a href=\"SenCommittees.asp?MemberID=2730\">Committees</a>,\n",
       " <a class=\"notranslate\" href=\"/senate/Senator.asp?GA=101&amp;MemberID=2588\">Sue Rezin</a>,\n",
       " <a href=\"SenatorBills.asp?MemberID=2588\">Bills</a>,\n",
       " <a href=\"SenCommittees.asp?MemberID=2588\">Committees</a>,\n",
       " <a class=\"notranslate\" href=\"/senate/Senator.asp?GA=101&amp;MemberID=2552\">Dale A. Righter</a>,\n",
       " <a href=\"SenatorBills.asp?MemberID=2552\">Bills</a>,\n",
       " <a href=\"SenCommittees.asp?MemberID=2552\">Committees</a>,\n",
       " <a class=\"notranslate\" href=\"/senate/Senator.asp?GA=101&amp;MemberID=2621\">Chapin Rose</a>,\n",
       " <a href=\"SenatorBills.asp?MemberID=2621\">Bills</a>,\n",
       " <a href=\"SenCommittees.asp?MemberID=2621\">Committees</a>,\n",
       " <a class=\"notranslate\" href=\"/senate/Senator.asp?GA=101&amp;MemberID=2548\">Martin A. Sandoval</a>,\n",
       " <a href=\"SenatorBills.asp?MemberID=2548\">Bills</a>,\n",
       " <a href=\"SenCommittees.asp?MemberID=2548\">Committees</a>,\n",
       " <a class=\"notranslate\" href=\"/senate/Senator.asp?GA=101&amp;MemberID=2679\">Paul Schimpf</a>,\n",
       " <a href=\"SenatorBills.asp?MemberID=2679\">Bills</a>,\n",
       " <a href=\"SenCommittees.asp?MemberID=2679\">Committees</a>,\n",
       " <a class=\"notranslate\" href=\"/senate/Senator.asp?GA=101&amp;MemberID=2703\">Elgie R. Sims, Jr.</a>,\n",
       " <a href=\"SenatorBills.asp?MemberID=2703\">Bills</a>,\n",
       " <a href=\"SenCommittees.asp?MemberID=2703\">Committees</a>,\n",
       " <a class=\"notranslate\" href=\"/senate/Senator.asp?GA=101&amp;MemberID=2622\">Steve Stadelman</a>,\n",
       " <a href=\"SenatorBills.asp?MemberID=2622\">Bills</a>,\n",
       " <a href=\"SenCommittees.asp?MemberID=2622\">Committees</a>,\n",
       " <a class=\"notranslate\" href=\"/senate/Senator.asp?GA=101&amp;MemberID=2571\">Heather A. Steans</a>,\n",
       " <a href=\"SenatorBills.asp?MemberID=2571\">Bills</a>,\n",
       " <a href=\"SenCommittees.asp?MemberID=2571\">Committees</a>,\n",
       " <a class=\"notranslate\" href=\"/senate/Senator.asp?GA=101&amp;MemberID=2720\">Brian W. Stewart</a>,\n",
       " <a href=\"SenatorBills.asp?MemberID=2720\">Bills</a>,\n",
       " <a href=\"SenCommittees.asp?MemberID=2720\">Committees</a>,\n",
       " <a class=\"notranslate\" href=\"/senate/Senator.asp?GA=101&amp;MemberID=2540\">Dave Syverson</a>,\n",
       " <a href=\"SenatorBills.asp?MemberID=2540\">Bills</a>,\n",
       " <a href=\"SenCommittees.asp?MemberID=2540\">Committees</a>,\n",
       " <a class=\"notranslate\" href=\"/senate/Senator.asp?GA=101&amp;MemberID=2680\">Jil Tracy</a>,\n",
       " <a href=\"SenatorBills.asp?MemberID=2680\">Bills</a>,\n",
       " <a href=\"SenCommittees.asp?MemberID=2680\">Committees</a>,\n",
       " <a class=\"notranslate\" href=\"/senate/Senator.asp?GA=101&amp;MemberID=2623\">Patricia Van Pelt</a>,\n",
       " <a href=\"SenatorBills.asp?MemberID=2623\">Bills</a>,\n",
       " <a href=\"SenCommittees.asp?MemberID=2623\">Committees</a>,\n",
       " <a class=\"notranslate\" href=\"/senate/Senator.asp?GA=101&amp;MemberID=2731\">Ram Villivalam</a>,\n",
       " <a href=\"SenatorBills.asp?MemberID=2731\">Bills</a>,\n",
       " <a href=\"SenCommittees.asp?MemberID=2731\">Committees</a>,\n",
       " <a class=\"notranslate\" href=\"/senate/Senator.asp?GA=101&amp;MemberID=2669\">Chuck Weaver</a>,\n",
       " <a href=\"SenatorBills.asp?MemberID=2669\">Bills</a>,\n",
       " <a href=\"SenCommittees.asp?MemberID=2669\">Committees</a>,\n",
       " <a class=\"notranslate\" href=\"/senate/Senator.asp?GA=101&amp;MemberID=2711\">Craig Wilcox</a>,\n",
       " <a href=\"SenatorBills.asp?MemberID=2711\">Bills</a>,\n",
       " <a href=\"SenCommittees.asp?MemberID=2711\">Committees</a>,\n",
       " <a href=\"/reports/rptMemberList.asp?gaid=15&amp;ChamberId=S\" target=\"new\">click here</a>,\n",
       " <a class=\"footer\" href=\"/\" title=\"View the General Assembly web site home page\">Home</a>,\n",
       " <a class=\"footer\" href=\"/legislation/\" title=\"View Legislation and Laws\">Legislation &amp; Laws</a>,\n",
       " <a class=\"footer\" href=\"/house/default.asp\" title=\"View information regarding House of Representatives\">House</a>,\n",
       " <a class=\"footer\" href=\"/senate/default.asp\" title=\"View information regarding Senate\">Senate</a>,\n",
       " <a class=\"footer\" href=\"/mylegislation/default.asp\" title=\"Set up customized queries, create reports for tracking, etc.\">My Legislation</a>,\n",
       " <a class=\"footer\" href=\"/disclaimer.asp\" title=\"Disclaimers regarding the Illinois General Assembly web site\">Disclaimers</a>,\n",
       " <a class=\"footer\" href=\"/contact.asp\" title=\"Contact the Illinois General Assembly Web Support Staff\">Email</a>]"
      ]
     },
     "execution_count": 26,
     "metadata": {},
     "output_type": "execute_result"
    }
   ],
   "source": [
    "# soup.find_all(\"a\")\n",
    "soup(\"a\")"
   ]
  },
  {
   "cell_type": "markdown",
   "metadata": {},
   "source": [
    "That's a lot! Many elements on a page will have the same html tag. For instance, if you search for everything with the `a` tag, you're likely to get a lot of stuff, much of which you don't want. What if we wanted to search for HTML tags ONLY with certain attributes, like particular CSS classes? \n",
    "\n",
    "We can do this by adding an additional argument to the `find_all`\n",
    "\n",
    "In the example below, we are finding all the `a` tags, and then filtering those with `class = \"sidemenu\"`."
   ]
  },
  {
   "cell_type": "code",
   "execution_count": 27,
   "metadata": {},
   "outputs": [
    {
     "data": {
      "text/plain": [
       "[<a class=\"sidemenu\" href=\"/senate/default.asp\">  Members  </a>,\n",
       " <a class=\"sidemenu\" href=\"/senate/committees/default.asp\">  Committees  </a>,\n",
       " <a class=\"sidemenu\" href=\"/senate/schedules/default.asp\">  Schedules  </a>,\n",
       " <a class=\"sidemenu\" href=\"/senate/journals/default.asp\">  Journals  </a>,\n",
       " <a class=\"sidemenu\" href=\"/senate/transcripts/default.asp\">  Transcripts  </a>,\n",
       " <a class=\"sidemenu\" href=\"/senate/rules.asp\">  Rules  </a>,\n",
       " <a class=\"sidemenu\" href=\"/senateaudvid.asp\">  Live Audio/Video  </a>]"
      ]
     },
     "execution_count": 27,
     "metadata": {},
     "output_type": "execute_result"
    }
   ],
   "source": [
    "# Get only the 'a' tags in 'sidemenu' class\n",
    "soup(\"a\", class_=\"sidemenu\")"
   ]
  },
  {
   "cell_type": "markdown",
   "metadata": {},
   "source": [
    "Oftentimes a more efficient way to search and find things on a website is by **CSS selector.** For this we have to use a different method, `select()`. Just pass a string into the `.select()` to get all elements with that string as a valid CSS selector.\n",
    "\n",
    "In the example above, we can use \"a.sidemenu\" as a CSS selector, which returns all `a` tags with class `sidemenu`."
   ]
  },
  {
   "cell_type": "code",
   "execution_count": 13,
   "metadata": {},
   "outputs": [
    {
     "data": {
      "text/plain": [
       "[<a class=\"sidemenu\" href=\"/senate/default.asp\">  Members  </a>,\n",
       " <a class=\"sidemenu\" href=\"/senate/committees/default.asp\">  Committees  </a>,\n",
       " <a class=\"sidemenu\" href=\"/senate/schedules/default.asp\">  Schedules  </a>,\n",
       " <a class=\"sidemenu\" href=\"/senate/journals/default.asp\">  Journals  </a>,\n",
       " <a class=\"sidemenu\" href=\"/senate/transcripts/default.asp\">  Transcripts  </a>,\n",
       " <a class=\"sidemenu\" href=\"/senate/rules.asp\">  Rules  </a>,\n",
       " <a class=\"sidemenu\" href=\"/senate/audvid.asp\">  Live Audio/Video  </a>]"
      ]
     },
     "execution_count": 13,
     "metadata": {},
     "output_type": "execute_result"
    }
   ],
   "source": [
    "# get elements with \"a.sidemenu\" CSS Selector.\n",
    "soup.select(\"a.sidemenu\")"
   ]
  },
  {
   "cell_type": "markdown",
   "metadata": {},
   "source": [
    "## Challenge 1\n",
    "\n",
    "Find all the `<a>` elements in class `mainmenu`"
   ]
  },
  {
   "cell_type": "code",
   "execution_count": 16,
   "metadata": {},
   "outputs": [
    {
     "data": {
      "text/plain": [
       "[<a class=\"mainmenu\" href=\"/\">Home</a>,\n",
       " <a class=\"mainmenu\" href=\"/legislation/\" onblur=\"HM_f_PopDown('elMenu1')\" onfocus=\"HM_f_PopUp('elMenu1',event)\" onmouseout=\"HM_f_PopDown('elMenu1')\" onmouseover=\"HM_f_PopUp('elMenu1',event)\">Legislation &amp; Laws</a>,\n",
       " <a class=\"mainmenu\" href=\"/senate/\" onblur=\"HM_f_PopDown('elMenu3')\" onfocus=\"HM_f_PopUp('elMenu3',event)\" onmouseout=\"HM_f_PopDown('elMenu3')\" onmouseover=\"HM_f_PopUp('elMenu3',event)\">Senate</a>,\n",
       " <a class=\"mainmenu\" href=\"/house/\" onblur=\"HM_f_PopDown('elMenu2')\" onfocus=\"HM_f_PopUp('elMenu2',event)\" onmouseout=\"HM_f_PopDown('elMenu2')\" onmouseover=\"HM_f_PopUp('elMenu2',event)\">House</a>,\n",
       " <a class=\"mainmenu\" href=\"/mylegislation/\" onblur=\"HM_f_PopDown('elMenu4')\" onfocus=\"HM_f_PopUp('elMenu4',event)\" onmouseout=\"HM_f_PopDown('elMenu4')\" onmouseover=\"HM_f_PopUp('elMenu4',event)\">My Legislation</a>,\n",
       " <a class=\"mainmenu\" href=\"/sitemap.asp\">Site Map</a>]"
      ]
     },
     "execution_count": 16,
     "metadata": {},
     "output_type": "execute_result"
    }
   ],
   "source": [
    "# SOLUTION\n",
    "soup.select(\"a.mainmenu\")"
   ]
  },
  {
   "cell_type": "markdown",
   "metadata": {},
   "source": [
    "## 1.4 Get Attributes and Text of Elements\n",
    "\n",
    "Once we identify elements, we want the access information in that element. Oftentimes this means two things:\n",
    "\n",
    "1. Text\n",
    "2. Attributes\n",
    "\n",
    "Getting the text inside an element is easy. All we have to do is use the `text` member of a `tag` object:"
   ]
  },
  {
   "cell_type": "code",
   "execution_count": 28,
   "metadata": {},
   "outputs": [
    {
     "data": {
      "text/plain": [
       "[<a class=\"sidemenu\" href=\"/senate/default.asp\">  Members  </a>,\n",
       " <a class=\"sidemenu\" href=\"/senate/committees/default.asp\">  Committees  </a>,\n",
       " <a class=\"sidemenu\" href=\"/senate/schedules/default.asp\">  Schedules  </a>,\n",
       " <a class=\"sidemenu\" href=\"/senate/journals/default.asp\">  Journals  </a>,\n",
       " <a class=\"sidemenu\" href=\"/senate/transcripts/default.asp\">  Transcripts  </a>,\n",
       " <a class=\"sidemenu\" href=\"/senate/rules.asp\">  Rules  </a>,\n",
       " <a class=\"sidemenu\" href=\"/senateaudvid.asp\">  Live Audio/Video  </a>]"
      ]
     },
     "execution_count": 28,
     "metadata": {},
     "output_type": "execute_result"
    }
   ],
   "source": [
    "# this is a list\n",
    "soup.select(\"a.sidemenu\") # use select function of the soup object; what can you do with a list?"
   ]
  },
  {
   "cell_type": "code",
   "execution_count": 30,
   "metadata": {},
   "outputs": [],
   "source": [
    "# we first want to get an individual tag object\n",
    "first_link = soup.select(\"a.sidemenu\")[0] # specify order of index (i.e. 0, 1, 2)"
   ]
  },
  {
   "cell_type": "code",
   "execution_count": 32,
   "metadata": {},
   "outputs": [
    {
     "data": {
      "text/plain": [
       "<a class=\"sidemenu\" href=\"/senate/default.asp\">  Members  </a>"
      ]
     },
     "execution_count": 32,
     "metadata": {},
     "output_type": "execute_result"
    }
   ],
   "source": [
    "first_link # what is this?"
   ]
  },
  {
   "cell_type": "code",
   "execution_count": 33,
   "metadata": {},
   "outputs": [
    {
     "data": {
      "text/plain": [
       "bs4.element.Tag"
      ]
     },
     "execution_count": 33,
     "metadata": {},
     "output_type": "execute_result"
    }
   ],
   "source": [
    "# check out its class; it's a bs4 element tag\n",
    "type(first_link)"
   ]
  },
  {
   "cell_type": "markdown",
   "metadata": {},
   "source": [
    "It's a tag! Which means it has a `text` member:"
   ]
  },
  {
   "cell_type": "code",
   "execution_count": 34,
   "metadata": {},
   "outputs": [
    {
     "name": "stdout",
     "output_type": "stream",
     "text": [
      "  Members  \n"
     ]
    }
   ],
   "source": [
    "print(first_link.text)"
   ]
  },
  {
   "cell_type": "markdown",
   "metadata": {},
   "source": [
    "Sometimes we want the value of certain attributes. This is particularly relevant for `a` tags, or links, where the `href` attribute tells us where the link goes.\n",
    "\n",
    "You can access a tag’s attributes by treating the tag like a dictionary:"
   ]
  },
  {
   "cell_type": "code",
   "execution_count": 10,
   "metadata": {},
   "outputs": [
    {
     "name": "stdout",
     "output_type": "stream",
     "text": [
      "/senate/default.asp\n"
     ]
    }
   ],
   "source": [
    "print(first_link['href'])"
   ]
  },
  {
   "cell_type": "markdown",
   "metadata": {},
   "source": [
    "## Challenge 2\n",
    "\n",
    "Find all the `href` attributes (url) from the mainmenu."
   ]
  },
  {
   "cell_type": "code",
   "execution_count": 36,
   "metadata": {
    "scrolled": true
   },
   "outputs": [
    {
     "data": {
      "text/plain": [
       "['/',\n",
       " '/legislation/',\n",
       " '/senate/',\n",
       " '/house/',\n",
       " '/mylegislation/',\n",
       " '/sitemap.asp']"
      ]
     },
     "execution_count": 36,
     "metadata": {},
     "output_type": "execute_result"
    }
   ],
   "source": [
    "# SOLUTION\n",
    "[link['href'] for link in soup.select(\"a.mainmenu\")]"
   ]
  },
  {
   "cell_type": "code",
   "execution_count": 38,
   "metadata": {},
   "outputs": [
    {
     "name": "stdout",
     "output_type": "stream",
     "text": [
      "/\n",
      "/legislation/\n",
      "/senate/\n",
      "/house/\n",
      "/mylegislation/\n",
      "/sitemap.asp\n"
     ]
    }
   ],
   "source": [
    "for link in soup.select(\"a.mainmenu\"):\n",
    "    print(link['href'])"
   ]
  },
  {
   "cell_type": "markdown",
   "metadata": {},
   "source": [
    "# Part 2\n",
    "*****\n",
    "\n",
    "Believe it or not, that's all you need to scrape a website. Let's apply these skills to scrape http://www.ilga.gov/senate/default.asp?GA=98\n",
    "\n",
    "**NB: we're just going to scrape the 98th general assembly.**\n",
    "\n",
    "Our goal is to scrape information on each senator, including their:\n",
    "    - name\n",
    "    - district\n",
    "    - party\n",
    "\n",
    "## 2.1 First, make the get request and soup it."
   ]
  },
  {
   "cell_type": "code",
   "execution_count": 39,
   "metadata": {},
   "outputs": [],
   "source": [
    "# make a GET request\n",
    "req = requests.get('http://www.ilga.gov/senate/default.asp?GA=98')\n",
    "# read the content of the server’s response\n",
    "src = req.text\n",
    "# soup it\n",
    "soup = BeautifulSoup(src, \"lxml\")"
   ]
  },
  {
   "cell_type": "markdown",
   "metadata": {},
   "source": [
    "## 2.2 Find the right elements and text.\n",
    "\n",
    "Now let's try to get a list of rows in that table. Remember that rows are identified by the `tr` tag."
   ]
  },
  {
   "cell_type": "code",
   "execution_count": 40,
   "metadata": {},
   "outputs": [
    {
     "data": {
      "text/plain": [
       "73"
      ]
     },
     "execution_count": 40,
     "metadata": {},
     "output_type": "execute_result"
    }
   ],
   "source": [
    "# get all tr elements\n",
    "rows = soup.find_all(\"tr\")\n",
    "len(rows)"
   ]
  },
  {
   "cell_type": "markdown",
   "metadata": {},
   "source": [
    "But remember, `find_all` gets all the elements with the `tr` tag. We can use smart CSS selectors to get only the rows we want."
   ]
  },
  {
   "cell_type": "code",
   "execution_count": 41,
   "metadata": {},
   "outputs": [
    {
     "name": "stdout",
     "output_type": "stream",
     "text": [
      "<tr>\n",
      " <td bgcolor=\"white\" class=\"detail\" width=\"40%\">\n",
      "  <a class=\"notranslate\" href=\"/senate/Senator.asp?GA=98&amp;MemberID=1911\">\n",
      "   Pamela J. Althoff\n",
      "  </a>\n",
      " </td>\n",
      " <td align=\"center\" bgcolor=\"white\" class=\"detail\" width=\"15%\">\n",
      "  <a href=\"SenatorBills.asp?GA=98&amp;MemberID=1911\">\n",
      "   Bills\n",
      "  </a>\n",
      " </td>\n",
      " <td align=\"center\" bgcolor=\"white\" class=\"detail\" width=\"15%\">\n",
      "  <a href=\"SenCommittees.asp?GA=98&amp;MemberID=1911\">\n",
      "   Committees\n",
      "  </a>\n",
      " </td>\n",
      " <td align=\"center\" bgcolor=\"white\" class=\"detail\" width=\"15%\">\n",
      "  32\n",
      " </td>\n",
      " <td align=\"center\" bgcolor=\"white\" class=\"detail\" width=\"15%\">\n",
      "  R\n",
      " </td>\n",
      "</tr>\n",
      "\n"
     ]
    }
   ],
   "source": [
    "# returns every ‘tr tr tr’ css selector in the page\n",
    "rows = soup.select('tr tr tr')\n",
    "print(rows[2].prettify())"
   ]
  },
  {
   "cell_type": "markdown",
   "metadata": {},
   "source": [
    "We can use the `select` method on anything. Let's say we want to find everything with the CSS selector `td.detail` in an item of the list we created above."
   ]
  },
  {
   "cell_type": "code",
   "execution_count": 46,
   "metadata": {},
   "outputs": [
    {
     "data": {
      "text/plain": [
       "<tr><td bgcolor=\"white\" class=\"detail\" width=\"40%\"><a class=\"notranslate\" href=\"/senate/Senator.asp?GA=98&amp;MemberID=1911\">Pamela J. Althoff</a></td><td align=\"center\" bgcolor=\"white\" class=\"detail\" width=\"15%\"><a href=\"SenatorBills.asp?GA=98&amp;MemberID=1911\">Bills</a></td><td align=\"center\" bgcolor=\"white\" class=\"detail\" width=\"15%\"><a href=\"SenCommittees.asp?GA=98&amp;MemberID=1911\">Committees</a></td><td align=\"center\" bgcolor=\"white\" class=\"detail\" width=\"15%\">32</td><td align=\"center\" bgcolor=\"white\" class=\"detail\" width=\"15%\">R</td></tr>"
      ]
     },
     "execution_count": 46,
     "metadata": {},
     "output_type": "execute_result"
    }
   ],
   "source": [
    "# select only those 'td' tags with class 'detail'\n",
    "row = rows[2]\n",
    "row"
   ]
  },
  {
   "cell_type": "code",
   "execution_count": 47,
   "metadata": {},
   "outputs": [
    {
     "data": {
      "text/plain": [
       "[<td bgcolor=\"white\" class=\"detail\" width=\"40%\"><a class=\"notranslate\" href=\"/senate/Senator.asp?GA=98&amp;MemberID=1911\">Pamela J. Althoff</a></td>,\n",
       " <td align=\"center\" bgcolor=\"white\" class=\"detail\" width=\"15%\"><a href=\"SenatorBills.asp?GA=98&amp;MemberID=1911\">Bills</a></td>,\n",
       " <td align=\"center\" bgcolor=\"white\" class=\"detail\" width=\"15%\"><a href=\"SenCommittees.asp?GA=98&amp;MemberID=1911\">Committees</a></td>,\n",
       " <td align=\"center\" bgcolor=\"white\" class=\"detail\" width=\"15%\">32</td>,\n",
       " <td align=\"center\" bgcolor=\"white\" class=\"detail\" width=\"15%\">R</td>]"
      ]
     },
     "execution_count": 47,
     "metadata": {},
     "output_type": "execute_result"
    }
   ],
   "source": [
    "detailCells = row.select('td.detail') # selecting returns a list object\n",
    "detailCells"
   ]
  },
  {
   "cell_type": "code",
   "execution_count": 45,
   "metadata": {
    "scrolled": false
   },
   "outputs": [
    {
     "data": {
      "text/plain": [
       "[<td bgcolor=\"white\" class=\"detail\" width=\"40%\"><a class=\"notranslate\" href=\"/senate/Senator.asp?GA=98&amp;MemberID=1911\">Pamela J. Althoff</a></td>,\n",
       " <td align=\"center\" bgcolor=\"white\" class=\"detail\" width=\"15%\"><a href=\"SenatorBills.asp?GA=98&amp;MemberID=1911\">Bills</a></td>,\n",
       " <td align=\"center\" bgcolor=\"white\" class=\"detail\" width=\"15%\"><a href=\"SenCommittees.asp?GA=98&amp;MemberID=1911\">Committees</a></td>,\n",
       " <td align=\"center\" bgcolor=\"white\" class=\"detail\" width=\"15%\">32</td>,\n",
       " <td align=\"center\" bgcolor=\"white\" class=\"detail\" width=\"15%\">R</td>]"
      ]
     },
     "execution_count": 45,
     "metadata": {},
     "output_type": "execute_result"
    }
   ],
   "source": [
    "detailCells"
   ]
  },
  {
   "cell_type": "markdown",
   "metadata": {},
   "source": [
    "Most of the time, we're interested in the actual **text** of a website, not its tags. Remember, to get the text of an HTML element, use the `text` member."
   ]
  },
  {
   "cell_type": "code",
   "execution_count": 48,
   "metadata": {},
   "outputs": [],
   "source": [
    "# Keep only the text in each of those cells\n",
    "rowData = [cell.text for cell in detailCells]"
   ]
  },
  {
   "cell_type": "markdown",
   "metadata": {},
   "source": [
    "Now we can combine the beautifulsoup tools with our basic python skills to scrape an entire web page."
   ]
  },
  {
   "cell_type": "code",
   "execution_count": 49,
   "metadata": {},
   "outputs": [
    {
     "name": "stdout",
     "output_type": "stream",
     "text": [
      "Pamela J. Althoff\n",
      "32\n",
      "R\n"
     ]
    }
   ],
   "source": [
    "# check em out\n",
    "print(rowData[0]) # Name\n",
    "print(rowData[3]) # district\n",
    "print(rowData[4]) # party"
   ]
  },
  {
   "cell_type": "markdown",
   "metadata": {},
   "source": [
    "## 2.3 Loop it all together\n",
    "\n",
    "Let's use a for loop to get 'em all!"
   ]
  },
  {
   "cell_type": "code",
   "execution_count": 50,
   "metadata": {},
   "outputs": [],
   "source": [
    "# make a GET request\n",
    "req = requests.get('http://www.ilga.gov/senate/default.asp?GA=98')\n",
    "\n",
    "# read the content of the server’s response\n",
    "src = req.text\n",
    "\n",
    "# soup it\n",
    "soup = BeautifulSoup(src, \"lxml\")\n",
    "\n",
    "# Create empty list to store our data\n",
    "members = []\n",
    "\n",
    "# returns every ‘tr tr tr’ css selector in the page\n",
    "rows = soup.select('tr tr tr')\n",
    "\n",
    "# loop through all rows\n",
    "for row in rows:\n",
    "    # select only those 'td' tags with class 'detail'\n",
    "    detailCells = row.select('td.detail')\n",
    "    \n",
    "    # get rid of junk rows\n",
    "    if len(detailCells) is not 5: \n",
    "        continue\n",
    "        \n",
    "    # Keep only the text in each of those cells\n",
    "    rowData = [cell.text for cell in detailCells]\n",
    "    \n",
    "    # Collect information\n",
    "    name = rowData[0]\n",
    "    district = int(rowData[3])\n",
    "    party = rowData[4]\n",
    "    \n",
    "    # Store in a tuple\n",
    "    tup = (name,district,party)\n",
    "    \n",
    "    # Append to list\n",
    "    members.append(tup)"
   ]
  },
  {
   "cell_type": "code",
   "execution_count": 19,
   "metadata": {},
   "outputs": [
    {
     "data": {
      "text/plain": [
       "61"
      ]
     },
     "execution_count": 19,
     "metadata": {},
     "output_type": "execute_result"
    }
   ],
   "source": [
    "len(members)"
   ]
  },
  {
   "cell_type": "code",
   "execution_count": 51,
   "metadata": {},
   "outputs": [
    {
     "data": {
      "text/plain": [
       "[('Pamela J. Althoff', 32, 'R'),\n",
       " ('Jason A. Barickman', 53, 'R'),\n",
       " ('Scott M Bennett', 52, 'D'),\n",
       " ('Jennifer Bertino-Tarrant', 49, 'D'),\n",
       " ('Daniel Biss', 9, 'D'),\n",
       " ('Tim Bivins', 45, 'R'),\n",
       " ('William E. Brady', 44, 'R'),\n",
       " ('Melinda Bush', 31, 'D'),\n",
       " ('James F. Clayborne, Jr.', 57, 'D'),\n",
       " ('Jacqueline Y. Collins', 16, 'D'),\n",
       " ('Michael Connelly', 21, 'R'),\n",
       " ('John J. Cullerton', 6, 'D'),\n",
       " ('Thomas Cullerton', 23, 'D'),\n",
       " ('Bill Cunningham', 18, 'D'),\n",
       " ('William Delgado', 2, 'D'),\n",
       " ('Kirk W. Dillard', 24, 'R'),\n",
       " ('Dan Duffy', 26, 'R'),\n",
       " ('Gary Forby', 59, 'D'),\n",
       " ('Michael W. Frerichs', 52, 'D'),\n",
       " ('William R. Haine', 56, 'D'),\n",
       " ('Don Harmon', 39, 'D'),\n",
       " ('Napoleon Harris, III', 15, 'D'),\n",
       " ('Michael E. Hastings', 19, 'D'),\n",
       " ('Linda Holmes', 42, 'D'),\n",
       " ('Mattie Hunter', 3, 'D'),\n",
       " ('Toi W. Hutchinson', 40, 'D'),\n",
       " ('Mike Jacobs', 36, 'D'),\n",
       " ('Emil Jones, III', 14, 'D'),\n",
       " ('David Koehler', 46, 'D'),\n",
       " ('Dan Kotowski', 28, 'D'),\n",
       " ('Darin M. LaHood', 37, 'R'),\n",
       " ('Steven M. Landek', 12, 'D'),\n",
       " ('Kimberly A. Lightford', 4, 'D'),\n",
       " ('Terry Link', 30, 'D'),\n",
       " ('David S. Luechtefeld', 58, 'R'),\n",
       " ('Andy Manar', 48, 'D'),\n",
       " ('Iris Y. Martinez', 20, 'D'),\n",
       " ('Wm. Sam McCann', 50, 'R'),\n",
       " ('Kyle McCarter', 54, 'R'),\n",
       " ('Karen McConnaughay', 33, 'R'),\n",
       " ('Pat McGuire', 43, 'D'),\n",
       " ('Julie A. Morrison', 29, 'D'),\n",
       " ('John G. Mulroe', 10, 'D'),\n",
       " ('Antonio Muñoz', 1, 'D'),\n",
       " ('Matt Murphy', 27, 'R'),\n",
       " ('Michael Noland', 22, 'D'),\n",
       " ('Chris Nybo', 24, 'R'),\n",
       " ('Jim Oberweis', 25, 'R'),\n",
       " ('Christine Radogno', 41, 'R'),\n",
       " ('Kwame Raoul', 13, 'D'),\n",
       " ('Sue Rezin', 38, 'R'),\n",
       " ('Dale A. Righter', 55, 'R'),\n",
       " ('Chapin Rose', 51, 'R'),\n",
       " ('Martin A. Sandoval', 11, 'D'),\n",
       " ('Ira I. Silverstein', 8, 'D'),\n",
       " ('Steve Stadelman', 34, 'D'),\n",
       " ('Heather A. Steans', 7, 'D'),\n",
       " ('John M. Sullivan', 47, 'D'),\n",
       " ('Dave Syverson', 35, 'R'),\n",
       " ('Donne E. Trotter', 17, 'D'),\n",
       " ('Patricia Van Pelt', 5, 'D')]"
      ]
     },
     "execution_count": 51,
     "metadata": {},
     "output_type": "execute_result"
    }
   ],
   "source": [
    "members"
   ]
  },
  {
   "cell_type": "markdown",
   "metadata": {},
   "source": [
    "## Challege 3: Get HREF element pointing to members' bills. \n",
    "\n",
    "The code above retrieves information on:  \n",
    "\n",
    "    - the senator's name\n",
    "    - their district number\n",
    "    - and their party\n",
    "\n",
    "We now want to retrieve the URL for each senator's list of bills. The format for the list of bills for a given senator is:\n",
    "\n",
    "http://www.ilga.gov/senate/SenatorBills.asp + ? + GA=98 + &MemberID=**_memberID_** + &Primary=True\n",
    "\n",
    "to get something like:\n",
    "\n",
    "http://www.ilga.gov/senate/SenatorBills.asp?MemberID=1911&GA=98&Primary=True\n",
    "\n",
    "You should be able to see that, unfortunately, _memberID_ is not currently something pulled out in our scraping code.\n",
    "\n",
    "Your initial task is to modify the code above so that we also **retrieve the full URL which points to the corresponding page of primary-sponsored bills**, for each member, and return it along with their name, district, and party.\n",
    "\n",
    "Tips: \n",
    "\n",
    "* To do this, you will want to get the appropriate anchor element (`<a>`) in each legislator's row of the table. You can again use the `.select()` method on the `row` object in the loop to do this — similar to the command that finds all of the `td.detail` cells in the row. Remember that we only want the link to the legislator's bills, not the committees or the legislator's profile page.\n",
    "* The anchor elements' HTML will look like `<a href=\"/senate/Senator.asp/...\">Bills</a>`. The string in the `href` attribute contains the **relative** link we are after. You can access an attribute of a BeatifulSoup `Tag` object the same way you access a Python dictionary: `anchor['attributeName']`. (See the <a href=\"http://www.crummy.com/software/BeautifulSoup/bs4/doc/#tag\">documentation</a> for more details).\n",
    "* NOTE: There are a _lot_ of different ways to use BeautifulSoup to get things done; whatever you need to do to pull that HREF out is fine. Posting on the etherpad is recommended for discussing different strategies."
   ]
  },
  {
   "cell_type": "code",
   "execution_count": 20,
   "metadata": {
    "collapsed": true
   },
   "outputs": [],
   "source": [
    "# SOLUTION\n",
    "\n",
    "# make a GET request\n",
    "req = requests.get('http://www.ilga.gov/senate/default.asp?GA=98')\n",
    "\n",
    "# read the content of the server’s response\n",
    "src = req.text\n",
    "\n",
    "# soup it\n",
    "soup = BeautifulSoup(src, \"lxml\")\n",
    "\n",
    "# Create empty list to store our data\n",
    "members = []\n",
    "\n",
    "# returns every ‘tr tr tr’ css selector in the page\n",
    "rows = soup.select('tr tr tr')\n",
    "\n",
    "# loop through all rows\n",
    "for row in rows:\n",
    "    # select only those 'td' tags with class 'detail'\n",
    "    detailCells = row.select('td.detail')\n",
    "    \n",
    "    # get rid of junk rows\n",
    "    if len(detailCells) is not 5: \n",
    "        continue\n",
    "        \n",
    "    # Keep only the text in each of those cells\n",
    "    rowData = [cell.text for cell in detailCells]\n",
    "    \n",
    "    # Collect information\n",
    "    name = rowData[0]\n",
    "    district = int(rowData[3])\n",
    "    party = rowData[4]\n",
    "    \n",
    "    # add href\n",
    "    href = row.select('a')[1]['href']\n",
    "    \n",
    "    # add full path\n",
    "    full_path = \"http://www.ilga.gov/senate/\" + href + \"&Primary=True\"\n",
    "    \n",
    "    # Store in a tuple\n",
    "    tup = (name,district,party, full_path)\n",
    "    \n",
    "    # Append to list\n",
    "    members.append(tup)"
   ]
  },
  {
   "cell_type": "code",
   "execution_count": 21,
   "metadata": {},
   "outputs": [
    {
     "data": {
      "text/plain": [
       "[('Pamela J. Althoff',\n",
       "  32,\n",
       "  'R',\n",
       "  'http://www.ilga.gov/senate/SenatorBills.asp?GA=98&MemberID=1911&Primary=True'),\n",
       " ('Jason A. Barickman',\n",
       "  53,\n",
       "  'R',\n",
       "  'http://www.ilga.gov/senate/SenatorBills.asp?GA=98&MemberID=2018&Primary=True'),\n",
       " ('Scott M Bennett',\n",
       "  52,\n",
       "  'D',\n",
       "  'http://www.ilga.gov/senate/SenatorBills.asp?GA=98&MemberID=2272&Primary=True'),\n",
       " ('Jennifer Bertino-Tarrant',\n",
       "  49,\n",
       "  'D',\n",
       "  'http://www.ilga.gov/senate/SenatorBills.asp?GA=98&MemberID=2022&Primary=True'),\n",
       " ('Daniel Biss',\n",
       "  9,\n",
       "  'D',\n",
       "  'http://www.ilga.gov/senate/SenatorBills.asp?GA=98&MemberID=2020&Primary=True')]"
      ]
     },
     "execution_count": 21,
     "metadata": {},
     "output_type": "execute_result"
    }
   ],
   "source": [
    "members[:5]"
   ]
  },
  {
   "cell_type": "markdown",
   "metadata": {},
   "source": [
    "## Challenge 4: Make a function\n",
    "\n",
    "Turn the code above into a function that accepts a URL, scrapes the URL for its senators, and returns a list of tuples containing information about each senator. "
   ]
  },
  {
   "cell_type": "code",
   "execution_count": 22,
   "metadata": {},
   "outputs": [],
   "source": [
    "# SOLUTION\n",
    "def get_members(url):\n",
    "    src = requests.get(url).text\n",
    "    soup = BeautifulSoup(src, \"lxml\")\n",
    "    rows = soup.select('tr')\n",
    "    members = []\n",
    "    for row in rows:\n",
    "        detailCells = row.select('td.detail')\n",
    "        if len(detailCells) is not 5:\n",
    "            continue\n",
    "        rowData = [cell.text for cell in detailCells]\n",
    "        name = rowData[0]\n",
    "        district = int(rowData[3])\n",
    "        party = rowData[4]\n",
    "        href = row.select('a')[1]['href']\n",
    "        full_path = \"http://www.ilga.gov/senate/\" + href + \"&Primary=True\"\n",
    "        tup = (name,district,party,full_path)\n",
    "        members.append(tup)\n",
    "    return(members)"
   ]
  },
  {
   "cell_type": "code",
   "execution_count": 23,
   "metadata": {},
   "outputs": [
    {
     "data": {
      "text/plain": [
       "61"
      ]
     },
     "execution_count": 23,
     "metadata": {},
     "output_type": "execute_result"
    }
   ],
   "source": [
    "# Test you code!\n",
    "senateMembers = get_members('http://www.ilga.gov/senate/default.asp?GA=98')\n",
    "len(senateMembers)"
   ]
  },
  {
   "cell_type": "markdown",
   "metadata": {},
   "source": [
    "# Part 3: Scrape Bills\n",
    "*****\n",
    "\n",
    "## 3.1 Writing a Scraper Function\n",
    "\n",
    "Now we want to scrape the webpages corresponding to bills sponsored by each bills.\n",
    "\n",
    "Write a function called `get_bills(url)` to parse a given Bills URL. This will involve:\n",
    "\n",
    "  - requesting the URL using the <a href=\"http://docs.python-requests.org/en/latest/\">`requests`</a> library\n",
    "  - using the features of the `BeautifulSoup` library to find all of the `<td>` elements with the class `billlist`\n",
    "  - return a _list_ of tuples, each with:\n",
    "      - description (2nd column)\n",
    "      - chamber (S or H) (3rd column)\n",
    "      - the last action (4th column)\n",
    "      - the last action date (5th column)\n",
    "      \n",
    "I've started the function for you. Fill in the rest."
   ]
  },
  {
   "cell_type": "code",
   "execution_count": 25,
   "metadata": {
    "collapsed": true
   },
   "outputs": [],
   "source": [
    "# SOLUTION\n",
    "def get_bills(url):\n",
    "    src = requests.get(url).text\n",
    "    soup = BeautifulSoup(src, \"lxml\")\n",
    "    rows = soup.select('tr tr tr')\n",
    "    bills = []\n",
    "    rowData = []\n",
    "    for row in rows:\n",
    "        detailCells = row.select('td.billlist')\n",
    "        if len(detailCells) is not 5:\n",
    "            continue\n",
    "        rowData = [cell.text for cell in row]\n",
    "        bill_id = rowData[0]\n",
    "        description = rowData[2]\n",
    "        champber = rowData[3]\n",
    "        last_action = rowData[4]\n",
    "        last_action_date = rowData[5] \n",
    "        tup = (bill_id,description,champber,last_action,last_action_date)\n",
    "        bills.append(tup)\n",
    "    return(bills)"
   ]
  },
  {
   "cell_type": "code",
   "execution_count": 30,
   "metadata": {},
   "outputs": [
    {
     "data": {
      "text/plain": [
       "[('SB27', 'MEDICAID BUDGET NOTE ACT', 'S', 'Session Sine Die', '1/13/2015'),\n",
       " ('SB28',\n",
       "  'HOMELESS VETERANS SHELTER ACT',\n",
       "  'S',\n",
       "  'Session Sine Die',\n",
       "  '1/13/2015'),\n",
       " ('SB29', 'ROAD FUND-NO TRANSFERS', 'S', 'Session Sine Die', '1/13/2015'),\n",
       " ('SB33',\n",
       "  'EPA-RULES-DOCUMENT SUBMISSION',\n",
       "  'S',\n",
       "  'Public Act . . . . . . . . . 98-0072',\n",
       "  '7/15/2013'),\n",
       " ('SB104',\n",
       "  'MIN WAGE-OVERTIME-ALTERN SHIFT',\n",
       "  'S',\n",
       "  'Session Sine Die',\n",
       "  '1/13/2015')]"
      ]
     },
     "execution_count": 30,
     "metadata": {},
     "output_type": "execute_result"
    }
   ],
   "source": [
    "# uncomment to test your code:\n",
    "test_url = senateMembers[0][3]\n",
    "get_bills(test_url)[0:5]"
   ]
  },
  {
   "cell_type": "markdown",
   "metadata": {},
   "source": [
    "## 3.2 Get all the bills\n",
    "\n",
    "Finally, create a dictionary `bills_dict` which maps a district number (the key) onto a list_of_bills (the value) eminating from that district. You can do this by looping over all of the senate members in `members_dict` and calling `get_bills()` for each of their associated bill URLs.\n",
    "\n",
    "NOTE: please call the function `time.sleep(0.5)` for each iteration of the loop, so that we don't destroy the state's web site."
   ]
  },
  {
   "cell_type": "code",
   "execution_count": null,
   "metadata": {},
   "outputs": [],
   "source": [
    "# SOLUTION\n",
    "bills_dict = {}\n",
    "for member in senateMembers[:5]:\n",
    "    bills_dict[member[1]] = get_bills(member[3])\n",
    "    time.sleep(0.5)"
   ]
  },
  {
   "cell_type": "code",
   "execution_count": null,
   "metadata": {},
   "outputs": [],
   "source": [
    "bills_dict[52]"
   ]
  },
  {
   "cell_type": "code",
   "execution_count": null,
   "metadata": {
    "collapsed": true
   },
   "outputs": [],
   "source": []
  }
 ],
 "metadata": {
  "kernelspec": {
   "display_name": "Python 3",
   "language": "python",
   "name": "python3"
  },
  "language_info": {
   "codemirror_mode": {
    "name": "ipython",
    "version": 3
   },
   "file_extension": ".py",
   "mimetype": "text/x-python",
   "name": "python",
   "nbconvert_exporter": "python",
   "pygments_lexer": "ipython3",
   "version": "3.7.0"
  }
 },
 "nbformat": 4,
 "nbformat_minor": 1
}
