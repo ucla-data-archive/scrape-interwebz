{
 "cells": [
  {
   "cell_type": "markdown",
   "id": "becoming-slovak",
   "metadata": {},
   "source": [
    "### Let's review what we've covered so far..."
   ]
  },
  {
   "cell_type": "code",
   "execution_count": 1,
   "id": "sixth-rough",
   "metadata": {},
   "outputs": [],
   "source": [
    "# Import required libraries\n",
    "from __future__ import division\n",
    "import requests\n",
    "import json\n",
    "import math\n",
    "import csv\n",
    "import matplotlib.pyplot as plt"
   ]
  },
  {
   "cell_type": "code",
   "execution_count": 2,
   "id": "sorted-stand",
   "metadata": {},
   "outputs": [],
   "source": [
    "# set key\n",
    "#key=\"be8992a420bfd16cf65e8757f77a5403:8:44644296\"\n",
    "key=\"JbPRNv59Mp7GKwRdAVDJcvWHghWQX6G7\"\n",
    "\n",
    "# set base url\n",
    "base_url=\"http://api.nytimes.com/svc/search/v2/articlesearch\"\n",
    "\n",
    "# set response format\n",
    "response_format=\".json\""
   ]
  },
  {
   "cell_type": "code",
   "execution_count": 5,
   "id": "northern-heaven",
   "metadata": {},
   "outputs": [],
   "source": [
    "#make request\n",
    "r = requests.get(base_url+response_format, params=search_params)"
   ]
  },
  {
   "cell_type": "code",
   "execution_count": 6,
   "id": "mysterious-injury",
   "metadata": {},
   "outputs": [],
   "source": [
    "# set date parameters here\n",
    "search_params = {\"q\":\"Duke Ellington\",\n",
    "                 \"api-key\":key,\n",
    "                 \"begin_date\": \"20150101\",\n",
    "                 \"end_date\": \"20151231\"}"
   ]
  },
  {
   "cell_type": "code",
   "execution_count": 11,
   "id": "south-hungarian",
   "metadata": {},
   "outputs": [],
   "source": [
    "# make request\n",
    "r = requests.get(base_url+response_format, params=search_params)"
   ]
  },
  {
   "cell_type": "code",
   "execution_count": 12,
   "id": "sustained-tolerance",
   "metadata": {},
   "outputs": [],
   "source": [
    "# convert to a? \n",
    "data=json.loads(r.text)"
   ]
  },
  {
   "cell_type": "code",
   "execution_count": null,
   "id": "valuable-eugene",
   "metadata": {},
   "outputs": [],
   "source": []
  }
 ],
 "metadata": {
  "kernelspec": {
   "display_name": "Python 3",
   "language": "python",
   "name": "python3"
  },
  "language_info": {
   "codemirror_mode": {
    "name": "ipython",
    "version": 3
   },
   "file_extension": ".py",
   "mimetype": "text/x-python",
   "name": "python",
   "nbconvert_exporter": "python",
   "pygments_lexer": "ipython3",
   "version": "3.8.3"
  }
 },
 "nbformat": 4,
 "nbformat_minor": 5
}
